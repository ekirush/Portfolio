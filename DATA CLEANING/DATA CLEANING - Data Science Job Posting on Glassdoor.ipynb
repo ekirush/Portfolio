{
 "cells": [
  {
   "cell_type": "code",
   "execution_count": 46,
   "id": "b6e34280",
   "metadata": {},
   "outputs": [
    {
     "name": "stdout",
     "output_type": "stream",
     "text": [
      "Dataset URL: https://www.kaggle.com/datasets/rashikrahmanpritom/data-science-job-posting-on-glassdoor\n",
      "License(s): CC0-1.0\n",
      "Downloading data-science-job-posting-on-glassdoor.zip to /home/ekirush/Documents/MyPortfolio/Portfolio/DATA CLEANING\n",
      "100%|███████████████████████████████████████| 1.53M/1.53M [00:02<00:00, 790kB/s]\n",
      "100%|███████████████████████████████████████| 1.53M/1.53M [00:02<00:00, 743kB/s]\n"
     ]
    }
   ],
   "source": [
    "# Import the necessary library\n",
    "import os\n",
    "\n",
    "# Ensure the Kaggle API credentials are set correctly\n",
    "os.environ['KAGGLE_CONFIG_DIR'] = os.path.expanduser('~/.kaggle')\n",
    "\n",
    "# Define the competition or dataset you want to download\n",
    "competition_name = 'rashikrahmanpritom/data-science-job-posting-on-glassdoor'\n",
    "\n",
    "# Use the Kaggle API to download the dataset\n",
    "# !kaggle competitions download -c {competition_name}\n",
    "\n",
    "# If you're downloading a dataset, use:\n",
    "# dataset_name = 'dataset-owner/dataset-name'\n",
    "!kaggle datasets download -d {competition_name} --force\n",
    "\n",
    "# Unzip the dataset if necessary\n",
    "import zipfile\n",
    "\n",
    "# Use the correct file path and name\n",
    "zip_file = '/home/ekirush/Documents/MyPortfolio/Portfolio/DATA CLEANING/data-science-job-posting-on-glassdoor.zip'\n",
    "with zipfile.ZipFile(zip_file, 'r') as zip_ref:\n",
    "    zip_ref.extractall('/home/ekirush/Documents/MyPortfolio/Portfolio/DATA CLEANING')\n"
   ]
  },
  {
   "cell_type": "code",
   "execution_count": 47,
   "id": "15d5795a",
   "metadata": {
    "execution": {
     "iopub.execute_input": "2024-07-22T14:27:53.577959Z",
     "iopub.status.busy": "2024-07-22T14:27:53.577506Z",
     "iopub.status.idle": "2024-07-22T14:27:53.582095Z",
     "shell.execute_reply": "2024-07-22T14:27:53.581055Z"
    },
    "papermill": {
     "duration": 0.027484,
     "end_time": "2024-07-22T14:27:53.584288",
     "exception": false,
     "start_time": "2024-07-22T14:27:53.556804",
     "status": "completed"
    },
    "tags": []
   },
   "outputs": [],
   "source": [
    "import numpy as np # linear algebra\n",
    "import pandas as pd # data processing, CSV file I/O (e.g. pd.read_csv)\n",
    "\n",
    "import re\n",
    "from datetime import datetime"
   ]
  },
  {
   "cell_type": "code",
   "execution_count": 48,
   "id": "19735eac",
   "metadata": {
    "execution": {
     "iopub.execute_input": "2024-07-22T14:27:53.627848Z",
     "iopub.status.busy": "2024-07-22T14:27:53.627562Z",
     "iopub.status.idle": "2024-07-22T14:27:53.760628Z",
     "shell.execute_reply": "2024-07-22T14:27:53.759749Z"
    },
    "papermill": {
     "duration": 0.157138,
     "end_time": "2024-07-22T14:27:53.762971",
     "exception": false,
     "start_time": "2024-07-22T14:27:53.605833",
     "status": "completed"
    },
    "tags": []
   },
   "outputs": [
    {
     "data": {
      "text/html": [
       "<div>\n",
       "<style scoped>\n",
       "    .dataframe tbody tr th:only-of-type {\n",
       "        vertical-align: middle;\n",
       "    }\n",
       "\n",
       "    .dataframe tbody tr th {\n",
       "        vertical-align: top;\n",
       "    }\n",
       "\n",
       "    .dataframe thead th {\n",
       "        text-align: right;\n",
       "    }\n",
       "</style>\n",
       "<table border=\"1\" class=\"dataframe\">\n",
       "  <thead>\n",
       "    <tr style=\"text-align: right;\">\n",
       "      <th></th>\n",
       "      <th>Job Title</th>\n",
       "      <th>Salary Estimate</th>\n",
       "      <th>Job Description</th>\n",
       "      <th>Rating</th>\n",
       "      <th>Company Name</th>\n",
       "      <th>Location</th>\n",
       "      <th>Headquarters</th>\n",
       "      <th>Size</th>\n",
       "      <th>Founded</th>\n",
       "      <th>Type of ownership</th>\n",
       "      <th>Industry</th>\n",
       "      <th>Sector</th>\n",
       "      <th>Revenue</th>\n",
       "      <th>Competitors</th>\n",
       "    </tr>\n",
       "    <tr>\n",
       "      <th>index</th>\n",
       "      <th></th>\n",
       "      <th></th>\n",
       "      <th></th>\n",
       "      <th></th>\n",
       "      <th></th>\n",
       "      <th></th>\n",
       "      <th></th>\n",
       "      <th></th>\n",
       "      <th></th>\n",
       "      <th></th>\n",
       "      <th></th>\n",
       "      <th></th>\n",
       "      <th></th>\n",
       "      <th></th>\n",
       "    </tr>\n",
       "  </thead>\n",
       "  <tbody>\n",
       "    <tr>\n",
       "      <th>0</th>\n",
       "      <td>Sr Data Scientist</td>\n",
       "      <td>$137K-$171K (Glassdoor est.)</td>\n",
       "      <td>Description\\n\\nThe Senior Data Scientist is re...</td>\n",
       "      <td>3.1</td>\n",
       "      <td>Healthfirst\\n3.1</td>\n",
       "      <td>New York, NY</td>\n",
       "      <td>New York, NY</td>\n",
       "      <td>1001 to 5000 employees</td>\n",
       "      <td>1993</td>\n",
       "      <td>Nonprofit Organization</td>\n",
       "      <td>Insurance Carriers</td>\n",
       "      <td>Insurance</td>\n",
       "      <td>Unknown / Non-Applicable</td>\n",
       "      <td>EmblemHealth, UnitedHealth Group, Aetna</td>\n",
       "    </tr>\n",
       "    <tr>\n",
       "      <th>1</th>\n",
       "      <td>Data Scientist</td>\n",
       "      <td>$137K-$171K (Glassdoor est.)</td>\n",
       "      <td>Secure our Nation, Ignite your Future\\n\\nJoin ...</td>\n",
       "      <td>4.2</td>\n",
       "      <td>ManTech\\n4.2</td>\n",
       "      <td>Chantilly, VA</td>\n",
       "      <td>Herndon, VA</td>\n",
       "      <td>5001 to 10000 employees</td>\n",
       "      <td>1968</td>\n",
       "      <td>Company - Public</td>\n",
       "      <td>Research &amp; Development</td>\n",
       "      <td>Business Services</td>\n",
       "      <td>$1 to $2 billion (USD)</td>\n",
       "      <td>-1</td>\n",
       "    </tr>\n",
       "    <tr>\n",
       "      <th>2</th>\n",
       "      <td>Data Scientist</td>\n",
       "      <td>$137K-$171K (Glassdoor est.)</td>\n",
       "      <td>Overview\\n\\n\\nAnalysis Group is one of the lar...</td>\n",
       "      <td>3.8</td>\n",
       "      <td>Analysis Group\\n3.8</td>\n",
       "      <td>Boston, MA</td>\n",
       "      <td>Boston, MA</td>\n",
       "      <td>1001 to 5000 employees</td>\n",
       "      <td>1981</td>\n",
       "      <td>Private Practice / Firm</td>\n",
       "      <td>Consulting</td>\n",
       "      <td>Business Services</td>\n",
       "      <td>$100 to $500 million (USD)</td>\n",
       "      <td>-1</td>\n",
       "    </tr>\n",
       "    <tr>\n",
       "      <th>3</th>\n",
       "      <td>Data Scientist</td>\n",
       "      <td>$137K-$171K (Glassdoor est.)</td>\n",
       "      <td>JOB DESCRIPTION:\\n\\nDo you have a passion for ...</td>\n",
       "      <td>3.5</td>\n",
       "      <td>INFICON\\n3.5</td>\n",
       "      <td>Newton, MA</td>\n",
       "      <td>Bad Ragaz, Switzerland</td>\n",
       "      <td>501 to 1000 employees</td>\n",
       "      <td>2000</td>\n",
       "      <td>Company - Public</td>\n",
       "      <td>Electrical &amp; Electronic Manufacturing</td>\n",
       "      <td>Manufacturing</td>\n",
       "      <td>$100 to $500 million (USD)</td>\n",
       "      <td>MKS Instruments, Pfeiffer Vacuum, Agilent Tech...</td>\n",
       "    </tr>\n",
       "    <tr>\n",
       "      <th>4</th>\n",
       "      <td>Data Scientist</td>\n",
       "      <td>$137K-$171K (Glassdoor est.)</td>\n",
       "      <td>Data Scientist\\nAffinity Solutions / Marketing...</td>\n",
       "      <td>2.9</td>\n",
       "      <td>Affinity Solutions\\n2.9</td>\n",
       "      <td>New York, NY</td>\n",
       "      <td>New York, NY</td>\n",
       "      <td>51 to 200 employees</td>\n",
       "      <td>1998</td>\n",
       "      <td>Company - Private</td>\n",
       "      <td>Advertising &amp; Marketing</td>\n",
       "      <td>Business Services</td>\n",
       "      <td>Unknown / Non-Applicable</td>\n",
       "      <td>Commerce Signals, Cardlytics, Yodlee</td>\n",
       "    </tr>\n",
       "    <tr>\n",
       "      <th>5</th>\n",
       "      <td>Data Scientist</td>\n",
       "      <td>$137K-$171K (Glassdoor est.)</td>\n",
       "      <td>About Us:\\n\\nHeadquartered in beautiful Santa ...</td>\n",
       "      <td>4.2</td>\n",
       "      <td>HG Insights\\n4.2</td>\n",
       "      <td>Santa Barbara, CA</td>\n",
       "      <td>Santa Barbara, CA</td>\n",
       "      <td>51 to 200 employees</td>\n",
       "      <td>2010</td>\n",
       "      <td>Company - Private</td>\n",
       "      <td>Computer Hardware &amp; Software</td>\n",
       "      <td>Information Technology</td>\n",
       "      <td>Unknown / Non-Applicable</td>\n",
       "      <td>-1</td>\n",
       "    </tr>\n",
       "    <tr>\n",
       "      <th>6</th>\n",
       "      <td>Data Scientist / Machine Learning Expert</td>\n",
       "      <td>$137K-$171K (Glassdoor est.)</td>\n",
       "      <td>Posting Title\\nData Scientist / Machine Learni...</td>\n",
       "      <td>3.9</td>\n",
       "      <td>Novartis\\n3.9</td>\n",
       "      <td>Cambridge, MA</td>\n",
       "      <td>Basel, Switzerland</td>\n",
       "      <td>10000+ employees</td>\n",
       "      <td>1996</td>\n",
       "      <td>Company - Public</td>\n",
       "      <td>Biotech &amp; Pharmaceuticals</td>\n",
       "      <td>Biotech &amp; Pharmaceuticals</td>\n",
       "      <td>$10+ billion (USD)</td>\n",
       "      <td>-1</td>\n",
       "    </tr>\n",
       "    <tr>\n",
       "      <th>7</th>\n",
       "      <td>Data Scientist</td>\n",
       "      <td>$137K-$171K (Glassdoor est.)</td>\n",
       "      <td>Introduction\\n\\nHave you always wanted to run ...</td>\n",
       "      <td>3.5</td>\n",
       "      <td>iRobot\\n3.5</td>\n",
       "      <td>Bedford, MA</td>\n",
       "      <td>Bedford, MA</td>\n",
       "      <td>1001 to 5000 employees</td>\n",
       "      <td>1990</td>\n",
       "      <td>Company - Public</td>\n",
       "      <td>Consumer Electronics &amp; Appliances Stores</td>\n",
       "      <td>Retail</td>\n",
       "      <td>$1 to $2 billion (USD)</td>\n",
       "      <td>-1</td>\n",
       "    </tr>\n",
       "    <tr>\n",
       "      <th>8</th>\n",
       "      <td>Staff Data Scientist - Analytics</td>\n",
       "      <td>$137K-$171K (Glassdoor est.)</td>\n",
       "      <td>Intuit is seeking a Staff Data Scientist to co...</td>\n",
       "      <td>4.4</td>\n",
       "      <td>Intuit - Data\\n4.4</td>\n",
       "      <td>San Diego, CA</td>\n",
       "      <td>Mountain View, CA</td>\n",
       "      <td>5001 to 10000 employees</td>\n",
       "      <td>1983</td>\n",
       "      <td>Company - Public</td>\n",
       "      <td>Computer Hardware &amp; Software</td>\n",
       "      <td>Information Technology</td>\n",
       "      <td>$2 to $5 billion (USD)</td>\n",
       "      <td>Square, PayPal, H&amp;R Block</td>\n",
       "    </tr>\n",
       "    <tr>\n",
       "      <th>9</th>\n",
       "      <td>Data Scientist</td>\n",
       "      <td>$137K-$171K (Glassdoor est.)</td>\n",
       "      <td>Ready to write the best chapter of your career...</td>\n",
       "      <td>3.6</td>\n",
       "      <td>XSELL Technologies\\n3.6</td>\n",
       "      <td>Chicago, IL</td>\n",
       "      <td>Chicago, IL</td>\n",
       "      <td>51 to 200 employees</td>\n",
       "      <td>2014</td>\n",
       "      <td>Company - Private</td>\n",
       "      <td>Enterprise Software &amp; Network Solutions</td>\n",
       "      <td>Information Technology</td>\n",
       "      <td>Unknown / Non-Applicable</td>\n",
       "      <td>-1</td>\n",
       "    </tr>\n",
       "  </tbody>\n",
       "</table>\n",
       "</div>"
      ],
      "text/plain": [
       "                                      Job Title               Salary Estimate  \\\n",
       "index                                                                           \n",
       "0                             Sr Data Scientist  $137K-$171K (Glassdoor est.)   \n",
       "1                                Data Scientist  $137K-$171K (Glassdoor est.)   \n",
       "2                                Data Scientist  $137K-$171K (Glassdoor est.)   \n",
       "3                                Data Scientist  $137K-$171K (Glassdoor est.)   \n",
       "4                                Data Scientist  $137K-$171K (Glassdoor est.)   \n",
       "5                                Data Scientist  $137K-$171K (Glassdoor est.)   \n",
       "6      Data Scientist / Machine Learning Expert  $137K-$171K (Glassdoor est.)   \n",
       "7                                Data Scientist  $137K-$171K (Glassdoor est.)   \n",
       "8              Staff Data Scientist - Analytics  $137K-$171K (Glassdoor est.)   \n",
       "9                                Data Scientist  $137K-$171K (Glassdoor est.)   \n",
       "\n",
       "                                         Job Description  Rating  \\\n",
       "index                                                              \n",
       "0      Description\\n\\nThe Senior Data Scientist is re...     3.1   \n",
       "1      Secure our Nation, Ignite your Future\\n\\nJoin ...     4.2   \n",
       "2      Overview\\n\\n\\nAnalysis Group is one of the lar...     3.8   \n",
       "3      JOB DESCRIPTION:\\n\\nDo you have a passion for ...     3.5   \n",
       "4      Data Scientist\\nAffinity Solutions / Marketing...     2.9   \n",
       "5      About Us:\\n\\nHeadquartered in beautiful Santa ...     4.2   \n",
       "6      Posting Title\\nData Scientist / Machine Learni...     3.9   \n",
       "7      Introduction\\n\\nHave you always wanted to run ...     3.5   \n",
       "8      Intuit is seeking a Staff Data Scientist to co...     4.4   \n",
       "9      Ready to write the best chapter of your career...     3.6   \n",
       "\n",
       "                  Company Name           Location            Headquarters  \\\n",
       "index                                                                       \n",
       "0             Healthfirst\\n3.1       New York, NY            New York, NY   \n",
       "1                 ManTech\\n4.2      Chantilly, VA             Herndon, VA   \n",
       "2          Analysis Group\\n3.8         Boston, MA              Boston, MA   \n",
       "3                 INFICON\\n3.5         Newton, MA  Bad Ragaz, Switzerland   \n",
       "4      Affinity Solutions\\n2.9       New York, NY            New York, NY   \n",
       "5             HG Insights\\n4.2  Santa Barbara, CA       Santa Barbara, CA   \n",
       "6                Novartis\\n3.9      Cambridge, MA      Basel, Switzerland   \n",
       "7                  iRobot\\n3.5        Bedford, MA             Bedford, MA   \n",
       "8           Intuit - Data\\n4.4      San Diego, CA       Mountain View, CA   \n",
       "9      XSELL Technologies\\n3.6        Chicago, IL             Chicago, IL   \n",
       "\n",
       "                          Size  Founded        Type of ownership  \\\n",
       "index                                                              \n",
       "0       1001 to 5000 employees     1993   Nonprofit Organization   \n",
       "1      5001 to 10000 employees     1968         Company - Public   \n",
       "2       1001 to 5000 employees     1981  Private Practice / Firm   \n",
       "3        501 to 1000 employees     2000         Company - Public   \n",
       "4          51 to 200 employees     1998        Company - Private   \n",
       "5          51 to 200 employees     2010        Company - Private   \n",
       "6             10000+ employees     1996         Company - Public   \n",
       "7       1001 to 5000 employees     1990         Company - Public   \n",
       "8      5001 to 10000 employees     1983         Company - Public   \n",
       "9          51 to 200 employees     2014        Company - Private   \n",
       "\n",
       "                                       Industry                     Sector  \\\n",
       "index                                                                        \n",
       "0                            Insurance Carriers                  Insurance   \n",
       "1                        Research & Development          Business Services   \n",
       "2                                    Consulting          Business Services   \n",
       "3         Electrical & Electronic Manufacturing              Manufacturing   \n",
       "4                       Advertising & Marketing          Business Services   \n",
       "5                  Computer Hardware & Software     Information Technology   \n",
       "6                     Biotech & Pharmaceuticals  Biotech & Pharmaceuticals   \n",
       "7      Consumer Electronics & Appliances Stores                     Retail   \n",
       "8                  Computer Hardware & Software     Information Technology   \n",
       "9       Enterprise Software & Network Solutions     Information Technology   \n",
       "\n",
       "                          Revenue  \\\n",
       "index                               \n",
       "0        Unknown / Non-Applicable   \n",
       "1          $1 to $2 billion (USD)   \n",
       "2      $100 to $500 million (USD)   \n",
       "3      $100 to $500 million (USD)   \n",
       "4        Unknown / Non-Applicable   \n",
       "5        Unknown / Non-Applicable   \n",
       "6              $10+ billion (USD)   \n",
       "7          $1 to $2 billion (USD)   \n",
       "8          $2 to $5 billion (USD)   \n",
       "9        Unknown / Non-Applicable   \n",
       "\n",
       "                                             Competitors  \n",
       "index                                                     \n",
       "0                EmblemHealth, UnitedHealth Group, Aetna  \n",
       "1                                                     -1  \n",
       "2                                                     -1  \n",
       "3      MKS Instruments, Pfeiffer Vacuum, Agilent Tech...  \n",
       "4                   Commerce Signals, Cardlytics, Yodlee  \n",
       "5                                                     -1  \n",
       "6                                                     -1  \n",
       "7                                                     -1  \n",
       "8                              Square, PayPal, H&R Block  \n",
       "9                                                     -1  "
      ]
     },
     "execution_count": 48,
     "metadata": {},
     "output_type": "execute_result"
    }
   ],
   "source": [
    "data = pd.read_csv('/home/ekirush/Documents/MyPortfolio/Portfolio/DATA CLEANING/Uncleaned_DS_jobs.csv',index_col=\"index\")\n",
    "# data2 = pd.read_csv('/kaggle/input/data-science-job-posting-on-glassdoor/Cleaned_DS_Jobs.csv')\n",
    "data.head(10)"
   ]
  },
  {
   "cell_type": "code",
   "execution_count": 49,
   "id": "c36c2778",
   "metadata": {
    "execution": {
     "iopub.execute_input": "2024-07-22T14:27:53.802489Z",
     "iopub.status.busy": "2024-07-22T14:27:53.802204Z",
     "iopub.status.idle": "2024-07-22T14:27:53.807485Z",
     "shell.execute_reply": "2024-07-22T14:27:53.806636Z"
    },
    "papermill": {
     "duration": 0.027162,
     "end_time": "2024-07-22T14:27:53.809451",
     "exception": false,
     "start_time": "2024-07-22T14:27:53.782289",
     "status": "completed"
    },
    "tags": []
   },
   "outputs": [
    {
     "data": {
      "text/plain": [
       "(672, 14)"
      ]
     },
     "execution_count": 49,
     "metadata": {},
     "output_type": "execute_result"
    }
   ],
   "source": [
    "# Shape of the dataset\n",
    "data.shape"
   ]
  },
  {
   "cell_type": "code",
   "execution_count": 50,
   "id": "b501abc7",
   "metadata": {
    "execution": {
     "iopub.execute_input": "2024-07-22T14:27:53.847800Z",
     "iopub.status.busy": "2024-07-22T14:27:53.847560Z",
     "iopub.status.idle": "2024-07-22T14:27:53.853310Z",
     "shell.execute_reply": "2024-07-22T14:27:53.852389Z"
    },
    "papermill": {
     "duration": 0.027006,
     "end_time": "2024-07-22T14:27:53.855125",
     "exception": false,
     "start_time": "2024-07-22T14:27:53.828119",
     "status": "completed"
    },
    "tags": []
   },
   "outputs": [
    {
     "data": {
      "text/plain": [
       "Index(['Job Title', 'Salary Estimate', 'Job Description', 'Rating',\n",
       "       'Company Name', 'Location', 'Headquarters', 'Size', 'Founded',\n",
       "       'Type of ownership', 'Industry', 'Sector', 'Revenue', 'Competitors'],\n",
       "      dtype='object')"
      ]
     },
     "execution_count": 50,
     "metadata": {},
     "output_type": "execute_result"
    }
   ],
   "source": [
    "# Column names\n",
    "data.columns"
   ]
  },
  {
   "cell_type": "markdown",
   "id": "748436f9",
   "metadata": {
    "papermill": {
     "duration": 0.01841,
     "end_time": "2024-07-22T14:27:53.892014",
     "exception": false,
     "start_time": "2024-07-22T14:27:53.873604",
     "status": "completed"
    },
    "tags": []
   },
   "source": [
    "## Exploring,Transforming, and cleaning columns in the dataset"
   ]
  },
  {
   "cell_type": "code",
   "execution_count": 51,
   "id": "a44ff108",
   "metadata": {
    "execution": {
     "iopub.execute_input": "2024-07-22T14:27:53.930328Z",
     "iopub.status.busy": "2024-07-22T14:27:53.930043Z",
     "iopub.status.idle": "2024-07-22T14:27:53.940245Z",
     "shell.execute_reply": "2024-07-22T14:27:53.939451Z"
    },
    "papermill": {
     "duration": 0.031383,
     "end_time": "2024-07-22T14:27:53.942143",
     "exception": false,
     "start_time": "2024-07-22T14:27:53.910760",
     "status": "completed"
    },
    "tags": []
   },
   "outputs": [
    {
     "data": {
      "text/plain": [
       "['(Sr.) Data Scientist -',\n",
       " 'AI Data Scientist',\n",
       " 'AI Ops Data Scientist',\n",
       " 'AI/ML - Machine Learning Scientist, Siri Understanding',\n",
       " 'Analytics - Business Assurance Data Analyst',\n",
       " 'Analytics Manager',\n",
       " 'Analytics Manager - Data Mart',\n",
       " 'Applied AI Scientist / Engineer',\n",
       " 'Applied Computer Scientist',\n",
       " 'Applied Technology Researcher / Data Scientist',\n",
       " 'Associate Data Scientist',\n",
       " 'Aviation AI/ML Data Scientist',\n",
       " 'Big Data Engineer',\n",
       " 'Business Data Analyst',\n",
       " 'Business Intelligence Analyst',\n",
       " 'Business Intelligence Analyst I- Data Insights',\n",
       " 'COMPUTER SCIENTIST - ENGINEER - RESEARCH COMPUTER SCIENTIST - SIGNAL PROCESSING',\n",
       " 'COMPUTER SCIENTIST - ENGINEER - RESEARCH COMPUTER SCIENTIST - TRANSPORTATION TECHNOLOGY',\n",
       " 'Chief Scientist',\n",
       " 'Clinical Data Analyst',\n",
       " 'Cloud Data Engineer (Azure)',\n",
       " 'Computational Behavioral Scientist',\n",
       " 'Computational Scientist',\n",
       " 'Computational Scientist, Machine Learning',\n",
       " 'Computer Scientist 1',\n",
       " 'Computer Vision / Deep Learning Scientist',\n",
       " 'Data & Machine Learning Scientist',\n",
       " 'Data Analyst',\n",
       " 'Data Analyst - Unilever Prestige',\n",
       " 'Data Analyst I',\n",
       " 'Data Analyst II',\n",
       " 'Data Analyst/Engineer',\n",
       " 'Data Analytics Engineer',\n",
       " 'Data Architect',\n",
       " 'Data Engineer',\n",
       " 'Data Engineer (Analytics, SQL, Python, AWS)',\n",
       " 'Data Engineer (Remote)',\n",
       " 'Data Engineer - Kafka',\n",
       " 'Data Engineer, Digital & Comp Pathology',\n",
       " 'Data Engineer, Enterprise Analytics',\n",
       " 'Data Integration and Modeling Engineer',\n",
       " 'Data Modeler',\n",
       " 'Data Modeler (Analytical Systems)',\n",
       " 'Data Science All Star Program - Data Engineer Track',\n",
       " 'Data Science Analyst',\n",
       " 'Data Science Instructor',\n",
       " 'Data Science Manager',\n",
       " 'Data Science Manager, Payment Acceptance - USA',\n",
       " 'Data Science Software Engineer',\n",
       " 'Data Scientist',\n",
       " 'Data Scientist (TS/SCI w/ Poly)',\n",
       " 'Data Scientist (TS/SCI)',\n",
       " 'Data Scientist - Contract',\n",
       " 'Data Scientist - Image and Video Analytics',\n",
       " 'Data Scientist - Intermediate',\n",
       " 'Data Scientist - Machine Learning',\n",
       " 'Data Scientist - Risk',\n",
       " 'Data Scientist - Statistics, Early Career',\n",
       " 'Data Scientist - Statistics, Mid-Career',\n",
       " 'Data Scientist - TS/SCI FSP or CI Required',\n",
       " 'Data Scientist - TS/SCI Required',\n",
       " 'Data Scientist / Applied Mathematician',\n",
       " 'Data Scientist / Machine Learning Expert',\n",
       " 'Data Scientist 3 (718)',\n",
       " 'Data Scientist Machine Learning',\n",
       " 'Data Scientist Technical Specialist',\n",
       " 'Data Scientist(s)/Machine Learning Engineer',\n",
       " 'Data Scientist, Applied Machine Learning - Bay Area',\n",
       " 'Data Scientist, Kinship - NYC/Portland',\n",
       " 'Data Scientist- Industrial Discrete Sector Industry',\n",
       " 'Data Scientist-Human Resources',\n",
       " 'Data Scientist/Data Analytics Practitioner',\n",
       " 'Data Scientist/Machine Learning',\n",
       " 'Data Solutions Engineer - Data Modeler',\n",
       " 'Decision Scientist',\n",
       " 'Developer III - Data Science',\n",
       " 'Development Scientist, Voltaren',\n",
       " 'Director of Data Science',\n",
       " 'Diversity and Inclusion Data Analyst',\n",
       " 'E-Commerce Data Analyst',\n",
       " 'ELISA RESEARCH SCIENTIST (CV-15)',\n",
       " 'ENGINEER - COMPUTER SCIENTIST - RESEARCH COMPUTER SCIENTIST - SIGNAL PROCESSING - SAN ANTONIO OR',\n",
       " 'Enterprise Data Analyst (Enterprise Portfolio Management Office)',\n",
       " 'Environmental Data Science',\n",
       " 'Equity Data Insights Analyst - Quantitative Analyst',\n",
       " 'Experienced Data Scientist',\n",
       " 'Geospatial Data Scientist',\n",
       " 'Global Data Analyst',\n",
       " 'Health Data Scientist - Biomedical/Biostats',\n",
       " 'Health Plan Data Analyst, Sr',\n",
       " 'Human Factors Scientist',\n",
       " 'Hydrogen/Tritium Materials Scientist (Experienced)',\n",
       " 'IT Partner Digital Health Technology and Data Science',\n",
       " 'In-Line Inspection Data Analyst',\n",
       " 'Information Systems Engineering Specialist (Engineering Scientist)',\n",
       " 'Intelligence Data Analyst, Senior',\n",
       " 'Jr. Business Data Analyst (position added 6/12/2020)',\n",
       " 'Jr. Data Engineer',\n",
       " 'Lead Certified Clinical Laboratory Scientist - Saturday - Tuesday, 8:00pm - 6:30am shift',\n",
       " 'Lead Data Scientist',\n",
       " 'Lead Data Scientist – Network Analysis and Control',\n",
       " 'Machine Learning Engineer',\n",
       " 'Machine Learning Engineer, Sr.',\n",
       " 'Machine Learning Engineer/Scientist',\n",
       " 'Machine Learning Scientist - Bay Area, CA',\n",
       " 'Machine Learning Scientist / Engineer',\n",
       " 'Manager / Lead, Data Science & Analytics',\n",
       " 'Manager, Field Application Scientist, Southeast',\n",
       " 'Market Research Data Scientist',\n",
       " 'Medical Lab Scientist',\n",
       " 'NGS Scientist',\n",
       " 'Operations Data Analyst',\n",
       " 'Patient Safety- Associate Data Scientist',\n",
       " 'Principal Data & Analytics Platform Engineer',\n",
       " 'Principal Data Scientist',\n",
       " 'Principal Data Scientist - Machine Learning',\n",
       " 'Principal Machine Learning Scientist',\n",
       " 'Principal Scientist/Associate Director, Quality Control and Analytical Technologies',\n",
       " 'Product Data Scientist - Ads Data Science',\n",
       " 'Production Engineer - Statistics/Data Analysis',\n",
       " 'Purification Scientist',\n",
       " 'RFP Data Analyst',\n",
       " 'Real World Evidence (RWE) Scientist',\n",
       " 'Real World Science, Data Scientist',\n",
       " 'Report Writer-Data Analyst',\n",
       " 'Research Scientist - Patient-Centered Research (Remote)',\n",
       " 'Research Scientist Patient Preferences (Remote)',\n",
       " 'Say Business Data Analyst',\n",
       " 'Scientist - Biomarker and Flow Cytometry',\n",
       " 'Scientist - Machine Learning',\n",
       " 'Scientist - Molecular Biology',\n",
       " 'Scientist / Group Lead, Cancer Biology',\n",
       " 'Scientist/Research Associate-Metabolic Engineering',\n",
       " 'Senior Analyst/Data Scientist',\n",
       " 'Senior Business Intelligence Analyst',\n",
       " 'Senior Clinical Data Scientist Programmer',\n",
       " 'Senior Data & Machine Learning Scientist',\n",
       " 'Senior Data Analyst',\n",
       " 'Senior Data Analyst - Finance & Platform Analytics',\n",
       " 'Senior Data Engineer',\n",
       " 'Senior Data Scientist',\n",
       " 'Senior Data Scientist - Algorithms',\n",
       " 'Senior Data Scientist - R&D Oncology',\n",
       " 'Senior Data Scientist – Image Analytics, Novartis AI Innovation Lab',\n",
       " 'Senior Machine Learning Engineer',\n",
       " 'Senior Machine Learning Scientist - Bay Area, CA',\n",
       " 'Senior Principal Data Scientist (Python/R)',\n",
       " 'Senior Research Statistician- Data Scientist',\n",
       " 'Senior Scientist - Toxicologist - Product Integrity (Stewardship)',\n",
       " 'Software Data Engineer',\n",
       " 'Software Engineer (Data Scientist, C,C++,Linux,Unix) - SISW - MG',\n",
       " 'Software Engineer - Data Science',\n",
       " 'Software Engineer - Machine Learning & Data Science (Applied Intelligence Services Team)',\n",
       " 'Sr Data Analyst',\n",
       " 'Sr Data Engineer (Sr BI Developer)',\n",
       " 'Sr Data Scientist',\n",
       " 'Sr Scientist - Extractables & Leachables',\n",
       " 'Sr. Data Analyst',\n",
       " 'Sr. Data Scientist',\n",
       " 'Sr. Data Scientist II',\n",
       " 'Sr. ML/Data Scientist - AI/NLP/Chatbot',\n",
       " 'Sr. Research Associate/ Scientist, NGS prep & Molecular Genomics',\n",
       " 'Staff BI and Data Engineer',\n",
       " 'Staff Data Scientist',\n",
       " 'Staff Data Scientist - Analytics',\n",
       " 'Staff Data Scientist - Pricing',\n",
       " 'Staff Scientist- Upstream PD',\n",
       " 'Statistical Scientist',\n",
       " 'Tableau Data Engineer 20-0117',\n",
       " 'VP, Data Science',\n",
       " 'Vice President, Biometrics and Clinical Data Management',\n",
       " 'Weapons and Sensors Engineer/Scientist']"
      ]
     },
     "execution_count": 51,
     "metadata": {},
     "output_type": "execute_result"
    }
   ],
   "source": [
    "sorted(data['Job Title'].unique())"
   ]
  },
  {
   "cell_type": "code",
   "execution_count": 52,
   "id": "7ba780dd",
   "metadata": {
    "execution": {
     "iopub.execute_input": "2024-07-22T14:27:53.981529Z",
     "iopub.status.busy": "2024-07-22T14:27:53.981264Z",
     "iopub.status.idle": "2024-07-22T14:27:53.988778Z",
     "shell.execute_reply": "2024-07-22T14:27:53.987853Z"
    },
    "papermill": {
     "duration": 0.02952,
     "end_time": "2024-07-22T14:27:53.990781",
     "exception": false,
     "start_time": "2024-07-22T14:27:53.961261",
     "status": "completed"
    },
    "tags": []
   },
   "outputs": [],
   "source": [
    "# A function to filter job titles\n",
    "\n",
    "def job_title(title):\n",
    "    title_lower = title.lower()\n",
    "    if 'data scientist' in title_lower:\n",
    "        return 'Data scientist'\n",
    "    elif 'data engineer' in title_lower:\n",
    "        return 'Data engineer'\n",
    "    elif 'analyst' in title_lower:\n",
    "        return 'Analyst'\n",
    "    elif 'machine learning' in title_lower:\n",
    "        return 'Machine Learning Engineer'\n",
    "    elif 'manager' in title_lower:\n",
    "        return 'Manager'\n",
    "    elif 'director' in title_lower:\n",
    "        return 'Director'\n",
    "    return 'NA'\n",
    "\n",
    "data['Updated Job Title'] = data['Job Title'].apply(job_title)\n",
    "# data = data.drop('Job Title',axis=1)"
   ]
  },
  {
   "cell_type": "code",
   "execution_count": 53,
   "id": "26996202",
   "metadata": {
    "execution": {
     "iopub.execute_input": "2024-07-22T14:27:54.031189Z",
     "iopub.status.busy": "2024-07-22T14:27:54.030868Z",
     "iopub.status.idle": "2024-07-22T14:27:54.037067Z",
     "shell.execute_reply": "2024-07-22T14:27:54.036208Z"
    },
    "papermill": {
     "duration": 0.029076,
     "end_time": "2024-07-22T14:27:54.039061",
     "exception": false,
     "start_time": "2024-07-22T14:27:54.009985",
     "status": "completed"
    },
    "tags": []
   },
   "outputs": [
    {
     "data": {
      "text/plain": [
       "['Analyst',\n",
       " 'Data engineer',\n",
       " 'Data scientist',\n",
       " 'Director',\n",
       " 'Machine Learning Engineer',\n",
       " 'Manager',\n",
       " 'NA']"
      ]
     },
     "execution_count": 53,
     "metadata": {},
     "output_type": "execute_result"
    }
   ],
   "source": [
    "sorted(data['Updated Job Title'].unique())"
   ]
  },
  {
   "cell_type": "code",
   "execution_count": 54,
   "id": "5308f255",
   "metadata": {
    "execution": {
     "iopub.execute_input": "2024-07-22T14:27:54.078735Z",
     "iopub.status.busy": "2024-07-22T14:27:54.078462Z",
     "iopub.status.idle": "2024-07-22T14:27:54.084632Z",
     "shell.execute_reply": "2024-07-22T14:27:54.083776Z"
    },
    "papermill": {
     "duration": 0.028052,
     "end_time": "2024-07-22T14:27:54.086639",
     "exception": false,
     "start_time": "2024-07-22T14:27:54.058587",
     "status": "completed"
    },
    "tags": []
   },
   "outputs": [
    {
     "data": {
      "text/plain": [
       "['$101K-$165K (Glassdoor est.)',\n",
       " '$105K-$167K (Glassdoor est.)',\n",
       " '$110K-$163K (Glassdoor est.)',\n",
       " '$112K-$116K (Glassdoor est.)',\n",
       " '$122K-$146K (Glassdoor est.)',\n",
       " '$124K-$198K (Glassdoor est.)',\n",
       " '$128K-$201K (Glassdoor est.)',\n",
       " '$137K-$171K (Glassdoor est.)',\n",
       " '$138K-$158K (Glassdoor est.)',\n",
       " '$141K-$225K (Glassdoor est.)',\n",
       " '$145K-$225K(Employer est.)',\n",
       " '$212K-$331K (Glassdoor est.)',\n",
       " '$31K-$56K (Glassdoor est.)',\n",
       " '$56K-$97K (Glassdoor est.)',\n",
       " '$66K-$112K (Glassdoor est.)',\n",
       " '$69K-$116K (Glassdoor est.)',\n",
       " '$71K-$123K (Glassdoor est.)',\n",
       " '$75K-$131K (Glassdoor est.)',\n",
       " '$79K-$106K (Glassdoor est.)',\n",
       " '$79K-$131K (Glassdoor est.)',\n",
       " '$79K-$133K (Glassdoor est.)',\n",
       " '$79K-$147K (Glassdoor est.)',\n",
       " '$80K-$132K (Glassdoor est.)',\n",
       " '$87K-$141K (Glassdoor est.)',\n",
       " '$90K-$109K (Glassdoor est.)',\n",
       " '$90K-$124K (Glassdoor est.)',\n",
       " '$91K-$150K (Glassdoor est.)',\n",
       " '$92K-$155K (Glassdoor est.)',\n",
       " '$95K-$119K (Glassdoor est.)',\n",
       " '$99K-$132K (Glassdoor est.)']"
      ]
     },
     "execution_count": 54,
     "metadata": {},
     "output_type": "execute_result"
    }
   ],
   "source": [
    "# Salary Estimate Columns\n",
    "sorted(data['Salary Estimate'].unique())"
   ]
  },
  {
   "cell_type": "code",
   "execution_count": 55,
   "id": "a5b5d684",
   "metadata": {
    "execution": {
     "iopub.execute_input": "2024-07-22T14:27:54.126276Z",
     "iopub.status.busy": "2024-07-22T14:27:54.125951Z",
     "iopub.status.idle": "2024-07-22T14:27:54.131403Z",
     "shell.execute_reply": "2024-07-22T14:27:54.130520Z"
    },
    "papermill": {
     "duration": 0.027354,
     "end_time": "2024-07-22T14:27:54.133410",
     "exception": false,
     "start_time": "2024-07-22T14:27:54.106056",
     "status": "completed"
    },
    "tags": []
   },
   "outputs": [],
   "source": [
    "data['Salary Estimate'] = data['Salary Estimate'].apply(lambda x:x.replace('(Employer est.)','').replace(' (Glassdoor est.)','').replace('$',''))"
   ]
  },
  {
   "cell_type": "code",
   "execution_count": 56,
   "id": "edec0ed2",
   "metadata": {
    "execution": {
     "iopub.execute_input": "2024-07-22T14:27:54.172824Z",
     "iopub.status.busy": "2024-07-22T14:27:54.172558Z",
     "iopub.status.idle": "2024-07-22T14:27:54.178751Z",
     "shell.execute_reply": "2024-07-22T14:27:54.177912Z"
    },
    "papermill": {
     "duration": 0.028137,
     "end_time": "2024-07-22T14:27:54.180701",
     "exception": false,
     "start_time": "2024-07-22T14:27:54.152564",
     "status": "completed"
    },
    "tags": []
   },
   "outputs": [
    {
     "data": {
      "text/plain": [
       "['101K-165K',\n",
       " '105K-167K',\n",
       " '110K-163K',\n",
       " '112K-116K',\n",
       " '122K-146K',\n",
       " '124K-198K',\n",
       " '128K-201K',\n",
       " '137K-171K',\n",
       " '138K-158K',\n",
       " '141K-225K',\n",
       " '145K-225K',\n",
       " '212K-331K',\n",
       " '31K-56K',\n",
       " '56K-97K',\n",
       " '66K-112K',\n",
       " '69K-116K',\n",
       " '71K-123K',\n",
       " '75K-131K',\n",
       " '79K-106K',\n",
       " '79K-131K',\n",
       " '79K-133K',\n",
       " '79K-147K',\n",
       " '80K-132K',\n",
       " '87K-141K',\n",
       " '90K-109K',\n",
       " '90K-124K',\n",
       " '91K-150K',\n",
       " '92K-155K',\n",
       " '95K-119K',\n",
       " '99K-132K']"
      ]
     },
     "execution_count": 56,
     "metadata": {},
     "output_type": "execute_result"
    }
   ],
   "source": [
    "sorted(data['Salary Estimate'].unique())"
   ]
  },
  {
   "cell_type": "code",
   "execution_count": 57,
   "id": "3c16777d",
   "metadata": {
    "execution": {
     "iopub.execute_input": "2024-07-22T14:27:54.220786Z",
     "iopub.status.busy": "2024-07-22T14:27:54.220511Z",
     "iopub.status.idle": "2024-07-22T14:27:54.227449Z",
     "shell.execute_reply": "2024-07-22T14:27:54.226619Z"
    },
    "papermill": {
     "duration": 0.029244,
     "end_time": "2024-07-22T14:27:54.229366",
     "exception": false,
     "start_time": "2024-07-22T14:27:54.200122",
     "status": "completed"
    },
    "tags": []
   },
   "outputs": [],
   "source": [
    "# Remove letter K, and multiply values with 1000\n",
    "\n",
    "def salary_estimate(values):\n",
    "    data = values.replace('K','')\n",
    "    data2 = data.split('-')\n",
    "    data3 = [str(int(datas)*1000) for datas in data2]\n",
    "    return '-'.join(data3)\n",
    "\n",
    "data['Salary Estimate'] =  data['Salary Estimate'].apply(salary_estimate)   \n"
   ]
  },
  {
   "cell_type": "code",
   "execution_count": 58,
   "id": "de09a251",
   "metadata": {
    "execution": {
     "iopub.execute_input": "2024-07-22T14:27:54.268685Z",
     "iopub.status.busy": "2024-07-22T14:27:54.268427Z",
     "iopub.status.idle": "2024-07-22T14:27:54.274525Z",
     "shell.execute_reply": "2024-07-22T14:27:54.273723Z"
    },
    "papermill": {
     "duration": 0.027824,
     "end_time": "2024-07-22T14:27:54.276393",
     "exception": false,
     "start_time": "2024-07-22T14:27:54.248569",
     "status": "completed"
    },
    "tags": []
   },
   "outputs": [
    {
     "data": {
      "text/plain": [
       "['101000-165000',\n",
       " '105000-167000',\n",
       " '110000-163000',\n",
       " '112000-116000',\n",
       " '122000-146000',\n",
       " '124000-198000',\n",
       " '128000-201000',\n",
       " '137000-171000',\n",
       " '138000-158000',\n",
       " '141000-225000',\n",
       " '145000-225000',\n",
       " '212000-331000',\n",
       " '31000-56000',\n",
       " '56000-97000',\n",
       " '66000-112000',\n",
       " '69000-116000',\n",
       " '71000-123000',\n",
       " '75000-131000',\n",
       " '79000-106000',\n",
       " '79000-131000',\n",
       " '79000-133000',\n",
       " '79000-147000',\n",
       " '80000-132000',\n",
       " '87000-141000',\n",
       " '90000-109000',\n",
       " '90000-124000',\n",
       " '91000-150000',\n",
       " '92000-155000',\n",
       " '95000-119000',\n",
       " '99000-132000']"
      ]
     },
     "execution_count": 58,
     "metadata": {},
     "output_type": "execute_result"
    }
   ],
   "source": [
    "sorted(data['Salary Estimate'].unique())"
   ]
  },
  {
   "cell_type": "code",
   "execution_count": 59,
   "id": "bc7e3bd0",
   "metadata": {
    "execution": {
     "iopub.execute_input": "2024-07-22T14:27:54.315930Z",
     "iopub.status.busy": "2024-07-22T14:27:54.315667Z",
     "iopub.status.idle": "2024-07-22T14:27:54.320916Z",
     "shell.execute_reply": "2024-07-22T14:27:54.320140Z"
    },
    "papermill": {
     "duration": 0.027147,
     "end_time": "2024-07-22T14:27:54.322798",
     "exception": false,
     "start_time": "2024-07-22T14:27:54.295651",
     "status": "completed"
    },
    "tags": []
   },
   "outputs": [
    {
     "data": {
      "text/plain": [
       "'JOB SUMMARY\\nResponsible for designing, analyzing, modeling, and deploying analytical applications to enrich the agent and customer experience in the Agent Portal organization.\\n\\nMAJOR DUTIES AND RESPONSIBILITIES\\nActively and consistently support all efforts to simplify and enhance the customer experience\\nUnderstand customer business use cases and be able to translate them to technical specifications and vision on how to implement a solution\\nClearly communicate the benefits of the analytic solutions to both a business as well as a technical audience\\nLeverage knowledge in analytic and statistical algorithms to help customers explore methods to improve their business\\nLead large-scale analytical research projects through all stages including concept formulation, determination of appropriate statistical methodology, data manipulation, research evaluation, and final research report\\nDesign, build, and extract large and complex data sets while thinking strategically about uses of data and how data use interacts with data design\\nLead large-scale data studies and data discovery for new data sources or new uses for existing data sources\\nLead design and implementation of statistical data quality procedures for existing and new data sources\\nVisualize and report data findings creatively in a variety of visual formats that appropriately provide insight to the stakeholders\\nEstablish links across existing data sources and find new, interesting data correlations\\nWork closely with the sales team to come up with analytical solutions for prospects\\nWork closely with the operations team to define the implementation of these solutions\\nAchieve business value of analytics through deployment of the nCluster database\\nAchieve defined project goals within customer deadlines; proactively communicate status and escalate issues as needed\\nWilling to learn: Develop expertise in areas outside of core comfort zone\\nREQUIRED QUALIFICATIONS\\nSkills/Abilities and Knowledge\\nAbility to read, write, speak and understand English\\nExcellent team player\\nMust be self-motivated, results-driven, and able to work with minimum supervision\\nIntellectually curious\\nOutstanding interpersonal, communication and customer relationship skills able to work effectively with customers from developers and Ops personnel through senior management\\nExtensive experience with analytical and statistical software\\nExtensive experience with design and implementation of data warehousing, relational databases,\\nand associated infrastructures\\nPassionate about data maintenance, data quality control and all other important data analysis techniques\\nExcellent analytical and problem solving skills with attention to detail and data accuracy\\nStrong interpersonal communication, verbal and written, relationship management, and customer service skills with a focus on working effectively in a team environment\\nAbility to use MS Office Suite (Word, Excel, PP, Access, Visio)\\nAbility to work cross-functionally to solve complex problems and improve quality and service\\nAbility to perform involved and independent research and analysis\\nAbility to maintain confidentiality and appropriately handle sensitive information\\nRelated Work Experience\\n5 plus years data manipulation and statistical modeling experience as a Scientist, Consultant, Architect, DBA, or Engineer\\n5 plus years programming experience\\n\\nEducation\\nMS or PhD in Computer Science, Physics, Math, Statistics, Economics, Quantitative Analysis or equivalent experience\\n\\nPREFERRED QUALIFICATIONS\\nSkills/Abilities and Knowledge\\nSignificant experience in R\\nExperience developing interactive data applications in R Shiny\\nExperience in Python\\nExperience in machine learning and deep learning frameworks (Scikit Learn, Keras preferred)\\nExperience with developing API services (Flask preferred)\\nExperience with SQL\\nExperience with big data technologies such as Hadoop or Map/Reduce\\nWORKING CONDITIONS\\nOffice Environment\\nTravel as required'"
      ]
     },
     "execution_count": 59,
     "metadata": {},
     "output_type": "execute_result"
    }
   ],
   "source": [
    "# Job Description Column\n",
    "data['Job Description'][150]"
   ]
  },
  {
   "cell_type": "code",
   "execution_count": 60,
   "id": "c4a12f9c",
   "metadata": {
    "execution": {
     "iopub.execute_input": "2024-07-22T14:27:54.368608Z",
     "iopub.status.busy": "2024-07-22T14:27:54.368068Z",
     "iopub.status.idle": "2024-07-22T14:27:54.385559Z",
     "shell.execute_reply": "2024-07-22T14:27:54.384209Z"
    },
    "papermill": {
     "duration": 0.04559,
     "end_time": "2024-07-22T14:27:54.388389",
     "exception": false,
     "start_time": "2024-07-22T14:27:54.342799",
     "status": "completed"
    },
    "tags": []
   },
   "outputs": [
    {
     "data": {
      "text/plain": [
       "\"JOB DESCRIPTION:  Do you have a passion for Data and Machine Learning? Do you dream of working with customers on their most forward-looking AI initiatives? Does the challenge of developing modern machine learning solutions to solve real-world manufacturing problems exciting to you?  We develop software for monitoring semiconductor manufacturing process and are looking to leverage the latest technologies to address our customer's needs. You will be part of a team that investigates and builds solutions based all the data available in factories, ranging from time series data, to post manufacturing data, to production logs. You will be working side by side with application developers and customers on real world problems with actual manufacturing data.  JOB FUNCTION:  Basic and applied research in statistical machine learning, deep learning, and data science as well as signal and information processing to advance the state of the art in time series analysis of semiconductor manufacturing data.  Responsibilities: Perform data analysis, data pre-processing, and feature engineering in support of advanced machine learning algorithm development. Incorporate physical and operational insights/constraints into statistical models to achieve a high degree of robustness. Prototype algorithms for proof of concept, validation, and software implementation. Support performance evaluations and the transition of algorithms into existing fault detection and classification systems. Convey the results of scientific research to sponsors and the scientific community through briefings, conferences and peer-reviewed publications. Other related functions as assigned.  REQUIRED QUALIFICATIONS: Bachelor's degree in computer science or chemical engineering or related technical field. Demonstrated ability in machine learning/artificial intelligence (ML/AI) development and/or scientific modelling and data analysis. Demonstrated ability with python/MATLAB or similar abstract language. Experience with both traditional ML and modern deep learning approaches. Experience with agile development practices and Git version control. Experience with one or more of the DNN frameworks like TensorFlow, PyTorch, Chainer. Experience with SQL, Graph stores, or NoSQL stores. Applicant must have a dynamic skill set, be willing to work with new technologies, be highly organized and capable of planning and coordinating multiple tasks. The position will require attention to detail, effective problem solving skills and excellent judgment. Ability to work independently with sensitive and confidential information, maintain a professional demeanor, work as a team member without daily supervision.  COMPENSATION & BENEFITS:  Compensation will be commensurate with experience including a competitive base salary, bonus opportunity, competitive benefits package, and relocation assistance.  INFICON, is committed to ensuring that our online application process provides an equal opportunity to all job seekers that apply without regard to race, religion, ethnicity, national origin, citizenship, gender, age, protected veteran status, disability status, genetic information, sexual orientation, or any other protected characteristic. A notice describing Federal equal employment opportunity laws is available here and here to reaffirm this commitment.  PI120660357\""
      ]
     },
     "execution_count": 60,
     "metadata": {},
     "output_type": "execute_result"
    }
   ],
   "source": [
    "data['Job Description'] = data['Job Description'].str.replace('•', '.') \n",
    "data['Job Description'] = data['Job Description'].str.replace('\\n', ' ')\n",
    "data['Job Description'] = data['Job Description'].str.strip()\n",
    "\n",
    "data['Job Description'].iloc[3]"
   ]
  },
  {
   "cell_type": "code",
   "execution_count": 61,
   "id": "060fe530",
   "metadata": {
    "execution": {
     "iopub.execute_input": "2024-07-22T14:27:54.442460Z",
     "iopub.status.busy": "2024-07-22T14:27:54.442095Z",
     "iopub.status.idle": "2024-07-22T14:27:54.450766Z",
     "shell.execute_reply": "2024-07-22T14:27:54.449715Z"
    },
    "papermill": {
     "duration": 0.037005,
     "end_time": "2024-07-22T14:27:54.453131",
     "exception": false,
     "start_time": "2024-07-22T14:27:54.416126",
     "status": "completed"
    },
    "tags": []
   },
   "outputs": [
    {
     "data": {
      "text/plain": [
       "[-1.0,\n",
       " 2.0,\n",
       " 2.1,\n",
       " 2.2,\n",
       " 2.3,\n",
       " 2.4,\n",
       " 2.5,\n",
       " 2.6,\n",
       " 2.7,\n",
       " 2.8,\n",
       " 2.9,\n",
       " 3.0,\n",
       " 3.1,\n",
       " 3.2,\n",
       " 3.3,\n",
       " 3.4,\n",
       " 3.5,\n",
       " 3.6,\n",
       " 3.7,\n",
       " 3.8,\n",
       " 3.9,\n",
       " 4.0,\n",
       " 4.1,\n",
       " 4.2,\n",
       " 4.3,\n",
       " 4.4,\n",
       " 4.5,\n",
       " 4.6,\n",
       " 4.7,\n",
       " 4.8,\n",
       " 4.9,\n",
       " 5.0]"
      ]
     },
     "execution_count": 61,
     "metadata": {},
     "output_type": "execute_result"
    }
   ],
   "source": [
    "# Rating Column\n",
    "\n",
    "sorted(data['Rating'].unique())"
   ]
  },
  {
   "cell_type": "code",
   "execution_count": 62,
   "id": "b83bca75",
   "metadata": {
    "execution": {
     "iopub.execute_input": "2024-07-22T14:27:54.498616Z",
     "iopub.status.busy": "2024-07-22T14:27:54.497819Z",
     "iopub.status.idle": "2024-07-22T14:27:54.505025Z",
     "shell.execute_reply": "2024-07-22T14:27:54.504040Z"
    },
    "papermill": {
     "duration": 0.033121,
     "end_time": "2024-07-22T14:27:54.507053",
     "exception": false,
     "start_time": "2024-07-22T14:27:54.473932",
     "status": "completed"
    },
    "tags": []
   },
   "outputs": [
    {
     "name": "stdout",
     "output_type": "stream",
     "text": [
      "[0.0, 2.0, 2.1, 2.2, 2.3, 2.4, 2.5, 2.6, 2.7, 2.8, 2.9, 3.0, 3.1, 3.2, 3.3, 3.4, 3.5, 3.6, 3.7, 3.8, 3.9, 4.0, 4.1, 4.2, 4.3, 4.4, 4.5, 4.6, 4.7, 4.8, 4.9, 5.0]\n"
     ]
    }
   ],
   "source": [
    "data['Rating'] = np.where(data['Rating'] == -1,0,data['Rating'])\n",
    "print(sorted(data.Rating.unique()))"
   ]
  },
  {
   "cell_type": "code",
   "execution_count": 63,
   "id": "36715094",
   "metadata": {
    "execution": {
     "iopub.execute_input": "2024-07-22T14:27:54.551122Z",
     "iopub.status.busy": "2024-07-22T14:27:54.550724Z",
     "iopub.status.idle": "2024-07-22T14:27:54.568802Z",
     "shell.execute_reply": "2024-07-22T14:27:54.567718Z"
    },
    "papermill": {
     "duration": 0.043136,
     "end_time": "2024-07-22T14:27:54.570947",
     "exception": false,
     "start_time": "2024-07-22T14:27:54.527811",
     "status": "completed"
    },
    "tags": []
   },
   "outputs": [
    {
     "data": {
      "text/plain": [
       "['1-800-Flowers\\n2.7',\n",
       " '1010data\\n3.1',\n",
       " '10x Genomics\\n4.2',\n",
       " '1904labs\\n4.7',\n",
       " '22nd Century Technologies\\n3.7',\n",
       " '7Park Data\\n3.9',\n",
       " 'A Place for Mom\\n2.7',\n",
       " 'A-Line Staffing Solutions\\n4.1',\n",
       " 'ABIOMED\\n4.1',\n",
       " 'ALTA IT Services\\n3.9',\n",
       " 'ASRC Federal Holding Company\\n3.4',\n",
       " 'AccessHope',\n",
       " 'Acuity Insurance\\n4.8',\n",
       " 'Advance Sourcing Concepts\\n3.4',\n",
       " 'Advanced Bio-Logic Solutions Corp\\n4.0',\n",
       " 'Advanced BioScience Laboratories\\n2.7',\n",
       " 'Adwait Algorithm\\n4.4',\n",
       " 'AeroVironment\\n4.2',\n",
       " 'Affinity Solutions\\n2.9',\n",
       " 'AgreeYa Solutions\\n3.8',\n",
       " 'Alaka`ina Foundation Family of Companies\\n3.6',\n",
       " 'Alector\\n4.8',\n",
       " 'Alignment Healthcare\\n3.5',\n",
       " 'Alion Science & Technology\\n3.6',\n",
       " 'Allen Institute\\n3.5',\n",
       " 'AllianceBernstein\\n3.2',\n",
       " 'Allied Solutions\\n3.4',\n",
       " 'Altus Group\\n3.7',\n",
       " 'Americo Life\\n3.3',\n",
       " 'Ameritas Life Insurance Corp\\n3.0',\n",
       " 'Amyris\\n3.3',\n",
       " 'Analysis Group\\n3.8',\n",
       " 'Apex Systems\\n3.9',\n",
       " 'AppLovin\\n4.8',\n",
       " 'Apple\\n4.1',\n",
       " 'Applied Research Laboratories\\n3.8',\n",
       " 'Aptive\\n3.5',\n",
       " 'Argo Group US\\n3.5',\n",
       " 'Arsenal Biosciences\\n5.0',\n",
       " 'AstraZeneca\\n4.0',\n",
       " 'Autodesk\\n4.0',\n",
       " 'Averity\\n5.0',\n",
       " 'Aveshka, Inc.\\n3.8',\n",
       " 'Avlino\\n4.9',\n",
       " 'Axiologic Solutions\\n4.5',\n",
       " 'B4Corp',\n",
       " 'BWX Technologies\\n3.3',\n",
       " 'Battelle\\n3.1',\n",
       " 'Bayside Solutions\\n3.1',\n",
       " 'Bayview Asset Management\\n3.7',\n",
       " 'Benson Hill\\n3.5',\n",
       " 'Berico Technologies',\n",
       " 'Better Hire\\n4.0',\n",
       " 'Big Huge Games\\n4.9',\n",
       " 'Biogen\\n3.6',\n",
       " 'Blackstone Talent Group\\n3.5',\n",
       " 'Blend360\\n4.6',\n",
       " 'Blue Cloak LLC',\n",
       " 'Blue Cross and Blue Shield of North Carolina\\n3.7',\n",
       " 'Blue Horizon Tek Solutions\\n5.0',\n",
       " 'Blue Icy Water, LLC',\n",
       " 'Booz Allen Hamilton Inc.\\n3.7',\n",
       " 'Brighthouse Financial\\n3.8',\n",
       " 'Brillient\\n3.9',\n",
       " 'Buckman\\n3.5',\n",
       " 'Burns & McDonnell\\n3.8',\n",
       " 'C3.ai\\n4.7',\n",
       " 'CACI International\\n3.5',\n",
       " 'CIA\\n3.8',\n",
       " 'CRS Group\\n4.7',\n",
       " 'Cambridge Associates, LLC\\n3.1',\n",
       " 'Cambridge FX\\n3.5',\n",
       " 'Cambridge Mobile Telematics\\n4.9',\n",
       " 'Capio Group\\n4.1',\n",
       " 'CaptiveAire\\n4.1',\n",
       " 'CareDx\\n2.5',\n",
       " 'Carolina Power & Light Co\\n3.7',\n",
       " 'Caterpillar\\n3.7',\n",
       " 'Cenlar\\n2.6',\n",
       " 'Centauri\\n4.6',\n",
       " 'Central Business Solutions, Inc\\n3.0',\n",
       " 'Central California Alliance for Health\\n3.5',\n",
       " 'Centraprise\\n4.2',\n",
       " 'ChaTeck Incorporated\\n5.0',\n",
       " 'Change Healthcare\\n2.7',\n",
       " 'Chef\\n3.6',\n",
       " 'Child Care Aware of America\\n2.8',\n",
       " 'Clear Ridge Defense',\n",
       " 'ClearEdge\\n4.0',\n",
       " 'Cohere Health\\n5.0',\n",
       " 'Colony Brands\\n3.7',\n",
       " 'Comcast\\n3.5',\n",
       " 'Community Behavioral Health\\n3.6',\n",
       " 'Compass Consulting Group\\n4.7',\n",
       " 'Comprehensive Healthcare\\n2.6',\n",
       " 'CompuForce',\n",
       " 'Comtech Global Inc\\n4.0',\n",
       " 'Conagen\\n2.0',\n",
       " 'Concerto HealthAI\\n3.3',\n",
       " 'Conch Technologies, Inc\\n4.6',\n",
       " 'Conflux Systems Inc.\\n4.5',\n",
       " 'Constant Contact\\n3.6',\n",
       " 'ConsumerTrack\\n3.2',\n",
       " \"Cook Children's Health Care System\\n3.8\",\n",
       " 'Coverent\\n4.1',\n",
       " 'Covid-19 Search Partners',\n",
       " 'Creative Circle\\n3.6',\n",
       " 'Criteo\\n3.9',\n",
       " 'Criterion Systems, Inc.\\n3.8',\n",
       " 'Crossover Health\\n3.5',\n",
       " 'Crown Bioscience\\n2.4',\n",
       " 'Cubic\\n3.3',\n",
       " 'CyberCoders\\n4.2',\n",
       " 'DCS Corp\\n4.1',\n",
       " 'DW Simpson\\n4.2',\n",
       " 'DataLab USA\\n3.6',\n",
       " 'Demandbase\\n4.5',\n",
       " 'Dermalogica\\n3.8',\n",
       " 'Descript\\n4.3',\n",
       " 'Dice.com\\n3.4',\n",
       " 'Direct Agents\\n4.4',\n",
       " 'Dolphin\\n3.5',\n",
       " 'Dynetics\\n4.0',\n",
       " 'E3 Federal Solutions\\n4.5',\n",
       " 'EGlobalTech\\n3.7',\n",
       " 'Edmunds.com\\n3.4',\n",
       " 'Eliassen Group\\n4.4',\n",
       " 'Encode, Inc.',\n",
       " 'Enterprise Solutions Inc\\n3.8',\n",
       " 'Envision Healthcare\\n2.9',\n",
       " 'Envision LLC\\n4.5',\n",
       " 'Eversight\\n4.2',\n",
       " 'Evidation\\n4.1',\n",
       " 'Evidera\\n3.8',\n",
       " 'Evolve Vacation Rental\\n3.5',\n",
       " 'Evolvinc',\n",
       " 'Exact Sciences Corporation\\n4.0',\n",
       " 'Expedition Technology, Inc.\\n5.0',\n",
       " 'Exponent\\n3.5',\n",
       " 'FHLBank Pittsburgh\\n3.8',\n",
       " 'FM Systems\\n3.4',\n",
       " 'Falcon IT & Staffing Solutions',\n",
       " \"Farmer's Business Network, Inc.\\n3.5\",\n",
       " 'First Health Group\\n3.2',\n",
       " 'Fleetcor\\n3.7',\n",
       " 'Formation\\n2.8',\n",
       " 'Foundation Medicine\\n4.0',\n",
       " 'Fullpower Technologies, Inc.\\n4.5',\n",
       " 'GNS Healthcare\\n2.9',\n",
       " 'GSK\\n3.9',\n",
       " 'Gallup\\n4.1',\n",
       " 'Gap Inc.\\n3.5',\n",
       " 'Genentech\\n4.0',\n",
       " 'General Dynamics Information Technology\\n3.4',\n",
       " 'Genesis Research\\n5.0',\n",
       " 'Geotab\\n4.3',\n",
       " 'GetWellNetwork\\n4.8',\n",
       " 'Gigya\\n3.6',\n",
       " 'Giving Assistant\\n4.8',\n",
       " 'Global Data Management Inc\\n4.5',\n",
       " 'GovTech\\n3.7',\n",
       " 'GrainBridge, LLC',\n",
       " 'Great-Circle Technologies\\n2.2',\n",
       " 'GreatAmerica Financial Services\\n4.6',\n",
       " 'Grid Dynamics\\n4.0',\n",
       " 'Group O\\n3.1',\n",
       " 'Guardian Life\\n3.5',\n",
       " 'GutCheck\\n3.8',\n",
       " 'Guzman & Griffin Technologies (GGTI)\\n4.4',\n",
       " 'HAN IT Staffing Inc.\\n4.6',\n",
       " 'HG Insights\\n4.2',\n",
       " 'HP Inc.\\n4.1',\n",
       " 'HPOne\\n3.5',\n",
       " 'Hackensack Meridian Health\\n3.3',\n",
       " 'Hatch Data Inc',\n",
       " 'Healthfirst\\n3.1',\n",
       " 'Hexagon US Federal\\n2.7',\n",
       " 'HireAi',\n",
       " 'Hive (CA)\\n2.1',\n",
       " 'Homology Medicines, Inc.\\n4.4',\n",
       " 'Huxley\\n3.3',\n",
       " 'IBM\\n3.7',\n",
       " 'ICW Group\\n3.3',\n",
       " 'IFG Companies\\n2.9',\n",
       " 'II-VI Incorporated\\n3.3',\n",
       " 'IMG Systems\\n3.2',\n",
       " 'INFICON\\n3.5',\n",
       " 'ISO New England\\n3.8',\n",
       " 'ISYS Technologies, Inc.\\n3.6',\n",
       " 'IT Concepts\\n4.8',\n",
       " 'IZEA\\n4.2',\n",
       " 'Indigo Slate\\n3.0',\n",
       " 'Infinitive Inc\\n3.4',\n",
       " 'Inland Empire Health Plan\\n3.3',\n",
       " 'Insider Inc\\n3.3',\n",
       " 'Insight Enterprises, Inc.\\n4.2',\n",
       " 'Intellectual Ventures\\n3.3',\n",
       " 'IntelliPro Group Inc.\\n4.1',\n",
       " 'Inter-American Development Bank\\n3.5',\n",
       " 'Intuit - Data\\n4.4',\n",
       " 'InvenTech Info\\n4.8',\n",
       " 'Itlize Global\\n4.6',\n",
       " 'JCD Staffing\\n5.0',\n",
       " 'JKGT',\n",
       " 'Jacobs\\n3.6',\n",
       " 'Jane Street\\n4.8',\n",
       " 'Jobot\\n5.0',\n",
       " 'Joby Aviation\\n4.3',\n",
       " 'Johns Hopkins University Applied Physics Laboratory\\n4.5',\n",
       " 'Juniper Networks\\n3.8',\n",
       " 'KeHE Distributors\\n2.5',\n",
       " 'Kehe Food Distributors',\n",
       " 'Kelly\\n3.4',\n",
       " 'Kforce\\n4.1',\n",
       " 'Kibo',\n",
       " 'Kingfisher Systems\\n4.5',\n",
       " 'Klaviyo\\n4.8',\n",
       " 'Knowesis Inc.\\n4.4',\n",
       " 'Kognetics\\n3.6',\n",
       " 'Kollasoft Inc.\\n3.2',\n",
       " 'LSQ\\n4.2',\n",
       " 'Latitude, Inc.\\n4.1',\n",
       " 'Lawrence Livermore National Lab\\n4.7',\n",
       " 'Leidos\\n3.5',\n",
       " 'Lendio\\n4.9',\n",
       " 'Liberty Mutual Insurance\\n3.4',\n",
       " 'Life360\\n3.9',\n",
       " 'LifeOmic\\n5.0',\n",
       " 'Lightspeed Systems\\n4.3',\n",
       " 'LinQuest\\n3.9',\n",
       " 'Lorven Technologies Inc\\n4.0',\n",
       " 'MILVETS Systems Technology, Inc.\\n3.4',\n",
       " 'MIT Lincoln Laboratory\\n3.8',\n",
       " 'MITRE\\n3.3',\n",
       " 'Mackin\\n3.4',\n",
       " 'Magna International Inc.\\n3.5',\n",
       " 'ManTech\\n4.2',\n",
       " 'Market America Inc\\n4.0',\n",
       " 'Mars\\n3.9',\n",
       " 'MassMutual\\n3.7',\n",
       " 'Mathematica Policy Research\\n3.4',\n",
       " 'Maven Wave Partners\\n4.5',\n",
       " 'Maxar Technologies\\n3.5',\n",
       " 'Maxiom\\n5.0',\n",
       " 'Mentor Graphics\\n4.1',\n",
       " 'Meridian Knowledge Solutions\\n4.4',\n",
       " 'Merrick Bank\\n3.6',\n",
       " 'Metromile\\n3.8',\n",
       " 'Metronome, LLC\\n3.2',\n",
       " 'Microagility',\n",
       " 'Midland Credit Management\\n3.3',\n",
       " 'MoTek Technologies\\n3.1',\n",
       " 'Monte Rosa Therapeutics',\n",
       " 'Montway Inc\\n3.4',\n",
       " 'Moxie Software\\n3.0',\n",
       " 'Mteq\\n3.7',\n",
       " 'Murray Resources\\n4.6',\n",
       " 'NAVEX Global\\n3.3',\n",
       " 'NYSTEC\\n3.8',\n",
       " 'Natera\\n3.9',\n",
       " 'Navio',\n",
       " 'Navy Federal Credit Union\\n3.9',\n",
       " 'Net2Source Inc.\\n3.2',\n",
       " 'Netskope\\n4.0',\n",
       " 'New England Biolabs\\n4.9',\n",
       " 'New Iron Group, Inc.\\n5.0',\n",
       " 'New Relic\\n4.7',\n",
       " 'New York Technology Partners\\n4.0',\n",
       " 'Noblis\\n4.0',\n",
       " 'Nolij Consulting\\n3.9',\n",
       " 'Notion Labs\\n5.0',\n",
       " 'Novartis\\n3.9',\n",
       " 'Novetta\\n4.5',\n",
       " 'Ntrepid\\n4.2',\n",
       " 'NuWave Solutions\\n4.4',\n",
       " 'Numeric, LLC\\n3.2',\n",
       " 'Object Partners\\n4.7',\n",
       " 'Offerpad\\n4.4',\n",
       " 'Old World Industries\\n3.1',\n",
       " 'OneMagnify\\n4.4',\n",
       " 'Opendoor\\n3.6',\n",
       " 'OppLoans\\n4.4',\n",
       " 'Oshkosh Corporation\\n4.2',\n",
       " 'Ovative Group\\n4.3',\n",
       " 'Oversight Systems\\n4.7',\n",
       " 'PETADATA',\n",
       " 'PNNL\\n3.7',\n",
       " 'PROPRIUS\\n5.0',\n",
       " 'Pacific Northwest National Laboratory\\n3.7',\n",
       " 'Pactera Edge',\n",
       " 'Paige\\n5.0',\n",
       " 'Parker Hannifin\\n3.3',\n",
       " 'PayPal\\n3.8',\n",
       " 'PeopleCom\\n5.0',\n",
       " 'Peraton\\n3.4',\n",
       " 'Perspecta\\n3.2',\n",
       " 'Pfizer\\n4.1',\n",
       " 'Phantom AI\\n5.0',\n",
       " 'Phoenix Operations Group\\n5.0',\n",
       " 'Photon Infotech\\n3.0',\n",
       " 'Plymouth Rock Assurance\\n3.4',\n",
       " 'Point72 Ventures',\n",
       " 'Postmates - Corporate HQ\\n3.2',\n",
       " 'Powertek\\n3.6',\n",
       " 'Pragmatics, Inc.\\n2.9',\n",
       " 'Praxis Engineering\\n4.7',\n",
       " 'Predictive Research Inc\\n3.9',\n",
       " 'Procore Technologies\\n4.2',\n",
       " 'Progress Rail, A Caterpillar Company\\n2.8',\n",
       " 'Protolabs\\n3.7',\n",
       " 'Puget Sound Energy\\n3.3',\n",
       " 'PulsePoint\\n4.3',\n",
       " 'QOMPLX\\n3.5',\n",
       " 'Quartet Health\\n3.9',\n",
       " 'Quest Integrity\\n2.9',\n",
       " 'Quick Base\\n4.3',\n",
       " 'Qurate Retail Group\\n3.6',\n",
       " 'REE\\n5.0',\n",
       " 'Radiant Digital\\n4.5',\n",
       " 'Radical Convergence',\n",
       " 'Rainmaker Resources, LLC',\n",
       " 'Rapid Value Solutions\\n3.9',\n",
       " 'Relativity\\n3.7',\n",
       " 'Resurgent Capital Services\\n4.4',\n",
       " 'Reynolds American\\n3.3',\n",
       " 'Rincon Research Corporation\\n4.2',\n",
       " 'Ritedose\\n3.5',\n",
       " 'Riverside Research Institute\\n3.6',\n",
       " 'Robert Half\\n3.5',\n",
       " 'Roche\\n4.1',\n",
       " 'Rocket Lawyer\\n4.4',\n",
       " 'Royce Geospatial\\n5.0',\n",
       " 'Rubius Therapeutics\\n3.8',\n",
       " 'SAIC\\n3.7',\n",
       " 'SPECTRUM\\n2.9',\n",
       " 'SSATI\\n5.0',\n",
       " 'Sage Intacct\\n4.7',\n",
       " 'Sandhills Global\\n2.7',\n",
       " 'Sandia National Laboratories\\n3.8',\n",
       " 'Sanofi\\n3.7',\n",
       " 'Scoop\\n4.7',\n",
       " 'Security Finance Corporation of Spartanburg\\n3.1',\n",
       " 'Shape Security\\n4.1',\n",
       " 'Sharpedge Solutions Inc\\n4.7',\n",
       " 'Shelter Insurance\\n4.1',\n",
       " 'Shimento, Inc.\\n2.9',\n",
       " 'ShorePoint\\n4.5',\n",
       " 'SkillSoniq\\n5.0',\n",
       " 'SleePare\\n3.4',\n",
       " 'Smith Hanley Associates\\n4.5',\n",
       " 'Software Engineering Institute\\n2.6',\n",
       " 'SolutionIT, Inc.\\n4.4',\n",
       " 'Solving IT International Inc\\n3.4',\n",
       " 'Sonde Health',\n",
       " 'Sophinea',\n",
       " 'Southwest Research Institute\\n3.9',\n",
       " 'Spectrum Communications and Consulting\\n3.4',\n",
       " 'Sprezzatura Management Consulting',\n",
       " 'Spring Health\\n3.6',\n",
       " 'State of Virginia\\n3.2',\n",
       " 'Stratagem Group\\n4.4',\n",
       " 'Stride Search',\n",
       " 'Stripe\\n4.0',\n",
       " 'Summa Health System\\n3.7',\n",
       " 'Surya Systems\\n4.6',\n",
       " 'Swiss Re\\n3.8',\n",
       " 'Systems & Technology Research\\n4.5',\n",
       " 'T. Rowe Price\\n3.6',\n",
       " 'TA Digital\\n3.7',\n",
       " 'TACG Solutions\\n4.5',\n",
       " 'TBWA\\\\Chiat\\\\Day\\n2.7',\n",
       " 'TE Connectivity\\n3.6',\n",
       " 'TECHNOCRAFT Solutions\\n3.4',\n",
       " 'TRANZACT\\n3.6',\n",
       " 'Take-Two\\n3.7',\n",
       " 'Takeda\\n3.7',\n",
       " 'TechProjects\\n4.8',\n",
       " 'Tecolote Research\\n3.8',\n",
       " 'Temboo\\n3.9',\n",
       " 'Tempo Automation\\n3.3',\n",
       " 'Tempus Labs\\n3.3',\n",
       " 'The Buffalo Group\\n4.3',\n",
       " 'The Davey Tree Expert Company\\n3.3',\n",
       " 'The Drive Media, Inc.\\n5.0',\n",
       " 'The Knot Worldwide\\n3.5',\n",
       " 'The Mom Project\\n4.9',\n",
       " 'The Trade Desk\\n3.2',\n",
       " 'ThreeBridge Solutions\\n3.5',\n",
       " 'Thumbtack\\n3.9',\n",
       " 'Tivity Health\\n3.2',\n",
       " 'Tokio Marine HCC\\n3.3',\n",
       " 'Tower Health\\n3.5',\n",
       " 'Trace Data\\n3.9',\n",
       " 'TransVoyant\\n3.0',\n",
       " 'Travelers\\n4.0',\n",
       " 'Trexquant Investment\\n4.0',\n",
       " 'Trident Systems Inc\\n3.4',\n",
       " 'Triplebyte\\n3.2',\n",
       " 'Trovetechs Inc',\n",
       " 'TrueAccord\\n3.4',\n",
       " 'Twitch\\n3.6',\n",
       " 'Twitter\\n4.1',\n",
       " 'Two95 International Inc.\\n4.0',\n",
       " 'Tygart Technology, Inc\\n4.7',\n",
       " 'US Pharmacopeia\\n3.2',\n",
       " 'USAC\\n2.7',\n",
       " 'USI\\n3.4',\n",
       " 'UST Global\\n4.2',\n",
       " 'Underwriters Laboratories\\n3.3',\n",
       " 'Unicom Technologies INC\\n4.7',\n",
       " 'United BioSource\\n2.3',\n",
       " 'Upside Business Travel\\n4.1',\n",
       " 'Upstart\\n4.2',\n",
       " 'VANTA Partners\\n5.0',\n",
       " 'VBeyond Corporation\\n4.4',\n",
       " 'Via Transportation\\n3.7',\n",
       " 'Visionary Integration Professionals\\n4.3',\n",
       " 'Visionist, Inc.\\n4.9',\n",
       " 'Voice\\n3.4',\n",
       " 'WCG (WIRB-Copernicus Group)\\n3.6',\n",
       " 'WGSN\\n3.5',\n",
       " 'Werner Enterprises Inc\\n3.1',\n",
       " 'Western Digital\\n3.5',\n",
       " 'XPO Logistics\\n3.7',\n",
       " 'XSELL Technologies\\n3.6',\n",
       " 'Xator Corporation\\n2.9',\n",
       " 'bioMérieux\\n4.2',\n",
       " 'eBay\\n3.5',\n",
       " 'hc1\\n2.9',\n",
       " 'iRobot\\n3.5',\n",
       " 'iSeatz\\n3.5',\n",
       " 'webfx.com\\n4.7']"
      ]
     },
     "execution_count": 63,
     "metadata": {},
     "output_type": "execute_result"
    }
   ],
   "source": [
    "# 'Company Name' Column\n",
    "\n",
    "sorted(data['Company Name'].unique())"
   ]
  },
  {
   "cell_type": "code",
   "execution_count": 64,
   "id": "72100817",
   "metadata": {
    "execution": {
     "iopub.execute_input": "2024-07-22T14:27:54.619604Z",
     "iopub.status.busy": "2024-07-22T14:27:54.619251Z",
     "iopub.status.idle": "2024-07-22T14:27:54.638566Z",
     "shell.execute_reply": "2024-07-22T14:27:54.637598Z"
    },
    "papermill": {
     "duration": 0.048091,
     "end_time": "2024-07-22T14:27:54.640544",
     "exception": false,
     "start_time": "2024-07-22T14:27:54.592453",
     "status": "completed"
    },
    "tags": []
   },
   "outputs": [
    {
     "data": {
      "text/plain": [
       "['1-800-Flowers',\n",
       " '1010data',\n",
       " '10x Genomics',\n",
       " '1904labs',\n",
       " '22nd Century Technologies',\n",
       " '7Park Data',\n",
       " 'A Place for Mom',\n",
       " 'A-Line Staffing Solutions',\n",
       " 'ABIOMED',\n",
       " 'ALTA IT Services',\n",
       " 'ASRC Federal Holding Company',\n",
       " 'AccessHope',\n",
       " 'Acuity Insurance',\n",
       " 'Advance Sourcing Concepts',\n",
       " 'Advanced Bio-Logic Solutions Corp',\n",
       " 'Advanced BioScience Laboratories',\n",
       " 'Adwait Algorithm',\n",
       " 'AeroVironment',\n",
       " 'Affinity Solutions',\n",
       " 'AgreeYa Solutions',\n",
       " 'Alaka`ina Foundation Family of Companies',\n",
       " 'Alector',\n",
       " 'Alignment Healthcare',\n",
       " 'Alion Science & Technology',\n",
       " 'Allen Institute',\n",
       " 'AllianceBernstein',\n",
       " 'Allied Solutions',\n",
       " 'Altus Group',\n",
       " 'Americo Life',\n",
       " 'Ameritas Life Insurance Corp',\n",
       " 'Amyris',\n",
       " 'Analysis Group',\n",
       " 'Apex Systems',\n",
       " 'AppLovin',\n",
       " 'Apple',\n",
       " 'Applied Research Laboratories',\n",
       " 'Aptive',\n",
       " 'Argo Group US',\n",
       " 'Arsenal Biosciences',\n",
       " 'AstraZeneca',\n",
       " 'Autodesk',\n",
       " 'Averity',\n",
       " 'Aveshka, Inc.',\n",
       " 'Avlino',\n",
       " 'Axiologic Solutions',\n",
       " 'B4Corp',\n",
       " 'BWX Technologies',\n",
       " 'Battelle',\n",
       " 'Bayside Solutions',\n",
       " 'Bayview Asset Management',\n",
       " 'Benson Hill',\n",
       " 'Berico Technologies',\n",
       " 'Better Hire',\n",
       " 'Big Huge Games',\n",
       " 'Biogen',\n",
       " 'Blackstone Talent Group',\n",
       " 'Blend360',\n",
       " 'Blue Cloak LLC',\n",
       " 'Blue Cross and Blue Shield of North Carolina',\n",
       " 'Blue Horizon Tek Solutions',\n",
       " 'Blue Icy Water, LLC',\n",
       " 'Booz Allen Hamilton Inc.',\n",
       " 'Brighthouse Financial',\n",
       " 'Brillient',\n",
       " 'Buckman',\n",
       " 'Burns & McDonnell',\n",
       " 'C3.ai',\n",
       " 'CACI International',\n",
       " 'CIA',\n",
       " 'CRS Group',\n",
       " 'Cambridge Associates, LLC',\n",
       " 'Cambridge FX',\n",
       " 'Cambridge Mobile Telematics',\n",
       " 'Capio Group',\n",
       " 'CaptiveAire',\n",
       " 'CareDx',\n",
       " 'Carolina Power & Light Co',\n",
       " 'Caterpillar',\n",
       " 'Cenlar',\n",
       " 'Centauri',\n",
       " 'Central Business Solutions, Inc',\n",
       " 'Central California Alliance for Health',\n",
       " 'Centraprise',\n",
       " 'ChaTeck Incorporated',\n",
       " 'Change Healthcare',\n",
       " 'Chef',\n",
       " 'Child Care Aware of America',\n",
       " 'Clear Ridge Defense',\n",
       " 'ClearEdge',\n",
       " 'Cohere Health',\n",
       " 'Colony Brands',\n",
       " 'Comcast',\n",
       " 'Community Behavioral Health',\n",
       " 'Compass Consulting Group',\n",
       " 'Comprehensive Healthcare',\n",
       " 'CompuForce',\n",
       " 'Comtech Global Inc',\n",
       " 'Conagen',\n",
       " 'Concerto HealthAI',\n",
       " 'Conch Technologies, Inc',\n",
       " 'Conflux Systems Inc.',\n",
       " 'Constant Contact',\n",
       " 'ConsumerTrack',\n",
       " \"Cook Children's Health Care System\",\n",
       " 'Coverent',\n",
       " 'Covid-19 Search Partners',\n",
       " 'Creative Circle',\n",
       " 'Criteo',\n",
       " 'Criterion Systems, Inc.',\n",
       " 'Crossover Health',\n",
       " 'Crown Bioscience',\n",
       " 'Cubic',\n",
       " 'CyberCoders',\n",
       " 'DCS Corp',\n",
       " 'DW Simpson',\n",
       " 'DataLab USA',\n",
       " 'Demandbase',\n",
       " 'Dermalogica',\n",
       " 'Descript',\n",
       " 'Dice.com',\n",
       " 'Direct Agents',\n",
       " 'Dolphin',\n",
       " 'Dynetics',\n",
       " 'E3 Federal Solutions',\n",
       " 'EGlobalTech',\n",
       " 'Edmunds.com',\n",
       " 'Eliassen Group',\n",
       " 'Encode, Inc.',\n",
       " 'Enterprise Solutions Inc',\n",
       " 'Envision Healthcare',\n",
       " 'Envision LLC',\n",
       " 'Eversight',\n",
       " 'Evidation',\n",
       " 'Evidera',\n",
       " 'Evolve Vacation Rental',\n",
       " 'Evolvinc',\n",
       " 'Exact Sciences Corporation',\n",
       " 'Expedition Technology, Inc.',\n",
       " 'Exponent',\n",
       " 'FHLBank Pittsburgh',\n",
       " 'FM Systems',\n",
       " 'Falcon IT & Staffing Solutions',\n",
       " \"Farmer's Business Network, Inc.\",\n",
       " 'First Health Group',\n",
       " 'Fleetcor',\n",
       " 'Formation',\n",
       " 'Foundation Medicine',\n",
       " 'Fullpower Technologies, Inc.',\n",
       " 'GNS Healthcare',\n",
       " 'GSK',\n",
       " 'Gallup',\n",
       " 'Gap Inc.',\n",
       " 'Genentech',\n",
       " 'General Dynamics Information Technology',\n",
       " 'Genesis Research',\n",
       " 'Geotab',\n",
       " 'GetWellNetwork',\n",
       " 'Gigya',\n",
       " 'Giving Assistant',\n",
       " 'Global Data Management Inc',\n",
       " 'GovTech',\n",
       " 'GrainBridge, LLC',\n",
       " 'Great-Circle Technologies',\n",
       " 'GreatAmerica Financial Services',\n",
       " 'Grid Dynamics',\n",
       " 'Group O',\n",
       " 'Guardian Life',\n",
       " 'GutCheck',\n",
       " 'Guzman & Griffin Technologies (GGTI)',\n",
       " 'HAN IT Staffing Inc.',\n",
       " 'HG Insights',\n",
       " 'HP Inc.',\n",
       " 'HPOne',\n",
       " 'Hackensack Meridian Health',\n",
       " 'Hatch Data Inc',\n",
       " 'Healthfirst',\n",
       " 'Hexagon US Federal',\n",
       " 'HireAi',\n",
       " 'Hive (CA)',\n",
       " 'Homology Medicines, Inc.',\n",
       " 'Huxley',\n",
       " 'IBM',\n",
       " 'ICW Group',\n",
       " 'IFG Companies',\n",
       " 'II-VI Incorporated',\n",
       " 'IMG Systems',\n",
       " 'INFICON',\n",
       " 'ISO New England',\n",
       " 'ISYS Technologies, Inc.',\n",
       " 'IT Concepts',\n",
       " 'IZEA',\n",
       " 'Indigo Slate',\n",
       " 'Infinitive Inc',\n",
       " 'Inland Empire Health Plan',\n",
       " 'Insider Inc',\n",
       " 'Insight Enterprises, Inc.',\n",
       " 'Intellectual Ventures',\n",
       " 'IntelliPro Group Inc.',\n",
       " 'Inter-American Development Bank',\n",
       " 'Intuit - Data',\n",
       " 'InvenTech Info',\n",
       " 'Itlize Global',\n",
       " 'JCD Staffing',\n",
       " 'JKGT',\n",
       " 'Jacobs',\n",
       " 'Jane Street',\n",
       " 'Jobot',\n",
       " 'Joby Aviation',\n",
       " 'Johns Hopkins University Applied Physics Laboratory',\n",
       " 'Juniper Networks',\n",
       " 'KeHE Distributors',\n",
       " 'Kehe Food Distributors',\n",
       " 'Kelly',\n",
       " 'Kforce',\n",
       " 'Kibo',\n",
       " 'Kingfisher Systems',\n",
       " 'Klaviyo',\n",
       " 'Knowesis Inc.',\n",
       " 'Kognetics',\n",
       " 'Kollasoft Inc.',\n",
       " 'LSQ',\n",
       " 'Latitude, Inc.',\n",
       " 'Lawrence Livermore National Lab',\n",
       " 'Leidos',\n",
       " 'Lendio',\n",
       " 'Liberty Mutual Insurance',\n",
       " 'Life360',\n",
       " 'LifeOmic',\n",
       " 'Lightspeed Systems',\n",
       " 'LinQuest',\n",
       " 'Lorven Technologies Inc',\n",
       " 'MILVETS Systems Technology, Inc.',\n",
       " 'MIT Lincoln Laboratory',\n",
       " 'MITRE',\n",
       " 'Mackin',\n",
       " 'Magna International Inc.',\n",
       " 'ManTech',\n",
       " 'Market America Inc',\n",
       " 'Mars',\n",
       " 'MassMutual',\n",
       " 'Mathematica Policy Research',\n",
       " 'Maven Wave Partners',\n",
       " 'Maxar Technologies',\n",
       " 'Maxiom',\n",
       " 'Mentor Graphics',\n",
       " 'Meridian Knowledge Solutions',\n",
       " 'Merrick Bank',\n",
       " 'Metromile',\n",
       " 'Metronome, LLC',\n",
       " 'Microagility',\n",
       " 'Midland Credit Management',\n",
       " 'MoTek Technologies',\n",
       " 'Monte Rosa Therapeutics',\n",
       " 'Montway Inc',\n",
       " 'Moxie Software',\n",
       " 'Mteq',\n",
       " 'Murray Resources',\n",
       " 'NAVEX Global',\n",
       " 'NYSTEC',\n",
       " 'Natera',\n",
       " 'Navio',\n",
       " 'Navy Federal Credit Union',\n",
       " 'Net2Source Inc.',\n",
       " 'Netskope',\n",
       " 'New England Biolabs',\n",
       " 'New Iron Group, Inc.',\n",
       " 'New Relic',\n",
       " 'New York Technology Partners',\n",
       " 'Noblis',\n",
       " 'Nolij Consulting',\n",
       " 'Notion Labs',\n",
       " 'Novartis',\n",
       " 'Novetta',\n",
       " 'Ntrepid',\n",
       " 'NuWave Solutions',\n",
       " 'Numeric, LLC',\n",
       " 'Object Partners',\n",
       " 'Offerpad',\n",
       " 'Old World Industries',\n",
       " 'OneMagnify',\n",
       " 'Opendoor',\n",
       " 'OppLoans',\n",
       " 'Oshkosh Corporation',\n",
       " 'Ovative Group',\n",
       " 'Oversight Systems',\n",
       " 'PETADATA',\n",
       " 'PNNL',\n",
       " 'PROPRIUS',\n",
       " 'Pacific Northwest National Laboratory',\n",
       " 'Pactera Edge',\n",
       " 'Paige',\n",
       " 'Parker Hannifin',\n",
       " 'PayPal',\n",
       " 'PeopleCom',\n",
       " 'Peraton',\n",
       " 'Perspecta',\n",
       " 'Pfizer',\n",
       " 'Phantom AI',\n",
       " 'Phoenix Operations Group',\n",
       " 'Photon Infotech',\n",
       " 'Plymouth Rock Assurance',\n",
       " 'Point72 Ventures',\n",
       " 'Postmates - Corporate HQ',\n",
       " 'Powertek',\n",
       " 'Pragmatics, Inc.',\n",
       " 'Praxis Engineering',\n",
       " 'Predictive Research Inc',\n",
       " 'Procore Technologies',\n",
       " 'Progress Rail, A Caterpillar Company',\n",
       " 'Protolabs',\n",
       " 'Puget Sound Energy',\n",
       " 'PulsePoint',\n",
       " 'QOMPLX',\n",
       " 'Quartet Health',\n",
       " 'Quest Integrity',\n",
       " 'Quick Base',\n",
       " 'Qurate Retail Group',\n",
       " 'REE',\n",
       " 'Radiant Digital',\n",
       " 'Radical Convergence',\n",
       " 'Rainmaker Resources, LLC',\n",
       " 'Rapid Value Solutions',\n",
       " 'Relativity',\n",
       " 'Resurgent Capital Services',\n",
       " 'Reynolds American',\n",
       " 'Rincon Research Corporation',\n",
       " 'Ritedose',\n",
       " 'Riverside Research Institute',\n",
       " 'Robert Half',\n",
       " 'Roche',\n",
       " 'Rocket Lawyer',\n",
       " 'Royce Geospatial',\n",
       " 'Rubius Therapeutics',\n",
       " 'SAIC',\n",
       " 'SPECTRUM',\n",
       " 'SSATI',\n",
       " 'Sage Intacct',\n",
       " 'Sandhills Global',\n",
       " 'Sandia National Laboratories',\n",
       " 'Sanofi',\n",
       " 'Scoop',\n",
       " 'Security Finance Corporation of Spartanburg',\n",
       " 'Shape Security',\n",
       " 'Sharpedge Solutions Inc',\n",
       " 'Shelter Insurance',\n",
       " 'Shimento, Inc.',\n",
       " 'ShorePoint',\n",
       " 'SkillSoniq',\n",
       " 'SleePare',\n",
       " 'Smith Hanley Associates',\n",
       " 'Software Engineering Institute',\n",
       " 'SolutionIT, Inc.',\n",
       " 'Solving IT International Inc',\n",
       " 'Sonde Health',\n",
       " 'Sophinea',\n",
       " 'Southwest Research Institute',\n",
       " 'Spectrum Communications and Consulting',\n",
       " 'Sprezzatura Management Consulting',\n",
       " 'Spring Health',\n",
       " 'State of Virginia',\n",
       " 'Stratagem Group',\n",
       " 'Stride Search',\n",
       " 'Stripe',\n",
       " 'Summa Health System',\n",
       " 'Surya Systems',\n",
       " 'Swiss Re',\n",
       " 'Systems & Technology Research',\n",
       " 'T. Rowe Price',\n",
       " 'TA Digital',\n",
       " 'TACG Solutions',\n",
       " 'TBWA\\\\Chiat\\\\Day',\n",
       " 'TE Connectivity',\n",
       " 'TECHNOCRAFT Solutions',\n",
       " 'TRANZACT',\n",
       " 'Take-Two',\n",
       " 'Takeda',\n",
       " 'TechProjects',\n",
       " 'Tecolote Research',\n",
       " 'Temboo',\n",
       " 'Tempo Automation',\n",
       " 'Tempus Labs',\n",
       " 'The Buffalo Group',\n",
       " 'The Davey Tree Expert Company',\n",
       " 'The Drive Media, Inc.',\n",
       " 'The Knot Worldwide',\n",
       " 'The Mom Project',\n",
       " 'The Trade Desk',\n",
       " 'ThreeBridge Solutions',\n",
       " 'Thumbtack',\n",
       " 'Tivity Health',\n",
       " 'Tokio Marine HCC',\n",
       " 'Tower Health',\n",
       " 'Trace Data',\n",
       " 'TransVoyant',\n",
       " 'Travelers',\n",
       " 'Trexquant Investment',\n",
       " 'Trident Systems Inc',\n",
       " 'Triplebyte',\n",
       " 'Trovetechs Inc',\n",
       " 'TrueAccord',\n",
       " 'Twitch',\n",
       " 'Twitter',\n",
       " 'Two95 International Inc.',\n",
       " 'Tygart Technology, Inc',\n",
       " 'US Pharmacopeia',\n",
       " 'USAC',\n",
       " 'USI',\n",
       " 'UST Global',\n",
       " 'Underwriters Laboratories',\n",
       " 'Unicom Technologies INC',\n",
       " 'United BioSource',\n",
       " 'Upside Business Travel',\n",
       " 'Upstart',\n",
       " 'VANTA Partners',\n",
       " 'VBeyond Corporation',\n",
       " 'Via Transportation',\n",
       " 'Visionary Integration Professionals',\n",
       " 'Visionist, Inc.',\n",
       " 'Voice',\n",
       " 'WCG (WIRB-Copernicus Group)',\n",
       " 'WGSN',\n",
       " 'Werner Enterprises Inc',\n",
       " 'Western Digital',\n",
       " 'XPO Logistics',\n",
       " 'XSELL Technologies',\n",
       " 'Xator Corporation',\n",
       " 'bioMérieux',\n",
       " 'eBay',\n",
       " 'hc1',\n",
       " 'iRobot',\n",
       " 'iSeatz',\n",
       " 'webfx.com']"
      ]
     },
     "execution_count": 64,
     "metadata": {},
     "output_type": "execute_result"
    }
   ],
   "source": [
    "data['Company Name'] = data['Company Name'].replace(r'\\n\\d\\.\\d', '', regex=True)\n",
    "\n",
    "sorted(data['Company Name'].unique())"
   ]
  },
  {
   "cell_type": "code",
   "execution_count": 65,
   "id": "5583f8a0",
   "metadata": {
    "execution": {
     "iopub.execute_input": "2024-07-22T14:27:54.726817Z",
     "iopub.status.busy": "2024-07-22T14:27:54.725879Z",
     "iopub.status.idle": "2024-07-22T14:27:54.737983Z",
     "shell.execute_reply": "2024-07-22T14:27:54.736971Z"
    },
    "papermill": {
     "duration": 0.037914,
     "end_time": "2024-07-22T14:27:54.739979",
     "exception": false,
     "start_time": "2024-07-22T14:27:54.702065",
     "status": "completed"
    },
    "tags": []
   },
   "outputs": [
    {
     "data": {
      "text/plain": [
       "['Adelphi, MD',\n",
       " 'Akron, OH',\n",
       " 'Alexandria, VA',\n",
       " 'Alpharetta, GA',\n",
       " 'Ann Arbor, MI',\n",
       " 'Annapolis Junction, MD',\n",
       " 'Appleton, WI',\n",
       " 'Arlington, VA',\n",
       " 'Ashburn, VA',\n",
       " 'Atlanta, GA',\n",
       " 'Aurora, CO',\n",
       " 'Austin, TX',\n",
       " 'Baltimore, MD',\n",
       " 'Beavercreek, OH',\n",
       " 'Bedford, MA',\n",
       " 'Bellevue, WA',\n",
       " 'Bethesda, MD',\n",
       " 'Birmingham, AL',\n",
       " 'Blue Bell, PA',\n",
       " 'Boston, MA',\n",
       " 'Bothell, WA',\n",
       " 'Boulder, CO',\n",
       " 'Bridgeport, WV',\n",
       " 'Brisbane, CA',\n",
       " 'Brooklyn, NY',\n",
       " 'Burbank, CA',\n",
       " 'Burlingame, CA',\n",
       " 'California',\n",
       " 'Cambridge, MA',\n",
       " 'Carmel, IN',\n",
       " 'Carpinteria, CA',\n",
       " 'Carson, CA',\n",
       " 'Cedar Rapids, IA',\n",
       " 'Champaign, IL',\n",
       " 'Chandler, AZ',\n",
       " 'Chantilly, VA',\n",
       " 'Charlotte, NC',\n",
       " 'Chicago, IL',\n",
       " 'Cincinnati, OH',\n",
       " 'Cleveland, OH',\n",
       " 'Collegeville, PA',\n",
       " 'Colorado Springs, CO',\n",
       " 'Columbia, MD',\n",
       " 'Columbia, MO',\n",
       " 'Columbia, SC',\n",
       " 'Concord, CA',\n",
       " 'Coral Gables, FL',\n",
       " 'Culver City, CA',\n",
       " 'Cupertino, CA',\n",
       " 'Dallas, TX',\n",
       " 'Danvers, MA',\n",
       " 'Dayton, OH',\n",
       " 'Dearborn, MI',\n",
       " 'Denver, CO',\n",
       " 'Durham, NC',\n",
       " 'Edison, NJ',\n",
       " 'Emeryville, CA',\n",
       " 'Ewing, NJ',\n",
       " 'Fairfax, VA',\n",
       " 'Falls Church, VA',\n",
       " 'Fort Belvoir, VA',\n",
       " 'Fort Lee, NJ',\n",
       " 'Fort Meade, MD',\n",
       " 'Fort Sam Houston, TX',\n",
       " 'Fort Wayne, IN',\n",
       " 'Fort Worth, TX',\n",
       " 'Foster City, CA',\n",
       " 'Frederick, MD',\n",
       " 'Fremont, CA',\n",
       " 'Gahanna, OH',\n",
       " 'Gaithersburg, MD',\n",
       " 'Germantown, MD',\n",
       " 'Hamilton, NJ',\n",
       " 'Hampton, VA',\n",
       " 'Harrisburg, PA',\n",
       " 'Hartford, CT',\n",
       " 'Hauppauge, NY',\n",
       " 'Herndon, VA',\n",
       " 'Hill AFB, UT',\n",
       " 'Hoboken, NJ',\n",
       " 'Holyoke, MA',\n",
       " 'Houston, TX',\n",
       " 'Huntsville, AL',\n",
       " 'Indianapolis, IN',\n",
       " 'Ipswich, MA',\n",
       " 'Irvine, CA',\n",
       " 'Irwindale, CA',\n",
       " 'Jersey City, NJ',\n",
       " 'Kansas City, MO',\n",
       " 'Kent, OH',\n",
       " 'Lake Oswego, OR',\n",
       " 'Laurel, MD',\n",
       " 'Lebanon, IN',\n",
       " 'Lehi, UT',\n",
       " 'Lexington Park, MD',\n",
       " 'Lexington, MA',\n",
       " 'Lincoln, NE',\n",
       " 'Linthicum Heights, MD',\n",
       " 'Livermore, CA',\n",
       " 'Lombard, IL',\n",
       " 'Longmont, CO',\n",
       " 'Madison, WI',\n",
       " 'Manchester, NH',\n",
       " 'Maple Plain, MN',\n",
       " 'Maryland Heights, MO',\n",
       " 'McLean, VA',\n",
       " 'Melbourne, FL',\n",
       " 'Memphis, TN',\n",
       " 'Menlo Park, CA',\n",
       " 'Merrifield, VA',\n",
       " 'Minneapolis, MN',\n",
       " 'Monroe, WI',\n",
       " 'Monterey, CA',\n",
       " 'Mountain View, CA',\n",
       " 'Naperville, IL',\n",
       " 'Nashville, TN',\n",
       " 'New Bedford, MA',\n",
       " 'New Jersey',\n",
       " 'New Orleans, LA',\n",
       " 'New York, NY',\n",
       " 'Newton, MA',\n",
       " 'Norfolk, VA',\n",
       " 'Northbrook, IL',\n",
       " 'Norwell, MA',\n",
       " 'Oak Ridge, TN',\n",
       " 'Oakland, CA',\n",
       " 'Oakville, CA',\n",
       " 'Oklahoma City, OK',\n",
       " 'Omaha, NE',\n",
       " 'Open Fork, VA',\n",
       " 'Orange, CA',\n",
       " 'Orlando, FL',\n",
       " 'Oshkosh, WI',\n",
       " 'Overland Park, KS',\n",
       " 'Oxnard, CA',\n",
       " 'Palo Alto, CA',\n",
       " 'Patuxent, Anne Arundel, MD',\n",
       " 'Peoria, IL',\n",
       " 'Philadelphia, PA',\n",
       " 'Phoenix, AZ',\n",
       " 'Piscataway, NJ',\n",
       " 'Pittsburgh, PA',\n",
       " 'Plano, TX',\n",
       " 'Pleasanton, CA',\n",
       " 'Portland, OR',\n",
       " 'Portsmouth, NH',\n",
       " 'Quantico, VA',\n",
       " 'Raleigh, NC',\n",
       " 'Rancho Cucamonga, CA',\n",
       " 'Redmond, WA',\n",
       " 'Redwood City, CA',\n",
       " 'Remote',\n",
       " 'Reston, VA',\n",
       " 'Richland, WA',\n",
       " 'Richmond, VA',\n",
       " 'Rockville, MD',\n",
       " 'Sacramento, CA',\n",
       " 'Saint Louis, MO',\n",
       " 'San Antonio, TX',\n",
       " 'San Carlos, CA',\n",
       " 'San Clemente, CA',\n",
       " 'San Diego, CA',\n",
       " 'San Francisco, CA',\n",
       " 'San Jose, CA',\n",
       " 'San Mateo, CA',\n",
       " 'San Ramon, CA',\n",
       " 'Santa Barbara, CA',\n",
       " 'Santa Clara, CA',\n",
       " 'Santa Cruz, CA',\n",
       " 'Santa Monica, CA',\n",
       " 'Schaumburg, IL',\n",
       " 'Scotts Valley, CA',\n",
       " 'Seattle, WA',\n",
       " 'Sheboygan, WI',\n",
       " 'Silver Spring, MD',\n",
       " 'Simi Valley, CA',\n",
       " 'Smithfield, RI',\n",
       " 'South San Francisco, CA',\n",
       " 'Southfield, MI',\n",
       " 'Spartanburg, SC',\n",
       " 'Springfield, VA',\n",
       " 'Sterling, VA',\n",
       " 'Sunnyvale, CA',\n",
       " 'Texas',\n",
       " 'The Woodlands, TX',\n",
       " 'Thousand Oaks, CA',\n",
       " 'Timonium, MD',\n",
       " 'Trumbull, CT',\n",
       " 'Tulsa, OK',\n",
       " 'United States',\n",
       " 'Utah',\n",
       " 'Vicksburg, MS',\n",
       " 'Vienna, VA',\n",
       " 'Waltham, MA',\n",
       " 'Washington, DC',\n",
       " 'Washington, VA',\n",
       " 'Wellesley, MA',\n",
       " 'West Chester, PA',\n",
       " 'West Grove, PA',\n",
       " 'Wilmington, DE',\n",
       " 'Winston-Salem, NC',\n",
       " 'Winter Park, FL',\n",
       " 'Winters, TX',\n",
       " 'Woburn, MA',\n",
       " 'Woodbridge, NJ',\n",
       " 'Woodlawn, MD',\n",
       " 'Yakima, WA']"
      ]
     },
     "execution_count": 65,
     "metadata": {},
     "output_type": "execute_result"
    }
   ],
   "source": [
    "# Location Column\n",
    "\n",
    "sorted(data.Location.unique())"
   ]
  },
  {
   "cell_type": "code",
   "execution_count": 66,
   "id": "90c2242c",
   "metadata": {
    "execution": {
     "iopub.execute_input": "2024-07-22T14:27:54.789488Z",
     "iopub.status.busy": "2024-07-22T14:27:54.789092Z",
     "iopub.status.idle": "2024-07-22T14:27:54.804034Z",
     "shell.execute_reply": "2024-07-22T14:27:54.803323Z"
    },
    "papermill": {
     "duration": 0.044188,
     "end_time": "2024-07-22T14:27:54.805901",
     "exception": false,
     "start_time": "2024-07-22T14:27:54.761713",
     "status": "completed"
    },
    "tags": []
   },
   "outputs": [],
   "source": [
    "# Regular expression to split the location into city and state\n",
    "data[['City', 'State']] = data['Location'].str.extract(r'^(.*?),\\s*([A-Z]{2})$')\n",
    "\n",
    "# Drop the original 'location' column if it's no longer needed\n",
    "data.drop(columns=['Location'], inplace=True)"
   ]
  },
  {
   "cell_type": "code",
   "execution_count": 67,
   "id": "6a3f8aa5",
   "metadata": {
    "execution": {
     "iopub.execute_input": "2024-07-22T14:27:54.855630Z",
     "iopub.status.busy": "2024-07-22T14:27:54.855269Z",
     "iopub.status.idle": "2024-07-22T14:27:54.867003Z",
     "shell.execute_reply": "2024-07-22T14:27:54.866145Z"
    },
    "papermill": {
     "duration": 0.037946,
     "end_time": "2024-07-22T14:27:54.869104",
     "exception": false,
     "start_time": "2024-07-22T14:27:54.831158",
     "status": "completed"
    },
    "tags": []
   },
   "outputs": [
    {
     "data": {
      "text/plain": [
       "['-1',\n",
       " 'Akron, OH',\n",
       " 'Albertville, AL',\n",
       " 'Albuquerque, NM',\n",
       " 'Alexandria, VA',\n",
       " 'Aliso Viejo, CA',\n",
       " 'Alpharetta, GA',\n",
       " 'Annapolis Junction, MD',\n",
       " 'Arlington, VA',\n",
       " 'Armonk, NY',\n",
       " 'Ashburn, VA',\n",
       " 'Atlanta, GA',\n",
       " 'Aurora, CO',\n",
       " 'Aurora, Canada',\n",
       " 'Austin, TX',\n",
       " 'Bad Ragaz, Switzerland',\n",
       " 'Baltimore, MD',\n",
       " 'Bangalore, India',\n",
       " 'Basel, Switzerland',\n",
       " 'Beavercreek, OH',\n",
       " 'Bedford, MA',\n",
       " 'Bellevue, WA',\n",
       " 'Beltsville, MD',\n",
       " 'Bengaluru, India',\n",
       " 'Benicia, CA',\n",
       " 'Bethesda, MD',\n",
       " 'Birmingham, AL',\n",
       " 'Blue Bell, PA',\n",
       " 'Boston, MA',\n",
       " 'Brentford, United Kingdom',\n",
       " 'Brisbane, CA',\n",
       " 'Bristol, PA',\n",
       " 'Burlingame, CA',\n",
       " 'Cambridge, MA',\n",
       " 'Cambridge, United Kingdom',\n",
       " 'Carle Place, NY',\n",
       " 'Carmel, IN',\n",
       " 'Carpinteria, CA',\n",
       " 'Carson, CA',\n",
       " 'Cedar Rapids, IA',\n",
       " 'Chadds Ford, PA',\n",
       " 'Chandler, AZ',\n",
       " 'Chantilly, VA',\n",
       " 'Charlotte, NC',\n",
       " 'Chennai, India',\n",
       " 'Cherry Hill, NJ',\n",
       " 'Chevy Chase, MD',\n",
       " 'Chicago, IL',\n",
       " 'Cincinnati, OH',\n",
       " 'Cleveland, OH',\n",
       " 'Clifton Park, NY',\n",
       " 'Coconut Creek, FL',\n",
       " 'Columbia, MD',\n",
       " 'Columbia, MO',\n",
       " 'Columbia, SC',\n",
       " 'Columbus, OH',\n",
       " 'Coral Gables, FL',\n",
       " 'Cupertino, CA',\n",
       " 'Dallas, TX',\n",
       " 'Danvers, MA',\n",
       " 'Danville, CA',\n",
       " 'Deerfield, IL',\n",
       " 'Denver, CO',\n",
       " 'Detroit, MI',\n",
       " 'Dulles, VA',\n",
       " 'Durham, NC',\n",
       " 'Edison, NJ',\n",
       " 'Emeryville, CA',\n",
       " 'Ewing, NJ',\n",
       " 'Fairfax, VA',\n",
       " 'Fairmont, WV',\n",
       " 'Falls Church, VA',\n",
       " 'Folsom, CA',\n",
       " 'Fort Lee, NJ',\n",
       " 'Fort Worth, TX',\n",
       " 'Franklin, TN',\n",
       " 'Fremont, CA',\n",
       " 'Germantown, MD',\n",
       " 'Glen Allen, VA',\n",
       " 'Goleta, CA',\n",
       " 'Goteborg, Sweden',\n",
       " 'Greensboro, NC',\n",
       " 'Greenville, SC',\n",
       " 'Greenwich, CT',\n",
       " 'Half Moon Bay, CA',\n",
       " 'Hamilton, Bermuda',\n",
       " 'Hanover, MD',\n",
       " 'Harrisburg, PA',\n",
       " 'Hartford, CT',\n",
       " 'Herndon, VA',\n",
       " 'Hilliard, OH',\n",
       " 'Hillsborough, NJ',\n",
       " 'Hoboken, NJ',\n",
       " 'Holmdel, NJ',\n",
       " 'Holyoke, MA',\n",
       " 'Honolulu, HI',\n",
       " 'Houston, TX',\n",
       " 'Huntsville, AL',\n",
       " 'Indianapolis, IN',\n",
       " 'Ipswich, MA',\n",
       " 'Irvine, CA',\n",
       " 'Irving, TX',\n",
       " 'Itasca, IL',\n",
       " 'Jersey City, NJ',\n",
       " 'Kansas City, MO',\n",
       " 'Kent, OH',\n",
       " 'Kent, WA',\n",
       " 'Lake Buena Vista, FL',\n",
       " 'Lake Oswego, OR',\n",
       " 'Langley, VA',\n",
       " 'Laurel, MD',\n",
       " 'Leesburg, VA',\n",
       " 'Lehi, UT',\n",
       " 'Lexington, MA',\n",
       " 'Lincoln, NE',\n",
       " 'Littleton, CO',\n",
       " 'Livermore, CA',\n",
       " 'Livonia, MI',\n",
       " 'Lombard, IL',\n",
       " 'London, United Kingdom',\n",
       " 'Lorton, VA',\n",
       " 'Los Angeles, CA',\n",
       " 'Lutherville Timonium, MD',\n",
       " 'Lynchburg, VA',\n",
       " 'Madison, WI',\n",
       " 'Manalapan, NJ',\n",
       " 'Maple Plain, MN',\n",
       " 'Marbella, Spain',\n",
       " \"Marcy-l'Etoile, France\",\n",
       " 'Mays Landing, NJ',\n",
       " 'Mc Lean, VA',\n",
       " 'McLean, VA',\n",
       " 'Memphis, TN',\n",
       " 'Menlo Park, CA',\n",
       " 'Milan, IL',\n",
       " 'Minneapolis, MN',\n",
       " 'Monroe, WI',\n",
       " 'Mountain View, CA',\n",
       " 'Naperville, IL',\n",
       " 'Nashville, TN',\n",
       " 'New Orleans, LA',\n",
       " 'New York, 061',\n",
       " 'New York, NY',\n",
       " 'Newark, CA',\n",
       " 'North Brunswick, NJ',\n",
       " 'Northbrook, IL',\n",
       " 'OSAKA, Japan',\n",
       " 'Oakville, Canada',\n",
       " 'Omaha, NE',\n",
       " 'Orange, CA',\n",
       " 'Orlando, FL',\n",
       " 'Oshkosh, WI',\n",
       " 'Palo Alto, CA',\n",
       " 'Paris, France',\n",
       " 'Phila, PA',\n",
       " 'Philadelphia, PA',\n",
       " 'Piscataway, NJ',\n",
       " 'Pittsburgh, PA',\n",
       " 'Plainsboro, NJ',\n",
       " 'Plano, TX',\n",
       " 'Pleasanton, CA',\n",
       " 'Princeton, NJ',\n",
       " 'Raleigh, NC',\n",
       " 'Rancho Cucamonga, CA',\n",
       " 'Reading, MA',\n",
       " 'Reading, PA',\n",
       " 'Redwood City, CA',\n",
       " 'Reston, VA',\n",
       " 'Richland, WA',\n",
       " 'Richmond, VA',\n",
       " 'Rockville, MD',\n",
       " 'Rome, NY',\n",
       " 'Saint Louis, MO',\n",
       " 'Saint Paul, MN',\n",
       " 'San Antonio, TX',\n",
       " 'San Bruno, CA',\n",
       " 'San Carlos, CA',\n",
       " 'San Diego, CA',\n",
       " 'San Francisco, CA',\n",
       " 'San Jose, CA',\n",
       " 'San Mateo, CA',\n",
       " 'San Rafael, CA',\n",
       " 'San Ramon, CA',\n",
       " 'Santa Ana, CA',\n",
       " 'Santa Barbara, CA',\n",
       " 'Santa Clara, CA',\n",
       " 'Santa Cruz, CA',\n",
       " 'Santa Monica, CA',\n",
       " 'Saxonburg, PA',\n",
       " 'Schaffhausen, Switzerland',\n",
       " 'Schaumburg, IL',\n",
       " 'Scotts Valley, CA',\n",
       " 'Scottsdale, AZ',\n",
       " 'Seattle, WA',\n",
       " 'Sheboygan, WI',\n",
       " 'Simi Valley, CA',\n",
       " 'Singapore, Singapore',\n",
       " 'Somerset, NJ',\n",
       " 'South Jordan, UT',\n",
       " 'South San Francisco, CA',\n",
       " 'Spartanburg, SC',\n",
       " 'Springfield, MA',\n",
       " 'Stamford, CT',\n",
       " 'Sunnyvale, CA',\n",
       " 'Tampa, FL',\n",
       " 'Tel Aviv-Yafo, Israel',\n",
       " 'Tempe, AZ',\n",
       " 'Toronto, Canada',\n",
       " 'Totowa, NJ',\n",
       " 'Troy, MI',\n",
       " 'Trumbull, CT',\n",
       " 'Tucson, AZ',\n",
       " 'Utica, MI',\n",
       " 'Ventura, CA',\n",
       " 'Vienna, VA',\n",
       " 'Waltham, MA',\n",
       " 'Washington, DC',\n",
       " 'West Chester, PA',\n",
       " 'Westlake Village, CA',\n",
       " 'Westminster, CO',\n",
       " 'Wilmington, MA',\n",
       " 'Wilsonville, OR',\n",
       " 'Winston-Salem, NC',\n",
       " 'Winter Park, FL',\n",
       " 'Woburn, MA',\n",
       " 'Woodbine, MD',\n",
       " 'Woodbridge, NJ',\n",
       " 'Yakima, WA',\n",
       " 'Zurich, Switzerland']"
      ]
     },
     "execution_count": 67,
     "metadata": {},
     "output_type": "execute_result"
    }
   ],
   "source": [
    "# Headquarters Column\n",
    "\n",
    "sorted(data.Headquarters.unique())"
   ]
  },
  {
   "cell_type": "code",
   "execution_count": 68,
   "id": "8d69a680",
   "metadata": {
    "execution": {
     "iopub.execute_input": "2024-07-22T14:27:54.915639Z",
     "iopub.status.busy": "2024-07-22T14:27:54.914845Z",
     "iopub.status.idle": "2024-07-22T14:27:54.926268Z",
     "shell.execute_reply": "2024-07-22T14:27:54.925376Z"
    },
    "papermill": {
     "duration": 0.036986,
     "end_time": "2024-07-22T14:27:54.928430",
     "exception": false,
     "start_time": "2024-07-22T14:27:54.891444",
     "status": "completed"
    },
    "tags": []
   },
   "outputs": [
    {
     "data": {
      "text/plain": [
       "array([' NY', ' VA', ' MA', ' Switzerland', ' CA', ' IL', ' MO', ' WA',\n",
       "       ' NJ', ' DC', ' TN', ' AZ', ' PA', ' GA', ' FL', ' WI', ' NE',\n",
       "       ' Singapore', ' Japan', ' LA', ' OH', ' IN', ' MD', ' CT',\n",
       "       ' United Kingdom', ' MN', ' TX', ' UT', ' CO', ' OR', ' MI', ' SC',\n",
       "       None, ' France', ' Canada', ' Bermuda', ' IA', ' India', ' Israel',\n",
       "       ' NC', ' AL', ' Sweden', ' 061', ' WV', ' HI', ' Spain', ' NM'],\n",
       "      dtype=object)"
      ]
     },
     "execution_count": 68,
     "metadata": {},
     "output_type": "execute_result"
    }
   ],
   "source": [
    "# data.Headquarters = np.where(data.Headquarters == '-1', 'N/A',data.Headquarters)\n",
    "\n",
    "data[['Headquarter', 'Headquarters State']] = (data['Headquarters'].str.split(',', expand=True))\n",
    "\n",
    "data = data.drop('Headquarters',axis=1)\n",
    "\n",
    "data['Headquarters State'].unique()"
   ]
  },
  {
   "cell_type": "code",
   "execution_count": 69,
   "id": "00705e94",
   "metadata": {
    "execution": {
     "iopub.execute_input": "2024-07-22T14:27:54.975794Z",
     "iopub.status.busy": "2024-07-22T14:27:54.975477Z",
     "iopub.status.idle": "2024-07-22T14:27:54.981840Z",
     "shell.execute_reply": "2024-07-22T14:27:54.981049Z"
    },
    "papermill": {
     "duration": 0.031444,
     "end_time": "2024-07-22T14:27:54.983769",
     "exception": false,
     "start_time": "2024-07-22T14:27:54.952325",
     "status": "completed"
    },
    "tags": []
   },
   "outputs": [],
   "source": [
    "data.Headquarter = data.Headquarter.str.strip()\n",
    "data['Headquarters State'] = data['Headquarters State'].str.strip()"
   ]
  },
  {
   "cell_type": "code",
   "execution_count": 70,
   "id": "483a8b26",
   "metadata": {
    "execution": {
     "iopub.execute_input": "2024-07-22T14:27:55.029255Z",
     "iopub.status.busy": "2024-07-22T14:27:55.028896Z",
     "iopub.status.idle": "2024-07-22T14:27:55.035917Z",
     "shell.execute_reply": "2024-07-22T14:27:55.034913Z"
    },
    "papermill": {
     "duration": 0.031812,
     "end_time": "2024-07-22T14:27:55.037785",
     "exception": false,
     "start_time": "2024-07-22T14:27:55.005973",
     "status": "completed"
    },
    "tags": []
   },
   "outputs": [
    {
     "data": {
      "text/plain": [
       "array(['NY', 'VA', 'MA', 'Switzerland', 'CA', 'IL', 'MO', 'WA', 'NJ',\n",
       "       'DC', 'TN', 'AZ', 'PA', 'GA', 'FL', 'WI', 'NE', 'Singapore',\n",
       "       'Japan', 'LA', 'OH', 'IN', 'MD', 'CT', 'United Kingdom', 'MN',\n",
       "       'TX', 'UT', 'CO', 'OR', 'MI', 'SC', None, 'France', 'Canada',\n",
       "       'Bermuda', 'IA', 'India', 'Israel', 'NC', 'AL', 'Sweden', '061',\n",
       "       'WV', 'HI', 'Spain', 'NM'], dtype=object)"
      ]
     },
     "execution_count": 70,
     "metadata": {},
     "output_type": "execute_result"
    }
   ],
   "source": [
    "data['Headquarters State'].unique()"
   ]
  },
  {
   "cell_type": "code",
   "execution_count": 71,
   "id": "fac347fd",
   "metadata": {
    "execution": {
     "iopub.execute_input": "2024-07-22T14:27:55.083718Z",
     "iopub.status.busy": "2024-07-22T14:27:55.083455Z",
     "iopub.status.idle": "2024-07-22T14:27:55.089669Z",
     "shell.execute_reply": "2024-07-22T14:27:55.088747Z"
    },
    "papermill": {
     "duration": 0.031839,
     "end_time": "2024-07-22T14:27:55.091698",
     "exception": false,
     "start_time": "2024-07-22T14:27:55.059859",
     "status": "completed"
    },
    "tags": []
   },
   "outputs": [
    {
     "data": {
      "text/plain": [
       "['-1',\n",
       " '1 to 50 employees',\n",
       " '10000+ employees',\n",
       " '1001 to 5000 employees',\n",
       " '201 to 500 employees',\n",
       " '5001 to 10000 employees',\n",
       " '501 to 1000 employees',\n",
       " '51 to 200 employees',\n",
       " 'Unknown']"
      ]
     },
     "execution_count": 71,
     "metadata": {},
     "output_type": "execute_result"
    }
   ],
   "source": [
    "# Size Column\n",
    "\n",
    "sorted(data.Size.unique())"
   ]
  },
  {
   "cell_type": "code",
   "execution_count": 72,
   "id": "15866196",
   "metadata": {
    "execution": {
     "iopub.execute_input": "2024-07-22T14:27:55.141673Z",
     "iopub.status.busy": "2024-07-22T14:27:55.140858Z",
     "iopub.status.idle": "2024-07-22T14:27:55.147228Z",
     "shell.execute_reply": "2024-07-22T14:27:55.146324Z"
    },
    "papermill": {
     "duration": 0.033705,
     "end_time": "2024-07-22T14:27:55.149309",
     "exception": false,
     "start_time": "2024-07-22T14:27:55.115604",
     "status": "completed"
    },
    "tags": []
   },
   "outputs": [],
   "source": [
    "data.Size = np.where(data.Size == '-1','Unknown',data.Size)"
   ]
  },
  {
   "cell_type": "code",
   "execution_count": 73,
   "id": "85e86223",
   "metadata": {
    "execution": {
     "iopub.execute_input": "2024-07-22T14:27:55.195652Z",
     "iopub.status.busy": "2024-07-22T14:27:55.195380Z",
     "iopub.status.idle": "2024-07-22T14:27:55.201859Z",
     "shell.execute_reply": "2024-07-22T14:27:55.201021Z"
    },
    "papermill": {
     "duration": 0.032901,
     "end_time": "2024-07-22T14:27:55.204736",
     "exception": false,
     "start_time": "2024-07-22T14:27:55.171835",
     "status": "completed"
    },
    "tags": []
   },
   "outputs": [
    {
     "name": "stdout",
     "output_type": "stream",
     "text": [
      "['1-50', '10000+', '1001-5000', '201-500', '5001-10000', '501-1000', '51-200', 'Unknown']\n"
     ]
    }
   ],
   "source": [
    "# data.Size = data.Size.str.replace(' employees','')\n",
    "# Size Total employee in that company\n",
    "\n",
    "data.Size = data.Size.apply(lambda x: x.replace(' to ','-').replace(' employees',''))\n",
    "print(sorted(data['Size'].unique()))"
   ]
  },
  {
   "cell_type": "code",
   "execution_count": 74,
   "id": "ad3005c2",
   "metadata": {
    "execution": {
     "iopub.execute_input": "2024-07-22T14:27:55.258108Z",
     "iopub.status.busy": "2024-07-22T14:27:55.257800Z",
     "iopub.status.idle": "2024-07-22T14:27:55.266748Z",
     "shell.execute_reply": "2024-07-22T14:27:55.265589Z"
    },
    "papermill": {
     "duration": 0.037779,
     "end_time": "2024-07-22T14:27:55.269541",
     "exception": false,
     "start_time": "2024-07-22T14:27:55.231762",
     "status": "completed"
    },
    "tags": []
   },
   "outputs": [
    {
     "name": "stdout",
     "output_type": "stream",
     "text": [
      "object\n"
     ]
    },
    {
     "data": {
      "text/plain": [
       "['-1',\n",
       " 'College / University',\n",
       " 'Company - Private',\n",
       " 'Company - Public',\n",
       " 'Contract',\n",
       " 'Government',\n",
       " 'Hospital',\n",
       " 'Nonprofit Organization',\n",
       " 'Other Organization',\n",
       " 'Private Practice / Firm',\n",
       " 'Self-employed',\n",
       " 'Subsidiary or Business Segment',\n",
       " 'Unknown']"
      ]
     },
     "execution_count": 74,
     "metadata": {},
     "output_type": "execute_result"
    }
   ],
   "source": [
    "# Type of ownership column\n",
    "print(data['Type of ownership'].dtype)\n",
    "sorted(data['Type of ownership'].unique())"
   ]
  },
  {
   "cell_type": "code",
   "execution_count": 75,
   "id": "ae88a93b",
   "metadata": {
    "execution": {
     "iopub.execute_input": "2024-07-22T14:27:55.320526Z",
     "iopub.status.busy": "2024-07-22T14:27:55.320240Z",
     "iopub.status.idle": "2024-07-22T14:27:55.325798Z",
     "shell.execute_reply": "2024-07-22T14:27:55.324932Z"
    },
    "papermill": {
     "duration": 0.033237,
     "end_time": "2024-07-22T14:27:55.328131",
     "exception": false,
     "start_time": "2024-07-22T14:27:55.294894",
     "status": "completed"
    },
    "tags": []
   },
   "outputs": [],
   "source": [
    "data['Type of ownership'] = np.where(data['Type of ownership'] == '-1','Unknown',data['Type of ownership'])"
   ]
  },
  {
   "cell_type": "code",
   "execution_count": 76,
   "id": "a2bc0ee1",
   "metadata": {
    "execution": {
     "iopub.execute_input": "2024-07-22T14:27:55.400284Z",
     "iopub.status.busy": "2024-07-22T14:27:55.399808Z",
     "iopub.status.idle": "2024-07-22T14:27:55.414744Z",
     "shell.execute_reply": "2024-07-22T14:27:55.413731Z"
    },
    "papermill": {
     "duration": 0.05319,
     "end_time": "2024-07-22T14:27:55.417076",
     "exception": false,
     "start_time": "2024-07-22T14:27:55.363886",
     "status": "completed"
    },
    "tags": []
   },
   "outputs": [
    {
     "data": {
      "text/plain": [
       "array(['Nonprofit Organization', 'Public Company', 'Private Company',\n",
       "       'Government', 'Business', 'Other Organization', 'Unknown',\n",
       "       'Hospital', 'Self-employed', 'Education', 'Contract'], dtype=object)"
      ]
     },
     "execution_count": 76,
     "metadata": {},
     "output_type": "execute_result"
    }
   ],
   "source": [
    "def ownership_type(strr):\n",
    "    if 'Company - Public' in strr:\n",
    "        return strr.replace('Company - Public','Public Company')\n",
    "    elif 'Company - Private' in strr:\n",
    "        return strr.replace('Company - Private', 'Private Company')\n",
    "    elif 'Private Practice / Firm' in strr:\n",
    "        return strr.replace('Private Practice / Firm', 'Private Company')\n",
    "    elif 'Subsidiary or Business Segment' in strr:\n",
    "        return strr.replace('Subsidiary or Business Segment', 'Business')\n",
    "    elif 'College / University' in strr:\n",
    "        return strr.replace('College / University', 'Education')\n",
    "    return strr\n",
    "\n",
    "data['Type of ownership'] = data['Type of ownership'].apply(ownership_type)\n",
    "data['Type of ownership'].unique()"
   ]
  },
  {
   "cell_type": "code",
   "execution_count": 77,
   "id": "4ee269cc",
   "metadata": {
    "execution": {
     "iopub.execute_input": "2024-07-22T14:27:55.484761Z",
     "iopub.status.busy": "2024-07-22T14:27:55.483845Z",
     "iopub.status.idle": "2024-07-22T14:27:55.493848Z",
     "shell.execute_reply": "2024-07-22T14:27:55.492303Z"
    },
    "papermill": {
     "duration": 0.053662,
     "end_time": "2024-07-22T14:27:55.500500",
     "exception": false,
     "start_time": "2024-07-22T14:27:55.446838",
     "status": "completed"
    },
    "tags": []
   },
   "outputs": [
    {
     "name": "stdout",
     "output_type": "stream",
     "text": [
      "object\n"
     ]
    },
    {
     "data": {
      "text/plain": [
       "['-1',\n",
       " 'Accounting',\n",
       " 'Advertising & Marketing',\n",
       " 'Aerospace & Defense',\n",
       " 'Architectural & Engineering Services',\n",
       " 'Banks & Credit Unions',\n",
       " 'Biotech & Pharmaceuticals',\n",
       " 'Cable, Internet & Telephone Providers',\n",
       " 'Chemical Manufacturing',\n",
       " 'Colleges & Universities',\n",
       " 'Computer Hardware & Software',\n",
       " 'Construction',\n",
       " 'Consulting',\n",
       " 'Consumer Electronics & Appliances Stores',\n",
       " 'Consumer Products Manufacturing',\n",
       " 'Department, Clothing, & Shoe Stores',\n",
       " 'Electrical & Electronic Manufacturing',\n",
       " 'Energy',\n",
       " 'Enterprise Software & Network Solutions',\n",
       " 'Express Delivery Services',\n",
       " 'Farm Support Services',\n",
       " 'Federal Agencies',\n",
       " 'Financial Transaction Processing',\n",
       " 'Food & Beverage Manufacturing',\n",
       " 'Food & Beverage Stores',\n",
       " 'Health Care Services & Hospitals',\n",
       " 'Health, Beauty, & Fitness',\n",
       " 'Hotels, Motels, & Resorts',\n",
       " 'IT Services',\n",
       " 'Industrial Manufacturing',\n",
       " 'Insurance Agencies & Brokerages',\n",
       " 'Insurance Carriers',\n",
       " 'Internet',\n",
       " 'Investment Banking & Asset Management',\n",
       " 'Lending',\n",
       " 'Logistics & Supply Chain',\n",
       " 'Miscellaneous Manufacturing',\n",
       " 'News Outlet',\n",
       " 'Oil & Gas Services',\n",
       " 'Other Retail Stores',\n",
       " 'Publishing',\n",
       " 'Rail',\n",
       " 'Real Estate',\n",
       " 'Research & Development',\n",
       " 'Shipping',\n",
       " 'Social Assistance',\n",
       " 'Staffing & Outsourcing',\n",
       " 'State & Regional Agencies',\n",
       " 'Telecommunications Manufacturing',\n",
       " 'Telecommunications Services',\n",
       " 'Timber Operations',\n",
       " 'Transportation Equipment Manufacturing',\n",
       " 'Transportation Management',\n",
       " 'Travel Agencies',\n",
       " 'Utilities',\n",
       " 'Venture Capital & Private Equity',\n",
       " 'Video Games',\n",
       " 'Wholesale']"
      ]
     },
     "execution_count": 77,
     "metadata": {},
     "output_type": "execute_result"
    }
   ],
   "source": [
    "# Industry Column\n",
    "\n",
    "print(data.Industry.dtype)\n",
    "sorted(data.Industry.unique())"
   ]
  },
  {
   "cell_type": "code",
   "execution_count": 78,
   "id": "421d3f8c",
   "metadata": {
    "execution": {
     "iopub.execute_input": "2024-07-22T14:27:55.569302Z",
     "iopub.status.busy": "2024-07-22T14:27:55.568271Z",
     "iopub.status.idle": "2024-07-22T14:27:55.574917Z",
     "shell.execute_reply": "2024-07-22T14:27:55.573878Z"
    },
    "papermill": {
     "duration": 0.043441,
     "end_time": "2024-07-22T14:27:55.577553",
     "exception": false,
     "start_time": "2024-07-22T14:27:55.534112",
     "status": "completed"
    },
    "tags": []
   },
   "outputs": [],
   "source": [
    "data.Industry = np.where(data.Industry == '-1','N/A',data.Industry)"
   ]
  },
  {
   "cell_type": "code",
   "execution_count": 79,
   "id": "8c918f46",
   "metadata": {
    "execution": {
     "iopub.execute_input": "2024-07-22T14:27:55.628385Z",
     "iopub.status.busy": "2024-07-22T14:27:55.628093Z",
     "iopub.status.idle": "2024-07-22T14:27:55.636503Z",
     "shell.execute_reply": "2024-07-22T14:27:55.635642Z"
    },
    "papermill": {
     "duration": 0.033838,
     "end_time": "2024-07-22T14:27:55.638374",
     "exception": false,
     "start_time": "2024-07-22T14:27:55.604536",
     "status": "completed"
    },
    "tags": []
   },
   "outputs": [
    {
     "data": {
      "text/plain": [
       "['Accounting',\n",
       " 'Advertising and Marketing',\n",
       " 'Aerospace and Defense',\n",
       " 'Architectural and Engineering Services',\n",
       " 'Banks and Credit Unions',\n",
       " 'Biotech and Pharmaceuticals',\n",
       " 'Cable, Internet and Telephone Providers',\n",
       " 'Chemical Manufacturing',\n",
       " 'Colleges and Universities',\n",
       " 'Computer Hardware and Software',\n",
       " 'Construction',\n",
       " 'Consulting',\n",
       " 'Consumer Electronics and Appliances Stores',\n",
       " 'Consumer Products Manufacturing',\n",
       " 'Department, Clothing, and Shoe Stores',\n",
       " 'Electrical and Electronic Manufacturing',\n",
       " 'Energy',\n",
       " 'Enterprise Software and Network Solutions',\n",
       " 'Express Delivery Services',\n",
       " 'Farm Support Services',\n",
       " 'Federal Agencies',\n",
       " 'Financial Transaction Processing',\n",
       " 'Food and Beverage Manufacturing',\n",
       " 'Food and Beverage Stores',\n",
       " 'Health Care Services and Hospitals',\n",
       " 'Health, Beauty, and Fitness',\n",
       " 'Hotels, Motels, and Resorts',\n",
       " 'IT Services',\n",
       " 'Industrial Manufacturing',\n",
       " 'Insurance Agencies and Brokerages',\n",
       " 'Insurance Carriers',\n",
       " 'Internet',\n",
       " 'Investment Banking and Asset Management',\n",
       " 'Lending',\n",
       " 'Logistics and Supply Chain',\n",
       " 'Miscellaneous Manufacturing',\n",
       " 'N/A',\n",
       " 'News Outlet',\n",
       " 'Oil and Gas Services',\n",
       " 'Other Retail Stores',\n",
       " 'Publishing',\n",
       " 'Rail',\n",
       " 'Real Estate',\n",
       " 'Research and Development',\n",
       " 'Shipping',\n",
       " 'Social Assistance',\n",
       " 'Staffing and Outsourcing',\n",
       " 'State and Regional Agencies',\n",
       " 'Telecommunications Manufacturing',\n",
       " 'Telecommunications Services',\n",
       " 'Timber Operations',\n",
       " 'Transportation Equipment Manufacturing',\n",
       " 'Transportation Management',\n",
       " 'Travel Agencies',\n",
       " 'Utilities',\n",
       " 'Venture Capital and Private Equity',\n",
       " 'Video Games',\n",
       " 'Wholesale']"
      ]
     },
     "execution_count": 79,
     "metadata": {},
     "output_type": "execute_result"
    }
   ],
   "source": [
    "data.Industry = data.Industry.str.replace('&','and')\n",
    "sorted(data.Industry.unique())"
   ]
  },
  {
   "cell_type": "code",
   "execution_count": 80,
   "id": "bce0d739",
   "metadata": {
    "execution": {
     "iopub.execute_input": "2024-07-22T14:27:55.696877Z",
     "iopub.status.busy": "2024-07-22T14:27:55.696606Z",
     "iopub.status.idle": "2024-07-22T14:27:55.703672Z",
     "shell.execute_reply": "2024-07-22T14:27:55.702752Z"
    },
    "papermill": {
     "duration": 0.036239,
     "end_time": "2024-07-22T14:27:55.705911",
     "exception": false,
     "start_time": "2024-07-22T14:27:55.669672",
     "status": "completed"
    },
    "tags": []
   },
   "outputs": [
    {
     "name": "stdout",
     "output_type": "stream",
     "text": [
      "object\n"
     ]
    },
    {
     "data": {
      "text/plain": [
       "['-1',\n",
       " 'Accounting & Legal',\n",
       " 'Aerospace & Defense',\n",
       " 'Agriculture & Forestry',\n",
       " 'Biotech & Pharmaceuticals',\n",
       " 'Business Services',\n",
       " 'Construction, Repair & Maintenance',\n",
       " 'Consumer Services',\n",
       " 'Education',\n",
       " 'Finance',\n",
       " 'Government',\n",
       " 'Health Care',\n",
       " 'Information Technology',\n",
       " 'Insurance',\n",
       " 'Manufacturing',\n",
       " 'Media',\n",
       " 'Non-Profit',\n",
       " 'Oil, Gas, Energy & Utilities',\n",
       " 'Real Estate',\n",
       " 'Retail',\n",
       " 'Telecommunications',\n",
       " 'Transportation & Logistics',\n",
       " 'Travel & Tourism']"
      ]
     },
     "execution_count": 80,
     "metadata": {},
     "output_type": "execute_result"
    }
   ],
   "source": [
    "# Sector Columns\n",
    "print(data.Sector.dtype)\n",
    "sorted(data.Sector.unique())"
   ]
  },
  {
   "cell_type": "code",
   "execution_count": 81,
   "id": "b341e591",
   "metadata": {
    "execution": {
     "iopub.execute_input": "2024-07-22T14:27:55.757623Z",
     "iopub.status.busy": "2024-07-22T14:27:55.756798Z",
     "iopub.status.idle": "2024-07-22T14:27:55.762728Z",
     "shell.execute_reply": "2024-07-22T14:27:55.761722Z"
    },
    "papermill": {
     "duration": 0.036091,
     "end_time": "2024-07-22T14:27:55.765280",
     "exception": false,
     "start_time": "2024-07-22T14:27:55.729189",
     "status": "completed"
    },
    "tags": []
   },
   "outputs": [],
   "source": [
    "data.Sector = np.where(data.Sector == '-1','N/A',data.Sector)"
   ]
  },
  {
   "cell_type": "code",
   "execution_count": 82,
   "id": "a82a9ed7",
   "metadata": {
    "execution": {
     "iopub.execute_input": "2024-07-22T14:27:55.819802Z",
     "iopub.status.busy": "2024-07-22T14:27:55.819517Z",
     "iopub.status.idle": "2024-07-22T14:27:55.829392Z",
     "shell.execute_reply": "2024-07-22T14:27:55.828685Z"
    },
    "papermill": {
     "duration": 0.038725,
     "end_time": "2024-07-22T14:27:55.831481",
     "exception": false,
     "start_time": "2024-07-22T14:27:55.792756",
     "status": "completed"
    },
    "tags": []
   },
   "outputs": [
    {
     "data": {
      "text/plain": [
       "['Accounting',\n",
       " 'Advertising and Marketing',\n",
       " 'Aerospace and Defense',\n",
       " 'Architectural and Engineering Services',\n",
       " 'Banks and Credit Unions',\n",
       " 'Biotech and Pharmaceuticals',\n",
       " 'Cable, Internet and Telephone Providers',\n",
       " 'Chemical Manufacturing',\n",
       " 'Colleges and Universities',\n",
       " 'Computer Hardware and Software',\n",
       " 'Construction',\n",
       " 'Consulting',\n",
       " 'Consumer Electronics and Appliances Stores',\n",
       " 'Consumer Products Manufacturing',\n",
       " 'Department, Clothing, and Shoe Stores',\n",
       " 'Electrical and Electronic Manufacturing',\n",
       " 'Energy',\n",
       " 'Enterprise Software and Network Solutions',\n",
       " 'Express Delivery Services',\n",
       " 'Farm Support Services',\n",
       " 'Federal Agencies',\n",
       " 'Financial Transaction Processing',\n",
       " 'Food and Beverage Manufacturing',\n",
       " 'Food and Beverage Stores',\n",
       " 'Health Care Services and Hospitals',\n",
       " 'Health, Beauty, and Fitness',\n",
       " 'Hotels, Motels, and Resorts',\n",
       " 'IT Services',\n",
       " 'Industrial Manufacturing',\n",
       " 'Insurance Agencies and Brokerages',\n",
       " 'Insurance Carriers',\n",
       " 'Internet',\n",
       " 'Investment Banking and Asset Management',\n",
       " 'Lending',\n",
       " 'Logistics and Supply Chain',\n",
       " 'Miscellaneous Manufacturing',\n",
       " 'N/A',\n",
       " 'News Outlet',\n",
       " 'Oil and Gas Services',\n",
       " 'Other Retail Stores',\n",
       " 'Publishing',\n",
       " 'Rail',\n",
       " 'Real Estate',\n",
       " 'Research and Development',\n",
       " 'Shipping',\n",
       " 'Social Assistance',\n",
       " 'Staffing and Outsourcing',\n",
       " 'State and Regional Agencies',\n",
       " 'Telecommunications Manufacturing',\n",
       " 'Telecommunications Services',\n",
       " 'Timber Operations',\n",
       " 'Transportation Equipment Manufacturing',\n",
       " 'Transportation Management',\n",
       " 'Travel Agencies',\n",
       " 'Utilities',\n",
       " 'Venture Capital and Private Equity',\n",
       " 'Video Games',\n",
       " 'Wholesale']"
      ]
     },
     "execution_count": 82,
     "metadata": {},
     "output_type": "execute_result"
    }
   ],
   "source": [
    "data.Sector = data.Industry.str.replace('&','and')\n",
    "sorted(data.Sector.unique())"
   ]
  },
  {
   "cell_type": "code",
   "execution_count": 83,
   "id": "234adb6a",
   "metadata": {
    "execution": {
     "iopub.execute_input": "2024-07-22T14:27:55.879126Z",
     "iopub.status.busy": "2024-07-22T14:27:55.878887Z",
     "iopub.status.idle": "2024-07-22T14:27:55.885362Z",
     "shell.execute_reply": "2024-07-22T14:27:55.884508Z"
    },
    "papermill": {
     "duration": 0.032551,
     "end_time": "2024-07-22T14:27:55.887525",
     "exception": false,
     "start_time": "2024-07-22T14:27:55.854974",
     "status": "completed"
    },
    "tags": []
   },
   "outputs": [
    {
     "name": "stdout",
     "output_type": "stream",
     "text": [
      "object\n"
     ]
    },
    {
     "data": {
      "text/plain": [
       "['$1 to $2 billion (USD)',\n",
       " '$1 to $5 million (USD)',\n",
       " '$10 to $25 million (USD)',\n",
       " '$10+ billion (USD)',\n",
       " '$100 to $500 million (USD)',\n",
       " '$2 to $5 billion (USD)',\n",
       " '$25 to $50 million (USD)',\n",
       " '$5 to $10 billion (USD)',\n",
       " '$5 to $10 million (USD)',\n",
       " '$50 to $100 million (USD)',\n",
       " '$500 million to $1 billion (USD)',\n",
       " '-1',\n",
       " 'Less than $1 million (USD)',\n",
       " 'Unknown / Non-Applicable']"
      ]
     },
     "execution_count": 83,
     "metadata": {},
     "output_type": "execute_result"
    }
   ],
   "source": [
    "# Revenue Column\n",
    "\n",
    "print(data.Revenue.dtype)\n",
    "sorted(data.Revenue.unique())"
   ]
  },
  {
   "cell_type": "code",
   "execution_count": 84,
   "id": "ca0b45a9",
   "metadata": {
    "execution": {
     "iopub.execute_input": "2024-07-22T14:27:55.937171Z",
     "iopub.status.busy": "2024-07-22T14:27:55.936897Z",
     "iopub.status.idle": "2024-07-22T14:27:55.942887Z",
     "shell.execute_reply": "2024-07-22T14:27:55.942025Z"
    },
    "papermill": {
     "duration": 0.03299,
     "end_time": "2024-07-22T14:27:55.944714",
     "exception": false,
     "start_time": "2024-07-22T14:27:55.911724",
     "status": "completed"
    },
    "tags": []
   },
   "outputs": [],
   "source": [
    "data.Revenue = np.where(data.Revenue == '-1', 'N/A',data.Revenue)\n",
    "data.Revenue = np.where(data.Revenue == 'Unknown / Non-Applicable', 'N/A',data.Revenue)"
   ]
  },
  {
   "cell_type": "code",
   "execution_count": 85,
   "id": "f4a56aa7",
   "metadata": {
    "execution": {
     "iopub.execute_input": "2024-07-22T14:27:55.993413Z",
     "iopub.status.busy": "2024-07-22T14:27:55.993139Z",
     "iopub.status.idle": "2024-07-22T14:27:56.000695Z",
     "shell.execute_reply": "2024-07-22T14:27:55.999770Z"
    },
    "papermill": {
     "duration": 0.033883,
     "end_time": "2024-07-22T14:27:56.002589",
     "exception": false,
     "start_time": "2024-07-22T14:27:55.968706",
     "status": "completed"
    },
    "tags": []
   },
   "outputs": [
    {
     "data": {
      "text/plain": [
       "['$1 to $2 billion (USD)',\n",
       " '$1 to $5 million (USD)',\n",
       " '$10 to $25 million (USD)',\n",
       " '$10+ billion (USD)',\n",
       " '$100 to $500 million (USD)',\n",
       " '$2 to $5 billion (USD)',\n",
       " '$25 to $50 million (USD)',\n",
       " '$5 to $10 billion (USD)',\n",
       " '$5 to $10 million (USD)',\n",
       " '$50 to $100 million (USD)',\n",
       " '$500 million to $1 billion (USD)',\n",
       " 'Less than 1',\n",
       " 'N/A']"
      ]
     },
     "execution_count": 85,
     "metadata": {},
     "output_type": "execute_result"
    }
   ],
   "source": [
    "def less_than(value):\n",
    "    if 'Less than $1 million (USD)' in value:\n",
    "        return value.replace('$','').replace(' million (USD)','')\n",
    "    return value\n",
    "\n",
    "data['Revenue'] = data['Revenue'].apply(less_than)\n",
    "sorted(data.Revenue.unique())"
   ]
  },
  {
   "cell_type": "code",
   "execution_count": 86,
   "id": "052e0cc2",
   "metadata": {
    "execution": {
     "iopub.execute_input": "2024-07-22T14:27:56.051380Z",
     "iopub.status.busy": "2024-07-22T14:27:56.051073Z",
     "iopub.status.idle": "2024-07-22T14:27:56.058686Z",
     "shell.execute_reply": "2024-07-22T14:27:56.057823Z"
    },
    "papermill": {
     "duration": 0.034105,
     "end_time": "2024-07-22T14:27:56.060556",
     "exception": false,
     "start_time": "2024-07-22T14:27:56.026451",
     "status": "completed"
    },
    "tags": []
   },
   "outputs": [
    {
     "data": {
      "text/plain": [
       "['1-2 billion (USD)',\n",
       " '1-5',\n",
       " '10+ billion (USD)',\n",
       " '10-25',\n",
       " '100-500',\n",
       " '2-5 billion (USD)',\n",
       " '25-50',\n",
       " '5-10',\n",
       " '5-10 billion (USD)',\n",
       " '50-100',\n",
       " '500 million-1 billion (USD)',\n",
       " 'Less than 1',\n",
       " 'N/A']"
      ]
     },
     "execution_count": 86,
     "metadata": {},
     "output_type": "execute_result"
    }
   ],
   "source": [
    "data.Revenue = data.Revenue.apply(lambda x: x.replace('$','').replace(' to ','-').replace(' million (USD)',''))\n",
    "sorted(data.Revenue.unique())"
   ]
  },
  {
   "cell_type": "code",
   "execution_count": 87,
   "id": "c4a4cb16",
   "metadata": {
    "execution": {
     "iopub.execute_input": "2024-07-22T14:27:56.109137Z",
     "iopub.status.busy": "2024-07-22T14:27:56.108879Z",
     "iopub.status.idle": "2024-07-22T14:27:56.116791Z",
     "shell.execute_reply": "2024-07-22T14:27:56.115997Z"
    },
    "papermill": {
     "duration": 0.034445,
     "end_time": "2024-07-22T14:27:56.118747",
     "exception": false,
     "start_time": "2024-07-22T14:27:56.084302",
     "status": "completed"
    },
    "tags": []
   },
   "outputs": [
    {
     "data": {
      "text/plain": [
       "['1-2 billion (USD)',\n",
       " '1-5',\n",
       " '10-25',\n",
       " '100-500',\n",
       " '10000+',\n",
       " '2-5 billion (USD)',\n",
       " '25-50',\n",
       " '5-10',\n",
       " '5-10 billion (USD)',\n",
       " '50-100',\n",
       " '500 million-1 billion (USD)',\n",
       " 'Less than 1',\n",
       " 'N/A']"
      ]
     },
     "execution_count": 87,
     "metadata": {},
     "output_type": "execute_result"
    }
   ],
   "source": [
    "def more_conversion(values):\n",
    "    if '+ billion (USD)' in values:\n",
    "        data = values.replace('+ billion (USD)','')\n",
    "        return str(int(data)*1000)+'+'\n",
    "    return values\n",
    "\n",
    "data['Revenue'] = data['Revenue'].apply(more_conversion)\n",
    "sorted(data.Revenue.unique())"
   ]
  },
  {
   "cell_type": "code",
   "execution_count": 88,
   "id": "f7454a10",
   "metadata": {
    "execution": {
     "iopub.execute_input": "2024-07-22T14:27:56.168240Z",
     "iopub.status.busy": "2024-07-22T14:27:56.167970Z",
     "iopub.status.idle": "2024-07-22T14:27:56.176899Z",
     "shell.execute_reply": "2024-07-22T14:27:56.176091Z"
    },
    "papermill": {
     "duration": 0.035653,
     "end_time": "2024-07-22T14:27:56.178865",
     "exception": false,
     "start_time": "2024-07-22T14:27:56.143212",
     "status": "completed"
    },
    "tags": []
   },
   "outputs": [
    {
     "data": {
      "text/plain": [
       "['1-2 billion (USD)',\n",
       " '1-5',\n",
       " '10-25',\n",
       " '100-500',\n",
       " '10000+',\n",
       " '2-5 billion (USD)',\n",
       " '25-50',\n",
       " '5-10',\n",
       " '5-10 billion (USD)',\n",
       " '50-100',\n",
       " '500-1000',\n",
       " 'Less than 1',\n",
       " 'N/A']"
      ]
     },
     "execution_count": 88,
     "metadata": {},
     "output_type": "execute_result"
    }
   ],
   "source": [
    "def more_conversions(value):\n",
    "    if '500 million-1 billion (USD)' in value:\n",
    "        data = value.replace(' million', '').replace(' billion (USD)', '')\n",
    "        data2 = data.split('-')\n",
    "        lower_bound = int(data2[0].strip())\n",
    "        upper_bound = int(float(data2[1].strip()) * 1000)  # Convert billion to million\n",
    "        bounnd = [str(lower_bound), str(upper_bound)]\n",
    "        return '-'.join(bounnd)\n",
    "    return value\n",
    "\n",
    "data['Revenue'] = data['Revenue'].apply(more_conversions)\n",
    "sorted(data['Revenue'].unique())"
   ]
  },
  {
   "cell_type": "code",
   "execution_count": 89,
   "id": "ee9e0891",
   "metadata": {
    "execution": {
     "iopub.execute_input": "2024-07-22T14:27:56.230161Z",
     "iopub.status.busy": "2024-07-22T14:27:56.229878Z",
     "iopub.status.idle": "2024-07-22T14:27:56.239125Z",
     "shell.execute_reply": "2024-07-22T14:27:56.238334Z"
    },
    "papermill": {
     "duration": 0.03794,
     "end_time": "2024-07-22T14:27:56.241280",
     "exception": false,
     "start_time": "2024-07-22T14:27:56.203340",
     "status": "completed"
    },
    "tags": []
   },
   "outputs": [
    {
     "data": {
      "text/plain": [
       "['1-5',\n",
       " '10-25',\n",
       " '100-500',\n",
       " '1000-2000',\n",
       " '10000+',\n",
       " '2000-5000',\n",
       " '25-50',\n",
       " '5-10',\n",
       " '50-100',\n",
       " '500-1000',\n",
       " '5000-10000',\n",
       " 'Less than 1',\n",
       " 'N/A']"
      ]
     },
     "execution_count": 89,
     "metadata": {},
     "output_type": "execute_result"
    }
   ],
   "source": [
    "# Function to convert '1-2 billion (USD)' to '1000-2000 million'\n",
    "def convert_to_millions(value):\n",
    "    if ' billion (USD)' in value:\n",
    "        # Remove ' billion (USD)' from the string\n",
    "        cleaned_value = value.replace(' billion (USD)', '')\n",
    "        # Split the range if it exists\n",
    "        range_parts = cleaned_value.split('-')\n",
    "        # Convert each part from billions to millions\n",
    "        range_in_millions = [str(int(part) * 1000) for part in range_parts]\n",
    "        # Join the converted parts with a hyphen\n",
    "        return '-'.join(range_in_millions)\n",
    "    return value\n",
    "\n",
    "# Apply the conversion function to the column\n",
    "data['Revenue'] = data['Revenue'].apply(convert_to_millions)\n",
    "\n",
    "sorted(data.Revenue.unique())"
   ]
  },
  {
   "cell_type": "code",
   "execution_count": 90,
   "id": "4582804d",
   "metadata": {
    "execution": {
     "iopub.execute_input": "2024-07-22T14:27:56.293136Z",
     "iopub.status.busy": "2024-07-22T14:27:56.292812Z",
     "iopub.status.idle": "2024-07-22T14:27:56.300755Z",
     "shell.execute_reply": "2024-07-22T14:27:56.299858Z"
    },
    "papermill": {
     "duration": 0.036675,
     "end_time": "2024-07-22T14:27:56.302794",
     "exception": false,
     "start_time": "2024-07-22T14:27:56.266119",
     "status": "completed"
    },
    "tags": []
   },
   "outputs": [
    {
     "data": {
      "text/plain": [
       "['-1',\n",
       " 'ACRT Services, Bartlett Tree Experts',\n",
       " 'AT&T, Verizon',\n",
       " 'Accenture, Deloitte, PwC',\n",
       " 'Accenture, Northrop Grumman, Xerox',\n",
       " 'Activision Blizzard, Electronic Arts',\n",
       " 'Acxiom, Merkle, Epsilon (North Carolina)',\n",
       " 'Adecco, Manpower',\n",
       " 'Adecco, ManpowerGroup, Allegis Corporation',\n",
       " 'Advisory Board, Booz Allen Hamilton, McKinsey & Company',\n",
       " 'Amazon, Accenture, Microsoft',\n",
       " 'Amazon, Apple',\n",
       " 'AppDynamics, Datadog, Dynatrace',\n",
       " 'Aquent, 24 Seven Talent',\n",
       " 'Arbella Insurance, Safety Insurance',\n",
       " 'Archibus, iOffice, Planon',\n",
       " 'Battelle, General Atomics, SAIC',\n",
       " 'Bechtel Jacobs, Black & Veatch, HNTB',\n",
       " 'Booz Allen Hamilton, CACI International',\n",
       " 'Booz Allen Hamilton, Deloitte, ERPi',\n",
       " 'Booz Allen Hamilton, SAIC, LMI',\n",
       " 'Bosch, Lear Corporation, Faurecia',\n",
       " 'Braintree, Authorize.Net, PayPal',\n",
       " 'Bromium, FireEye, Authentic8',\n",
       " 'CDW, PCM, SHI International',\n",
       " 'CGI (Nevada), Accenture, Deloitte',\n",
       " 'CSC, ManTech, SAIC',\n",
       " 'CUNA Mutual, SWBC, Overby-Seawell',\n",
       " 'Cadence Design Systems, Synopsys, Altium Limited',\n",
       " \"Children's Health, Texas Health Resources, Baylor Scott & White Health\",\n",
       " 'Cognizant Technology Solutions, Infosys, Wipro',\n",
       " 'Colony Specialty, Markel, RLI',\n",
       " 'Commerce Signals, Cardlytics, Yodlee',\n",
       " 'Copper River Shared Services, Chenega Corporation, Deloitte',\n",
       " 'Covance, ICON',\n",
       " 'Covidien, Boston Scientific',\n",
       " 'Crossix Solutions Inc., AppNexus, The Trade Desk',\n",
       " 'DHL Supply Chain, UPS, FedEx',\n",
       " 'DoorDash, Uber, Grubhub',\n",
       " 'Drip, iContact, Mailchimp',\n",
       " 'Eaton, SMC Corporation, Bosch Rexroth',\n",
       " 'EmblemHealth, UnitedHealth Group, Aetna',\n",
       " 'Engagio, Bombora, Terminus',\n",
       " 'Enlivant, Sunrise Senior Living, Brookdale Senior Living',\n",
       " 'Epic, CipherHealth',\n",
       " 'Facebook, Google, Pinterest',\n",
       " 'Fluor, Bechtel, AECOM',\n",
       " 'GE Digital, Palantir Technologies, Uptake',\n",
       " 'General Atomics, Boeing, Northrop Grumman',\n",
       " 'Genomic Health, 23andMe, Illumina',\n",
       " 'Genomic Health, Myriad Genetics, The Broad Institute',\n",
       " 'Google, Microsoft, Samsung Electronics',\n",
       " 'H&M, Inditex, Fast Retailing',\n",
       " 'Harris, Fibertek',\n",
       " 'Humana',\n",
       " \"IMAGE Skincare, Aveda, Kiehl's\",\n",
       " 'IQVIA, ICON',\n",
       " 'Intertek, SGS, Bureau Veritas',\n",
       " 'John Deere, Komatsu, CNH Industrial',\n",
       " 'KPMG, Accenture, Deloitte',\n",
       " 'Kforce, PageGroup, Robert Half',\n",
       " 'Leidos, CACI International, Booz Allen Hamilton',\n",
       " 'Liberty Mutual Insurance, EMPLOYERS, Travelers',\n",
       " 'Linqia, Collective Bias',\n",
       " 'LivePerson, Salesforce, SAP',\n",
       " 'Lockheed Martin, Caterpillar, John Deere',\n",
       " 'Los Alamos National Laboratory, Battelle, SRI International',\n",
       " 'Los Alamos National Laboratory, Lawrence Livermore National Laboratory',\n",
       " 'Los Alamos National Laboratory, NASA Jet Propulsion Laboratory, Sandia National Laboratories',\n",
       " 'Lumentum Operations, Keysight Technologies, O-Net Technologies',\n",
       " 'Luxoft, EPAM, Capgemini Invent',\n",
       " 'MIT Lincoln Laboratory, Lockheed Martin, Northrop Grumman',\n",
       " 'MKS Instruments, Pfeiffer Vacuum, Agilent Technologies',\n",
       " 'ManTech, Booz Allen Hamilton, Leidos',\n",
       " 'MediaMath, Conversant, AppNexus',\n",
       " 'Monster Worldwide, CareerBuilder, Craigslist',\n",
       " 'Munich Re, Hannover RE, SCOR',\n",
       " 'Nielsen, Zappi, SurveyMonkey',\n",
       " 'Northwestern Mutual',\n",
       " 'Novartis, AstraZeneca, Siemens Healthineers',\n",
       " 'Novartis, Baxter, Pfizer',\n",
       " 'Oak Ridge National Laboratory, National Renewable Energy Lab, Los Alamos National Laboratory',\n",
       " 'PRA Group',\n",
       " 'Pfizer, AstraZeneca, Merck',\n",
       " 'Pfizer, GlaxoSmithKline',\n",
       " 'Puppet, Ansible, SaltStack',\n",
       " 'Raytheon Technologies, General Dynamics, MIT Lincoln Laboratory',\n",
       " 'Raytheon Technologies, Northrop Grumman, Booz Allen Hamilton',\n",
       " 'Roche, GlaxoSmithKline, Novartis',\n",
       " 'SAIC, Leidos, Northrop Grumman',\n",
       " 'Seagate Technology, Toshiba',\n",
       " 'Sequenom',\n",
       " 'Skyhigh Networks, Zscaler, NortonLifeLock',\n",
       " 'Slalom, Daugherty Business Solutions',\n",
       " 'Solution Design Group, Intertech (Minnesota)',\n",
       " 'South Carolina Electric & Gas, Virginia Electric and Power',\n",
       " 'Square, Amazon, Apple',\n",
       " 'Square, PayPal, H&R Block',\n",
       " 'TASC, Vencore, Booz Allen Hamilton',\n",
       " 'TEKsystems, Insight Global, Accenture',\n",
       " 'TEKsystems, Kforce, Randstad US',\n",
       " 'The World Bank, IMF',\n",
       " 'Thermo Fisher Scientific, Enzymatics, Illumina',\n",
       " 'Travelers, Allstate, State Farm',\n",
       " 'TrueCar, Cars.com, Kelley Blue Book',\n",
       " 'United Natural Foods, US Foods, DPI Specialty Foods',\n",
       " 'Zola Registry',\n",
       " 'Zurich Insurance, AXA XL, Allianz']"
      ]
     },
     "execution_count": 90,
     "metadata": {},
     "output_type": "execute_result"
    }
   ],
   "source": [
    "# Competitors Columns\n",
    "sorted(data.Competitors.unique())"
   ]
  },
  {
   "cell_type": "code",
   "execution_count": 91,
   "id": "a6a3c9da",
   "metadata": {
    "execution": {
     "iopub.execute_input": "2024-07-22T14:27:56.353938Z",
     "iopub.status.busy": "2024-07-22T14:27:56.353677Z",
     "iopub.status.idle": "2024-07-22T14:27:56.359624Z",
     "shell.execute_reply": "2024-07-22T14:27:56.358762Z"
    },
    "papermill": {
     "duration": 0.033641,
     "end_time": "2024-07-22T14:27:56.361455",
     "exception": false,
     "start_time": "2024-07-22T14:27:56.327814",
     "status": "completed"
    },
    "tags": []
   },
   "outputs": [],
   "source": [
    "data = data.drop('Competitors', axis=1)\n"
   ]
  },
  {
   "cell_type": "code",
   "execution_count": 92,
   "id": "daa48648",
   "metadata": {
    "execution": {
     "iopub.execute_input": "2024-07-22T14:27:56.413849Z",
     "iopub.status.busy": "2024-07-22T14:27:56.413579Z",
     "iopub.status.idle": "2024-07-22T14:27:56.419082Z",
     "shell.execute_reply": "2024-07-22T14:27:56.418279Z"
    },
    "papermill": {
     "duration": 0.033656,
     "end_time": "2024-07-22T14:27:56.421257",
     "exception": false,
     "start_time": "2024-07-22T14:27:56.387601",
     "status": "completed"
    },
    "tags": []
   },
   "outputs": [],
   "source": [
    "# Renaming column 'City' to 'Location'\n",
    "\n",
    "data = data.rename(columns={'City':'Location'})"
   ]
  },
  {
   "cell_type": "code",
   "execution_count": 93,
   "id": "cfe4d84f",
   "metadata": {
    "execution": {
     "iopub.execute_input": "2024-07-22T14:27:56.472390Z",
     "iopub.status.busy": "2024-07-22T14:27:56.472123Z",
     "iopub.status.idle": "2024-07-22T14:27:56.480402Z",
     "shell.execute_reply": "2024-07-22T14:27:56.479556Z"
    },
    "papermill": {
     "duration": 0.035963,
     "end_time": "2024-07-22T14:27:56.482205",
     "exception": false,
     "start_time": "2024-07-22T14:27:56.446242",
     "status": "completed"
    },
    "tags": []
   },
   "outputs": [],
   "source": [
    "# Adding columna 'min_salary','max_salary', and 'avg_salary'\n",
    "\n",
    "data['Min Salary'] = data['Salary Estimate'].apply(lambda x: int(x.split('-')[0]))\n",
    "data['Max Salary'] = data['Salary Estimate'].apply(lambda x: int(x.split('-')[1]))\n",
    "# Calculate average salary\n",
    "data['Average Salary'] = (data['Min Salary'] + data['Max Salary']) / 2"
   ]
  },
  {
   "cell_type": "code",
   "execution_count": 94,
   "id": "c6d986af",
   "metadata": {
    "execution": {
     "iopub.execute_input": "2024-07-22T14:27:56.532434Z",
     "iopub.status.busy": "2024-07-22T14:27:56.532101Z",
     "iopub.status.idle": "2024-07-22T14:27:56.539863Z",
     "shell.execute_reply": "2024-07-22T14:27:56.538877Z"
    },
    "papermill": {
     "duration": 0.035192,
     "end_time": "2024-07-22T14:27:56.541936",
     "exception": false,
     "start_time": "2024-07-22T14:27:56.506744",
     "status": "completed"
    },
    "tags": []
   },
   "outputs": [
    {
     "data": {
      "text/plain": [
       "array(['Same State', 'Different State'], dtype=object)"
      ]
     },
     "execution_count": 94,
     "metadata": {},
     "output_type": "execute_result"
    }
   ],
   "source": [
    "# Create the 'same_state' column\n",
    "data['Same State'] = np.where(data['State'] == data['Headquarters State'], 'Same State', 'Different State')\n",
    "data['Same State'].unique()\n",
    "\n",
    "# data['Headquarters State']"
   ]
  },
  {
   "cell_type": "code",
   "execution_count": 95,
   "id": "af93260c",
   "metadata": {
    "execution": {
     "iopub.execute_input": "2024-07-22T14:27:56.594241Z",
     "iopub.status.busy": "2024-07-22T14:27:56.593944Z",
     "iopub.status.idle": "2024-07-22T14:27:56.599983Z",
     "shell.execute_reply": "2024-07-22T14:27:56.599125Z"
    },
    "papermill": {
     "duration": 0.034111,
     "end_time": "2024-07-22T14:27:56.601962",
     "exception": false,
     "start_time": "2024-07-22T14:27:56.567851",
     "status": "completed"
    },
    "tags": []
   },
   "outputs": [
    {
     "data": {
      "text/plain": [
       "array([1993, 1968, 1981, 2000, 1998, 2010, 1996, 1990, 1983, 2014, 2012,\n",
       "       2016, 1965, 1973, 1986, 1997, 2015, 1945, 1988, 2017, 2011, 1967,\n",
       "       1860, 1992, 2003, 1951, 2005, 2019, 1925, 2008, 1999, 1978, 1966,\n",
       "       1912, 1958, 2013, 1849, 1781, 1926, 2006, 1994, 1863, 1995,   -1,\n",
       "       1982, 1974, 2001, 1985, 1913, 1971, 1911, 2009, 1959, 2007, 1939,\n",
       "       2002, 1961, 1963, 1969, 1946, 1957, 1953, 1948, 1850, 1851, 2004,\n",
       "       1976, 1918, 1954, 1947, 1955, 2018, 1937, 1917, 1935, 1929, 1820,\n",
       "       1952, 1932, 1894, 1960, 1788, 1830, 1984, 1933, 1880, 1887, 1970,\n",
       "       1942, 1980, 1989, 1908, 1853, 1875, 1914, 1898, 1956, 1977, 1987,\n",
       "       1896, 1972, 1949, 1962])"
      ]
     },
     "execution_count": 95,
     "metadata": {},
     "output_type": "execute_result"
    }
   ],
   "source": [
    "# Founded Year Column\n",
    "\n",
    "data.Founded.unique()"
   ]
  },
  {
   "cell_type": "code",
   "execution_count": 96,
   "id": "81989545",
   "metadata": {
    "execution": {
     "iopub.execute_input": "2024-07-22T14:27:56.652914Z",
     "iopub.status.busy": "2024-07-22T14:27:56.652663Z",
     "iopub.status.idle": "2024-07-22T14:27:56.656982Z",
     "shell.execute_reply": "2024-07-22T14:27:56.656196Z"
    },
    "papermill": {
     "duration": 0.03168,
     "end_time": "2024-07-22T14:27:56.658769",
     "exception": false,
     "start_time": "2024-07-22T14:27:56.627089",
     "status": "completed"
    },
    "tags": []
   },
   "outputs": [],
   "source": [
    "data.Founded = np.where(data.Founded == -1,2024,data.Founded)"
   ]
  },
  {
   "cell_type": "code",
   "execution_count": 97,
   "id": "aa372b6a",
   "metadata": {
    "execution": {
     "iopub.execute_input": "2024-07-22T14:27:56.710318Z",
     "iopub.status.busy": "2024-07-22T14:27:56.709609Z",
     "iopub.status.idle": "2024-07-22T14:27:56.716841Z",
     "shell.execute_reply": "2024-07-22T14:27:56.715969Z"
    },
    "papermill": {
     "duration": 0.035247,
     "end_time": "2024-07-22T14:27:56.718842",
     "exception": false,
     "start_time": "2024-07-22T14:27:56.683595",
     "status": "completed"
    },
    "tags": []
   },
   "outputs": [
    {
     "data": {
      "text/plain": [
       "array([ 31,  56,  43,  24,  26,  14,  28,  34,  41,  10,  12,   8,  59,\n",
       "        51,  38,  27,   9,  79,  36,   7,  13,  57, 164,  32,  21,  73,\n",
       "        19,   5,  99,  16,  25,  46,  58, 112,  66,  11, 175, 243,  98,\n",
       "        18,  30, 161,  29,   0,  42,  50,  23,  39, 111,  53, 113,  15,\n",
       "        65,  17,  85,  22,  63,  61,  55,  78,  67,  71,  76, 174, 173,\n",
       "        20,  48, 106,  70,  77,  69,   6,  87, 107,  89,  95, 204,  72,\n",
       "        92, 130,  64, 236, 194,  40,  91, 144, 137,  54,  82,  44,  35,\n",
       "       116, 171, 149, 110, 126,  68,  47,  37, 128,  52,  75,  62])"
      ]
     },
     "execution_count": 97,
     "metadata": {},
     "output_type": "execute_result"
    }
   ],
   "source": [
    "# Create the 'company_age' column\n",
    "\n",
    "data['company_age'] = (datetime.now().year - data.Founded)\n",
    "data['company_age'].unique()"
   ]
  },
  {
   "cell_type": "code",
   "execution_count": 98,
   "id": "b309e8ec",
   "metadata": {
    "execution": {
     "iopub.execute_input": "2024-07-22T14:27:56.770434Z",
     "iopub.status.busy": "2024-07-22T14:27:56.770129Z",
     "iopub.status.idle": "2024-07-22T14:27:56.792473Z",
     "shell.execute_reply": "2024-07-22T14:27:56.791542Z"
    },
    "papermill": {
     "duration": 0.050272,
     "end_time": "2024-07-22T14:27:56.794461",
     "exception": false,
     "start_time": "2024-07-22T14:27:56.744189",
     "status": "completed"
    },
    "tags": []
   },
   "outputs": [],
   "source": [
    "# Creating 'Python' Column with a bolean value generating data from 'Job Description' column\n",
    "\n",
    "def python(skill):\n",
    "    if 'python' in skill.lower():\n",
    "        return 1\n",
    "    else:\n",
    "        return 0\n",
    "data['Python'] = data['Job Description'].apply(python)"
   ]
  },
  {
   "cell_type": "code",
   "execution_count": 99,
   "id": "cc87fa8d",
   "metadata": {
    "execution": {
     "iopub.execute_input": "2024-07-22T14:27:56.846227Z",
     "iopub.status.busy": "2024-07-22T14:27:56.845466Z",
     "iopub.status.idle": "2024-07-22T14:27:56.866742Z",
     "shell.execute_reply": "2024-07-22T14:27:56.866025Z"
    },
    "papermill": {
     "duration": 0.048973,
     "end_time": "2024-07-22T14:27:56.868543",
     "exception": false,
     "start_time": "2024-07-22T14:27:56.819570",
     "status": "completed"
    },
    "tags": []
   },
   "outputs": [],
   "source": [
    "# Creating 'Excel' Column with a bolean value generating data from 'Job Description' column\n",
    "\n",
    "def excel(skill):\n",
    "    if 'excel' in skill.lower():\n",
    "        return 1\n",
    "    else:\n",
    "        return 0\n",
    "data['Excel'] = data['Job Description'].apply(excel)"
   ]
  },
  {
   "cell_type": "code",
   "execution_count": 100,
   "id": "776ad1da",
   "metadata": {
    "execution": {
     "iopub.execute_input": "2024-07-22T14:27:56.922259Z",
     "iopub.status.busy": "2024-07-22T14:27:56.921667Z",
     "iopub.status.idle": "2024-07-22T14:27:56.942641Z",
     "shell.execute_reply": "2024-07-22T14:27:56.941731Z"
    },
    "papermill": {
     "duration": 0.049362,
     "end_time": "2024-07-22T14:27:56.944592",
     "exception": false,
     "start_time": "2024-07-22T14:27:56.895230",
     "status": "completed"
    },
    "tags": []
   },
   "outputs": [],
   "source": [
    "# Creating 'Hadoop' Column with a bolean value generating data from 'Job Description' column\n",
    "\n",
    "def hadoop(skill):\n",
    "    if 'hadoop' in skill.lower():\n",
    "        return 1\n",
    "    else:\n",
    "        return 0\n",
    "data['Hadoop'] = data['Job Description'].apply(hadoop)"
   ]
  },
  {
   "cell_type": "code",
   "execution_count": 101,
   "id": "8452269e",
   "metadata": {
    "execution": {
     "iopub.execute_input": "2024-07-22T14:27:56.995982Z",
     "iopub.status.busy": "2024-07-22T14:27:56.995713Z",
     "iopub.status.idle": "2024-07-22T14:27:57.016375Z",
     "shell.execute_reply": "2024-07-22T14:27:57.015723Z"
    },
    "papermill": {
     "duration": 0.048717,
     "end_time": "2024-07-22T14:27:57.018251",
     "exception": false,
     "start_time": "2024-07-22T14:27:56.969534",
     "status": "completed"
    },
    "tags": []
   },
   "outputs": [],
   "source": [
    "# Creating 'Spark' Column with a bolean value generating data from 'Job Description' column\n",
    "\n",
    "def spark(skill):\n",
    "    if 'spark' in skill.lower():\n",
    "        return 1\n",
    "    else:\n",
    "        return 0\n",
    "data['Spark'] = data['Job Description'].apply(spark)"
   ]
  },
  {
   "cell_type": "code",
   "execution_count": 102,
   "id": "2dd14950",
   "metadata": {
    "execution": {
     "iopub.execute_input": "2024-07-22T14:27:57.070822Z",
     "iopub.status.busy": "2024-07-22T14:27:57.070557Z",
     "iopub.status.idle": "2024-07-22T14:27:57.093697Z",
     "shell.execute_reply": "2024-07-22T14:27:57.092998Z"
    },
    "papermill": {
     "duration": 0.051561,
     "end_time": "2024-07-22T14:27:57.095741",
     "exception": false,
     "start_time": "2024-07-22T14:27:57.044180",
     "status": "completed"
    },
    "tags": []
   },
   "outputs": [],
   "source": [
    "# Creating 'AWS' Column with a bolean value generating data from 'Job Description' column\n",
    "\n",
    "def aws(skill):\n",
    "    if 'aws' in skill.lower():\n",
    "        return 1\n",
    "    else:\n",
    "        return 0\n",
    "data['AWS'] = data['Job Description'].apply(aws)"
   ]
  },
  {
   "cell_type": "code",
   "execution_count": 103,
   "id": "db6ddcad",
   "metadata": {
    "execution": {
     "iopub.execute_input": "2024-07-22T14:27:57.147418Z",
     "iopub.status.busy": "2024-07-22T14:27:57.147111Z",
     "iopub.status.idle": "2024-07-22T14:27:57.168077Z",
     "shell.execute_reply": "2024-07-22T14:27:57.167404Z"
    },
    "papermill": {
     "duration": 0.048786,
     "end_time": "2024-07-22T14:27:57.170019",
     "exception": false,
     "start_time": "2024-07-22T14:27:57.121233",
     "status": "completed"
    },
    "tags": []
   },
   "outputs": [],
   "source": [
    "# Creating 'Tableau' Column with a bolean value generating data from 'Job Description' column\n",
    "\n",
    "def tableau(skill):\n",
    "    if 'tableau' in skill.lower():\n",
    "        return 1\n",
    "    else:\n",
    "        return 0\n",
    "data['Tableau'] = data['Job Description'].apply(tableau)"
   ]
  },
  {
   "cell_type": "code",
   "execution_count": 104,
   "id": "b9e9ad4f",
   "metadata": {
    "execution": {
     "iopub.execute_input": "2024-07-22T14:27:57.221319Z",
     "iopub.status.busy": "2024-07-22T14:27:57.221040Z",
     "iopub.status.idle": "2024-07-22T14:27:57.242398Z",
     "shell.execute_reply": "2024-07-22T14:27:57.241692Z"
    },
    "papermill": {
     "duration": 0.049159,
     "end_time": "2024-07-22T14:27:57.244258",
     "exception": false,
     "start_time": "2024-07-22T14:27:57.195099",
     "status": "completed"
    },
    "tags": []
   },
   "outputs": [],
   "source": [
    "# Creating 'Big Data' Column with a bolean value generating data from 'Job Description' column\n",
    "\n",
    "def big_data(skill):\n",
    "    if 'big data' in skill.lower():\n",
    "        return 1\n",
    "    else:\n",
    "        return 0\n",
    "data['Big Data'] = data['Job Description'].apply(big_data)"
   ]
  },
  {
   "cell_type": "code",
   "execution_count": 105,
   "id": "bfe9109a",
   "metadata": {
    "execution": {
     "iopub.execute_input": "2024-07-22T14:27:57.296309Z",
     "iopub.status.busy": "2024-07-22T14:27:57.296031Z",
     "iopub.status.idle": "2024-07-22T14:27:57.303203Z",
     "shell.execute_reply": "2024-07-22T14:27:57.302472Z"
    },
    "papermill": {
     "duration": 0.036003,
     "end_time": "2024-07-22T14:27:57.305139",
     "exception": false,
     "start_time": "2024-07-22T14:27:57.269136",
     "status": "completed"
    },
    "tags": []
   },
   "outputs": [],
   "source": [
    "# Creating 'Job Type' Column with a bolean value of the job type\n",
    "\n",
    "def Job_type(title):\n",
    "    if 'sr' in title.lower() or 'senior' in title.lower() or 'sr' in title.lower() or 'lead' in title.lower() or 'principal' in title.lower():\n",
    "            return 'Senior'\n",
    "    elif 'jr' in title.lower() or 'jr.' in title.lower():\n",
    "        return 'Junior'\n",
    "    else:\n",
    "        return 'NA'\n",
    "    \n",
    "data['Job Type'] = data['Job Title'].apply(Job_type)"
   ]
  },
  {
   "cell_type": "code",
   "execution_count": 106,
   "id": "32aea619",
   "metadata": {
    "execution": {
     "iopub.execute_input": "2024-07-22T14:27:57.357792Z",
     "iopub.status.busy": "2024-07-22T14:27:57.357517Z",
     "iopub.status.idle": "2024-07-22T14:27:57.363692Z",
     "shell.execute_reply": "2024-07-22T14:27:57.362880Z"
    },
    "papermill": {
     "duration": 0.035001,
     "end_time": "2024-07-22T14:27:57.365606",
     "exception": false,
     "start_time": "2024-07-22T14:27:57.330605",
     "status": "completed"
    },
    "tags": []
   },
   "outputs": [
    {
     "data": {
      "text/plain": [
       "array(['Senior', 'NA', 'Junior'], dtype=object)"
      ]
     },
     "execution_count": 106,
     "metadata": {},
     "output_type": "execute_result"
    }
   ],
   "source": [
    "data['Job Type'].unique()"
   ]
  },
  {
   "cell_type": "code",
   "execution_count": 107,
   "id": "12ec9855",
   "metadata": {
    "execution": {
     "iopub.execute_input": "2024-07-22T14:27:57.419278Z",
     "iopub.status.busy": "2024-07-22T14:27:57.419029Z",
     "iopub.status.idle": "2024-07-22T14:27:57.425054Z",
     "shell.execute_reply": "2024-07-22T14:27:57.424198Z"
    },
    "papermill": {
     "duration": 0.034081,
     "end_time": "2024-07-22T14:27:57.426903",
     "exception": false,
     "start_time": "2024-07-22T14:27:57.392822",
     "status": "completed"
    },
    "tags": []
   },
   "outputs": [],
   "source": [
    "# Reset index so to drop index column\n",
    "\n",
    "data = data.reset_index()"
   ]
  },
  {
   "cell_type": "code",
   "execution_count": 108,
   "id": "46966c68",
   "metadata": {
    "execution": {
     "iopub.execute_input": "2024-07-22T14:27:57.477922Z",
     "iopub.status.busy": "2024-07-22T14:27:57.477684Z",
     "iopub.status.idle": "2024-07-22T14:27:57.482590Z",
     "shell.execute_reply": "2024-07-22T14:27:57.481728Z"
    },
    "papermill": {
     "duration": 0.032601,
     "end_time": "2024-07-22T14:27:57.484498",
     "exception": false,
     "start_time": "2024-07-22T14:27:57.451897",
     "status": "completed"
    },
    "tags": []
   },
   "outputs": [],
   "source": [
    "data = data.drop('index',axis=1)"
   ]
  },
  {
   "cell_type": "code",
   "execution_count": 109,
   "id": "17cc34f0",
   "metadata": {
    "execution": {
     "iopub.execute_input": "2024-07-22T14:27:57.536357Z",
     "iopub.status.busy": "2024-07-22T14:27:57.536053Z",
     "iopub.status.idle": "2024-07-22T14:27:57.553843Z",
     "shell.execute_reply": "2024-07-22T14:27:57.552950Z"
    },
    "papermill": {
     "duration": 0.046085,
     "end_time": "2024-07-22T14:27:57.555702",
     "exception": false,
     "start_time": "2024-07-22T14:27:57.509617",
     "status": "completed"
    },
    "tags": []
   },
   "outputs": [
    {
     "data": {
      "text/plain": [
       "13"
      ]
     },
     "execution_count": 109,
     "metadata": {},
     "output_type": "execute_result"
    }
   ],
   "source": [
    "data.duplicated().sum()"
   ]
  },
  {
   "cell_type": "code",
   "execution_count": 110,
   "id": "652b4d95",
   "metadata": {
    "execution": {
     "iopub.execute_input": "2024-07-22T14:27:57.607482Z",
     "iopub.status.busy": "2024-07-22T14:27:57.607224Z",
     "iopub.status.idle": "2024-07-22T14:27:57.612637Z",
     "shell.execute_reply": "2024-07-22T14:27:57.611808Z"
    },
    "papermill": {
     "duration": 0.033292,
     "end_time": "2024-07-22T14:27:57.614528",
     "exception": false,
     "start_time": "2024-07-22T14:27:57.581236",
     "status": "completed"
    },
    "tags": []
   },
   "outputs": [
    {
     "data": {
      "text/plain": [
       "(672, 29)"
      ]
     },
     "execution_count": 110,
     "metadata": {},
     "output_type": "execute_result"
    }
   ],
   "source": [
    "data.shape"
   ]
  },
  {
   "cell_type": "code",
   "execution_count": 111,
   "id": "33650024",
   "metadata": {
    "execution": {
     "iopub.execute_input": "2024-07-22T14:27:57.666459Z",
     "iopub.status.busy": "2024-07-22T14:27:57.666196Z",
     "iopub.status.idle": "2024-07-22T14:27:57.678690Z",
     "shell.execute_reply": "2024-07-22T14:27:57.677998Z"
    },
    "papermill": {
     "duration": 0.040959,
     "end_time": "2024-07-22T14:27:57.680716",
     "exception": false,
     "start_time": "2024-07-22T14:27:57.639757",
     "status": "completed"
    },
    "tags": []
   },
   "outputs": [],
   "source": [
    "data = data.drop_duplicates()"
   ]
  },
  {
   "cell_type": "code",
   "execution_count": 112,
   "id": "f20f5d63",
   "metadata": {
    "execution": {
     "iopub.execute_input": "2024-07-22T14:27:57.735249Z",
     "iopub.status.busy": "2024-07-22T14:27:57.734964Z",
     "iopub.status.idle": "2024-07-22T14:27:57.740094Z",
     "shell.execute_reply": "2024-07-22T14:27:57.739227Z"
    },
    "papermill": {
     "duration": 0.035998,
     "end_time": "2024-07-22T14:27:57.742062",
     "exception": false,
     "start_time": "2024-07-22T14:27:57.706064",
     "status": "completed"
    },
    "tags": []
   },
   "outputs": [
    {
     "data": {
      "text/plain": [
       "(659, 29)"
      ]
     },
     "execution_count": 112,
     "metadata": {},
     "output_type": "execute_result"
    }
   ],
   "source": [
    "data.shape"
   ]
  },
  {
   "cell_type": "code",
   "execution_count": 113,
   "id": "4e754d41",
   "metadata": {
    "execution": {
     "iopub.execute_input": "2024-07-22T14:27:57.795102Z",
     "iopub.status.busy": "2024-07-22T14:27:57.794841Z",
     "iopub.status.idle": "2024-07-22T14:27:57.841107Z",
     "shell.execute_reply": "2024-07-22T14:27:57.840195Z"
    },
    "papermill": {
     "duration": 0.075542,
     "end_time": "2024-07-22T14:27:57.843307",
     "exception": false,
     "start_time": "2024-07-22T14:27:57.767765",
     "status": "completed"
    },
    "tags": []
   },
   "outputs": [
    {
     "data": {
      "text/html": [
       "<div>\n",
       "<style scoped>\n",
       "    .dataframe tbody tr th:only-of-type {\n",
       "        vertical-align: middle;\n",
       "    }\n",
       "\n",
       "    .dataframe tbody tr th {\n",
       "        vertical-align: top;\n",
       "    }\n",
       "\n",
       "    .dataframe thead th {\n",
       "        text-align: right;\n",
       "    }\n",
       "</style>\n",
       "<table border=\"1\" class=\"dataframe\">\n",
       "  <thead>\n",
       "    <tr style=\"text-align: right;\">\n",
       "      <th></th>\n",
       "      <th>Rating</th>\n",
       "      <th>Founded</th>\n",
       "      <th>Min Salary</th>\n",
       "      <th>Max Salary</th>\n",
       "      <th>Average Salary</th>\n",
       "      <th>company_age</th>\n",
       "      <th>Python</th>\n",
       "      <th>Excel</th>\n",
       "      <th>Hadoop</th>\n",
       "      <th>Spark</th>\n",
       "      <th>AWS</th>\n",
       "      <th>Tableau</th>\n",
       "      <th>Big Data</th>\n",
       "    </tr>\n",
       "  </thead>\n",
       "  <tbody>\n",
       "    <tr>\n",
       "      <th>count</th>\n",
       "      <td>659.000000</td>\n",
       "      <td>659.000000</td>\n",
       "      <td>659.000000</td>\n",
       "      <td>659.000000</td>\n",
       "      <td>659.000000</td>\n",
       "      <td>659.000000</td>\n",
       "      <td>659.000000</td>\n",
       "      <td>659.000000</td>\n",
       "      <td>659.000000</td>\n",
       "      <td>659.000000</td>\n",
       "      <td>659.000000</td>\n",
       "      <td>659.000000</td>\n",
       "      <td>659.000000</td>\n",
       "    </tr>\n",
       "    <tr>\n",
       "      <th>mean</th>\n",
       "      <td>3.651593</td>\n",
       "      <td>1990.494689</td>\n",
       "      <td>99066.767830</td>\n",
       "      <td>148464.339909</td>\n",
       "      <td>123765.553869</td>\n",
       "      <td>33.505311</td>\n",
       "      <td>0.726859</td>\n",
       "      <td>0.447648</td>\n",
       "      <td>0.215478</td>\n",
       "      <td>0.268589</td>\n",
       "      <td>0.247344</td>\n",
       "      <td>0.185129</td>\n",
       "      <td>0.209408</td>\n",
       "    </tr>\n",
       "    <tr>\n",
       "      <th>std</th>\n",
       "      <td>1.090806</td>\n",
       "      <td>40.054498</td>\n",
       "      <td>33266.334795</td>\n",
       "      <td>48387.743556</td>\n",
       "      <td>39907.282895</td>\n",
       "      <td>40.054498</td>\n",
       "      <td>0.445911</td>\n",
       "      <td>0.497629</td>\n",
       "      <td>0.411466</td>\n",
       "      <td>0.443562</td>\n",
       "      <td>0.431796</td>\n",
       "      <td>0.388697</td>\n",
       "      <td>0.407195</td>\n",
       "    </tr>\n",
       "    <tr>\n",
       "      <th>min</th>\n",
       "      <td>0.000000</td>\n",
       "      <td>1781.000000</td>\n",
       "      <td>31000.000000</td>\n",
       "      <td>56000.000000</td>\n",
       "      <td>43500.000000</td>\n",
       "      <td>0.000000</td>\n",
       "      <td>0.000000</td>\n",
       "      <td>0.000000</td>\n",
       "      <td>0.000000</td>\n",
       "      <td>0.000000</td>\n",
       "      <td>0.000000</td>\n",
       "      <td>0.000000</td>\n",
       "      <td>0.000000</td>\n",
       "    </tr>\n",
       "    <tr>\n",
       "      <th>25%</th>\n",
       "      <td>3.400000</td>\n",
       "      <td>1982.500000</td>\n",
       "      <td>79000.000000</td>\n",
       "      <td>119000.000000</td>\n",
       "      <td>103000.000000</td>\n",
       "      <td>10.000000</td>\n",
       "      <td>0.000000</td>\n",
       "      <td>0.000000</td>\n",
       "      <td>0.000000</td>\n",
       "      <td>0.000000</td>\n",
       "      <td>0.000000</td>\n",
       "      <td>0.000000</td>\n",
       "      <td>0.000000</td>\n",
       "    </tr>\n",
       "    <tr>\n",
       "      <th>50%</th>\n",
       "      <td>3.800000</td>\n",
       "      <td>2003.000000</td>\n",
       "      <td>91000.000000</td>\n",
       "      <td>133000.000000</td>\n",
       "      <td>114000.000000</td>\n",
       "      <td>21.000000</td>\n",
       "      <td>1.000000</td>\n",
       "      <td>0.000000</td>\n",
       "      <td>0.000000</td>\n",
       "      <td>0.000000</td>\n",
       "      <td>0.000000</td>\n",
       "      <td>0.000000</td>\n",
       "      <td>0.000000</td>\n",
       "    </tr>\n",
       "    <tr>\n",
       "      <th>75%</th>\n",
       "      <td>4.300000</td>\n",
       "      <td>2014.000000</td>\n",
       "      <td>122000.000000</td>\n",
       "      <td>165000.000000</td>\n",
       "      <td>136500.000000</td>\n",
       "      <td>41.500000</td>\n",
       "      <td>1.000000</td>\n",
       "      <td>1.000000</td>\n",
       "      <td>0.000000</td>\n",
       "      <td>1.000000</td>\n",
       "      <td>0.000000</td>\n",
       "      <td>0.000000</td>\n",
       "      <td>0.000000</td>\n",
       "    </tr>\n",
       "    <tr>\n",
       "      <th>max</th>\n",
       "      <td>5.000000</td>\n",
       "      <td>2024.000000</td>\n",
       "      <td>212000.000000</td>\n",
       "      <td>331000.000000</td>\n",
       "      <td>271500.000000</td>\n",
       "      <td>243.000000</td>\n",
       "      <td>1.000000</td>\n",
       "      <td>1.000000</td>\n",
       "      <td>1.000000</td>\n",
       "      <td>1.000000</td>\n",
       "      <td>1.000000</td>\n",
       "      <td>1.000000</td>\n",
       "      <td>1.000000</td>\n",
       "    </tr>\n",
       "  </tbody>\n",
       "</table>\n",
       "</div>"
      ],
      "text/plain": [
       "           Rating      Founded     Min Salary     Max Salary  Average Salary  \\\n",
       "count  659.000000   659.000000     659.000000     659.000000      659.000000   \n",
       "mean     3.651593  1990.494689   99066.767830  148464.339909   123765.553869   \n",
       "std      1.090806    40.054498   33266.334795   48387.743556    39907.282895   \n",
       "min      0.000000  1781.000000   31000.000000   56000.000000    43500.000000   \n",
       "25%      3.400000  1982.500000   79000.000000  119000.000000   103000.000000   \n",
       "50%      3.800000  2003.000000   91000.000000  133000.000000   114000.000000   \n",
       "75%      4.300000  2014.000000  122000.000000  165000.000000   136500.000000   \n",
       "max      5.000000  2024.000000  212000.000000  331000.000000   271500.000000   \n",
       "\n",
       "       company_age      Python       Excel      Hadoop       Spark  \\\n",
       "count   659.000000  659.000000  659.000000  659.000000  659.000000   \n",
       "mean     33.505311    0.726859    0.447648    0.215478    0.268589   \n",
       "std      40.054498    0.445911    0.497629    0.411466    0.443562   \n",
       "min       0.000000    0.000000    0.000000    0.000000    0.000000   \n",
       "25%      10.000000    0.000000    0.000000    0.000000    0.000000   \n",
       "50%      21.000000    1.000000    0.000000    0.000000    0.000000   \n",
       "75%      41.500000    1.000000    1.000000    0.000000    1.000000   \n",
       "max     243.000000    1.000000    1.000000    1.000000    1.000000   \n",
       "\n",
       "              AWS     Tableau    Big Data  \n",
       "count  659.000000  659.000000  659.000000  \n",
       "mean     0.247344    0.185129    0.209408  \n",
       "std      0.431796    0.388697    0.407195  \n",
       "min      0.000000    0.000000    0.000000  \n",
       "25%      0.000000    0.000000    0.000000  \n",
       "50%      0.000000    0.000000    0.000000  \n",
       "75%      0.000000    0.000000    0.000000  \n",
       "max      1.000000    1.000000    1.000000  "
      ]
     },
     "execution_count": 113,
     "metadata": {},
     "output_type": "execute_result"
    }
   ],
   "source": [
    "data.describe()"
   ]
  },
  {
   "cell_type": "code",
   "execution_count": 114,
   "id": "4bc3f790",
   "metadata": {
    "execution": {
     "iopub.execute_input": "2024-07-22T14:27:57.898810Z",
     "iopub.status.busy": "2024-07-22T14:27:57.898065Z",
     "iopub.status.idle": "2024-07-22T14:27:57.915677Z",
     "shell.execute_reply": "2024-07-22T14:27:57.914705Z"
    },
    "papermill": {
     "duration": 0.046152,
     "end_time": "2024-07-22T14:27:57.917568",
     "exception": false,
     "start_time": "2024-07-22T14:27:57.871416",
     "status": "completed"
    },
    "tags": []
   },
   "outputs": [
    {
     "name": "stdout",
     "output_type": "stream",
     "text": [
      "<class 'pandas.core.frame.DataFrame'>\n",
      "Index: 659 entries, 0 to 671\n",
      "Data columns (total 29 columns):\n",
      " #   Column              Non-Null Count  Dtype  \n",
      "---  ------              --------------  -----  \n",
      " 0   Job Title           659 non-null    object \n",
      " 1   Salary Estimate     659 non-null    object \n",
      " 2   Job Description     659 non-null    object \n",
      " 3   Rating              659 non-null    float64\n",
      " 4   Company Name        659 non-null    object \n",
      " 5   Size                659 non-null    object \n",
      " 6   Founded             659 non-null    int64  \n",
      " 7   Type of ownership   659 non-null    object \n",
      " 8   Industry            659 non-null    object \n",
      " 9   Sector              659 non-null    object \n",
      " 10  Revenue             659 non-null    object \n",
      " 11  Updated Job Title   659 non-null    object \n",
      " 12  Location            637 non-null    object \n",
      " 13  State               637 non-null    object \n",
      " 14  Headquarter         659 non-null    object \n",
      " 15  Headquarters State  639 non-null    object \n",
      " 16  Min Salary          659 non-null    int64  \n",
      " 17  Max Salary          659 non-null    int64  \n",
      " 18  Average Salary      659 non-null    float64\n",
      " 19  Same State          659 non-null    object \n",
      " 20  company_age         659 non-null    int64  \n",
      " 21  Python              659 non-null    int64  \n",
      " 22  Excel               659 non-null    int64  \n",
      " 23  Hadoop              659 non-null    int64  \n",
      " 24  Spark               659 non-null    int64  \n",
      " 25  AWS                 659 non-null    int64  \n",
      " 26  Tableau             659 non-null    int64  \n",
      " 27  Big Data            659 non-null    int64  \n",
      " 28  Job Type            659 non-null    object \n",
      "dtypes: float64(2), int64(11), object(16)\n",
      "memory usage: 154.5+ KB\n"
     ]
    }
   ],
   "source": [
    "data.info()"
   ]
  },
  {
   "cell_type": "code",
   "execution_count": 115,
   "id": "7e92fbb9",
   "metadata": {
    "execution": {
     "iopub.execute_input": "2024-07-22T14:27:57.971766Z",
     "iopub.status.busy": "2024-07-22T14:27:57.971458Z",
     "iopub.status.idle": "2024-07-22T14:27:57.979922Z",
     "shell.execute_reply": "2024-07-22T14:27:57.978941Z"
    },
    "papermill": {
     "duration": 0.037305,
     "end_time": "2024-07-22T14:27:57.982019",
     "exception": false,
     "start_time": "2024-07-22T14:27:57.944714",
     "status": "completed"
    },
    "tags": []
   },
   "outputs": [],
   "source": [
    "# Trimming string data in the dataset\n",
    "data = data.apply(lambda x: x.strip() if isinstance(x,str) else x)"
   ]
  },
  {
   "cell_type": "code",
   "execution_count": 116,
   "id": "4fbe49dd",
   "metadata": {
    "execution": {
     "iopub.execute_input": "2024-07-22T14:27:58.036846Z",
     "iopub.status.busy": "2024-07-22T14:27:58.036587Z",
     "iopub.status.idle": "2024-07-22T14:27:58.063758Z",
     "shell.execute_reply": "2024-07-22T14:27:58.062862Z"
    },
    "papermill": {
     "duration": 0.056065,
     "end_time": "2024-07-22T14:27:58.065706",
     "exception": false,
     "start_time": "2024-07-22T14:27:58.009641",
     "status": "completed"
    },
    "tags": []
   },
   "outputs": [
    {
     "data": {
      "text/html": [
       "<div>\n",
       "<style scoped>\n",
       "    .dataframe tbody tr th:only-of-type {\n",
       "        vertical-align: middle;\n",
       "    }\n",
       "\n",
       "    .dataframe tbody tr th {\n",
       "        vertical-align: top;\n",
       "    }\n",
       "\n",
       "    .dataframe thead th {\n",
       "        text-align: right;\n",
       "    }\n",
       "</style>\n",
       "<table border=\"1\" class=\"dataframe\">\n",
       "  <thead>\n",
       "    <tr style=\"text-align: right;\">\n",
       "      <th></th>\n",
       "      <th>Job Title</th>\n",
       "      <th>Salary Estimate</th>\n",
       "      <th>Job Description</th>\n",
       "      <th>Rating</th>\n",
       "      <th>Company Name</th>\n",
       "      <th>Size</th>\n",
       "      <th>Founded</th>\n",
       "      <th>Type of ownership</th>\n",
       "      <th>Industry</th>\n",
       "      <th>Sector</th>\n",
       "      <th>...</th>\n",
       "      <th>Same State</th>\n",
       "      <th>company_age</th>\n",
       "      <th>Python</th>\n",
       "      <th>Excel</th>\n",
       "      <th>Hadoop</th>\n",
       "      <th>Spark</th>\n",
       "      <th>AWS</th>\n",
       "      <th>Tableau</th>\n",
       "      <th>Big Data</th>\n",
       "      <th>Job Type</th>\n",
       "    </tr>\n",
       "  </thead>\n",
       "  <tbody>\n",
       "    <tr>\n",
       "      <th>0</th>\n",
       "      <td>Sr Data Scientist</td>\n",
       "      <td>137000-171000</td>\n",
       "      <td>Description  The Senior Data Scientist is resp...</td>\n",
       "      <td>3.1</td>\n",
       "      <td>Healthfirst</td>\n",
       "      <td>1001-5000</td>\n",
       "      <td>1993</td>\n",
       "      <td>Nonprofit Organization</td>\n",
       "      <td>Insurance Carriers</td>\n",
       "      <td>Insurance Carriers</td>\n",
       "      <td>...</td>\n",
       "      <td>Same State</td>\n",
       "      <td>31</td>\n",
       "      <td>0</td>\n",
       "      <td>0</td>\n",
       "      <td>0</td>\n",
       "      <td>0</td>\n",
       "      <td>1</td>\n",
       "      <td>0</td>\n",
       "      <td>0</td>\n",
       "      <td>Senior</td>\n",
       "    </tr>\n",
       "    <tr>\n",
       "      <th>1</th>\n",
       "      <td>Data Scientist</td>\n",
       "      <td>137000-171000</td>\n",
       "      <td>Secure our Nation, Ignite your Future  Join th...</td>\n",
       "      <td>4.2</td>\n",
       "      <td>ManTech</td>\n",
       "      <td>5001-10000</td>\n",
       "      <td>1968</td>\n",
       "      <td>Public Company</td>\n",
       "      <td>Research and Development</td>\n",
       "      <td>Research and Development</td>\n",
       "      <td>...</td>\n",
       "      <td>Same State</td>\n",
       "      <td>56</td>\n",
       "      <td>0</td>\n",
       "      <td>0</td>\n",
       "      <td>1</td>\n",
       "      <td>0</td>\n",
       "      <td>0</td>\n",
       "      <td>0</td>\n",
       "      <td>1</td>\n",
       "      <td>NA</td>\n",
       "    </tr>\n",
       "    <tr>\n",
       "      <th>2</th>\n",
       "      <td>Data Scientist</td>\n",
       "      <td>137000-171000</td>\n",
       "      <td>Overview   Analysis Group is one of the larges...</td>\n",
       "      <td>3.8</td>\n",
       "      <td>Analysis Group</td>\n",
       "      <td>1001-5000</td>\n",
       "      <td>1981</td>\n",
       "      <td>Private Company</td>\n",
       "      <td>Consulting</td>\n",
       "      <td>Consulting</td>\n",
       "      <td>...</td>\n",
       "      <td>Same State</td>\n",
       "      <td>43</td>\n",
       "      <td>1</td>\n",
       "      <td>1</td>\n",
       "      <td>0</td>\n",
       "      <td>0</td>\n",
       "      <td>1</td>\n",
       "      <td>0</td>\n",
       "      <td>0</td>\n",
       "      <td>NA</td>\n",
       "    </tr>\n",
       "    <tr>\n",
       "      <th>3</th>\n",
       "      <td>Data Scientist</td>\n",
       "      <td>137000-171000</td>\n",
       "      <td>JOB DESCRIPTION:  Do you have a passion for Da...</td>\n",
       "      <td>3.5</td>\n",
       "      <td>INFICON</td>\n",
       "      <td>501-1000</td>\n",
       "      <td>2000</td>\n",
       "      <td>Public Company</td>\n",
       "      <td>Electrical and Electronic Manufacturing</td>\n",
       "      <td>Electrical and Electronic Manufacturing</td>\n",
       "      <td>...</td>\n",
       "      <td>Different State</td>\n",
       "      <td>24</td>\n",
       "      <td>1</td>\n",
       "      <td>1</td>\n",
       "      <td>0</td>\n",
       "      <td>0</td>\n",
       "      <td>1</td>\n",
       "      <td>0</td>\n",
       "      <td>0</td>\n",
       "      <td>NA</td>\n",
       "    </tr>\n",
       "    <tr>\n",
       "      <th>4</th>\n",
       "      <td>Data Scientist</td>\n",
       "      <td>137000-171000</td>\n",
       "      <td>Data Scientist Affinity Solutions / Marketing ...</td>\n",
       "      <td>2.9</td>\n",
       "      <td>Affinity Solutions</td>\n",
       "      <td>51-200</td>\n",
       "      <td>1998</td>\n",
       "      <td>Private Company</td>\n",
       "      <td>Advertising and Marketing</td>\n",
       "      <td>Advertising and Marketing</td>\n",
       "      <td>...</td>\n",
       "      <td>Same State</td>\n",
       "      <td>26</td>\n",
       "      <td>1</td>\n",
       "      <td>1</td>\n",
       "      <td>0</td>\n",
       "      <td>0</td>\n",
       "      <td>0</td>\n",
       "      <td>0</td>\n",
       "      <td>0</td>\n",
       "      <td>NA</td>\n",
       "    </tr>\n",
       "  </tbody>\n",
       "</table>\n",
       "<p>5 rows × 29 columns</p>\n",
       "</div>"
      ],
      "text/plain": [
       "           Job Title Salary Estimate  \\\n",
       "0  Sr Data Scientist   137000-171000   \n",
       "1     Data Scientist   137000-171000   \n",
       "2     Data Scientist   137000-171000   \n",
       "3     Data Scientist   137000-171000   \n",
       "4     Data Scientist   137000-171000   \n",
       "\n",
       "                                     Job Description  Rating  \\\n",
       "0  Description  The Senior Data Scientist is resp...     3.1   \n",
       "1  Secure our Nation, Ignite your Future  Join th...     4.2   \n",
       "2  Overview   Analysis Group is one of the larges...     3.8   \n",
       "3  JOB DESCRIPTION:  Do you have a passion for Da...     3.5   \n",
       "4  Data Scientist Affinity Solutions / Marketing ...     2.9   \n",
       "\n",
       "         Company Name        Size  Founded       Type of ownership  \\\n",
       "0         Healthfirst   1001-5000     1993  Nonprofit Organization   \n",
       "1             ManTech  5001-10000     1968          Public Company   \n",
       "2      Analysis Group   1001-5000     1981         Private Company   \n",
       "3             INFICON    501-1000     2000          Public Company   \n",
       "4  Affinity Solutions      51-200     1998         Private Company   \n",
       "\n",
       "                                  Industry  \\\n",
       "0                       Insurance Carriers   \n",
       "1                 Research and Development   \n",
       "2                               Consulting   \n",
       "3  Electrical and Electronic Manufacturing   \n",
       "4                Advertising and Marketing   \n",
       "\n",
       "                                    Sector  ...       Same State company_age  \\\n",
       "0                       Insurance Carriers  ...       Same State          31   \n",
       "1                 Research and Development  ...       Same State          56   \n",
       "2                               Consulting  ...       Same State          43   \n",
       "3  Electrical and Electronic Manufacturing  ...  Different State          24   \n",
       "4                Advertising and Marketing  ...       Same State          26   \n",
       "\n",
       "  Python Excel Hadoop Spark  AWS  Tableau  Big Data Job Type  \n",
       "0      0     0      0     0    1        0         0   Senior  \n",
       "1      0     0      1     0    0        0         1       NA  \n",
       "2      1     1      0     0    1        0         0       NA  \n",
       "3      1     1      0     0    1        0         0       NA  \n",
       "4      1     1      0     0    0        0         0       NA  \n",
       "\n",
       "[5 rows x 29 columns]"
      ]
     },
     "execution_count": 116,
     "metadata": {},
     "output_type": "execute_result"
    }
   ],
   "source": [
    "data.head()"
   ]
  },
  {
   "cell_type": "code",
   "execution_count": 117,
   "id": "50c2f6bb",
   "metadata": {},
   "outputs": [],
   "source": [
    "data.to_csv('job_posting_Glassdoor.csv',index=False)"
   ]
  }
 ],
 "metadata": {
  "kaggle": {
   "accelerator": "nvidiaTeslaT4",
   "dataSources": [
    {
     "datasetId": 1201000,
     "sourceId": 2007201,
     "sourceType": "datasetVersion"
    }
   ],
   "dockerImageVersionId": 30746,
   "isGpuEnabled": true,
   "isInternetEnabled": true,
   "language": "python",
   "sourceType": "notebook"
  },
  "kernelspec": {
   "display_name": "Python 3",
   "language": "python",
   "name": "python3"
  },
  "language_info": {
   "codemirror_mode": {
    "name": "ipython",
    "version": 3
   },
   "file_extension": ".py",
   "mimetype": "text/x-python",
   "name": "python",
   "nbconvert_exporter": "python",
   "pygments_lexer": "ipython3",
   "version": "3.12.4"
  },
  "papermill": {
   "default_parameters": {},
   "duration": 8.937287,
   "end_time": "2024-07-22T14:27:58.411520",
   "environment_variables": {},
   "exception": null,
   "input_path": "__notebook__.ipynb",
   "output_path": "__notebook__.ipynb",
   "parameters": {},
   "start_time": "2024-07-22T14:27:49.474233",
   "version": "2.5.0"
  }
 },
 "nbformat": 4,
 "nbformat_minor": 5
}
